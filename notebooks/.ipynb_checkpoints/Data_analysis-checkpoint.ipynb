{
 "cells": [
  {
   "cell_type": "raw",
   "id": "d7ef8268-4aeb-4c67-b471-29ec3c5441ef",
   "metadata": {},
   "source": [
    "---\n",
    "title: \"Telecom Churn Analysis\"\n",
    "author:\n",
    "  - Adeline\n",
    "  - Annick\n",
    "date: '2025-06-30'\n",
    "format:\n",
    "  revealjs:\n",
    "    slide-number: true\n",
    "    chalkboard:\n",
    "      buttons: false\n",
    "    preview-links: auto\n",
    "    logo: images/xcover.png\n",
    "    code-fold: false\n",
    "    code-tools: true\n",
    "jupyter: python3\n",
    "execute:\n",
    "  eval: true\n",
    "  echo: true\n",
    "  warning: false\n",
    "  message: true\n",
    "  background-image: url(\"C:/Users/ADELINE PC/Downloads/Telecom Log.png\")\n",
    "  background-size: cover\n",
    "  class: center, middle, inverse\n",
    "---"
   ]
  },
  {
   "cell_type": "markdown",
   "id": "e940176b-8d9d-4082-8847-372eb783d3ff",
   "metadata": {},
   "source": [
    "# Telecom Churn Rate Dataset - Exploratory and Descriptive Analysis\n",
    "This notebook is focused on the exploratory and descriptive analysis of the cleaned version of the Telecom Churn Rate Dataset.To begin with, we import all the necessary Python libraries required for data handling, analysis, and processing.\r\n",
    "\r\n",
    "- `pandas` for data manipulation\r\n",
    "- `numpy` for numerical operations\r\n",
    "- `os` for handling directory paths"
   ]
  },
  {
   "cell_type": "code",
   "execution_count": 598,
   "id": "1f533ffb-4d0d-495c-82d5-95b223f841d4",
   "metadata": {},
   "outputs": [],
   "source": [
    "# import libraries\n",
    "import pandas as pd\n",
    "import numpy as np\n",
    "import os\n",
    "import plotly.express as px"
   ]
  },
  {
   "cell_type": "markdown",
   "id": "8fa0adb0-9fbb-4a30-9748-7a7ceca3b139",
   "metadata": {},
   "source": [
    "## Define and create Paths\n",
    "We define the folder structure to organize our project. This includes:\r\n",
    "\r\n",
    "- `data/raw` for raw data files\r\n",
    "- `data/processed` for cleaned and transformed datasets\r\n",
    "- `results` for any output files such as plots or models\r\n",
    "- `docs` for documentation or rendered outputs (e.g., HTML, PDF)\r\n",
    "\r\n",
    "We also ensure these directories are created if they don't already exist.\r\n"
   ]
  },
  {
   "cell_type": "code",
   "execution_count": 600,
   "id": "2c88f7a0-6fe8-4447-8676-b56194ad9b40",
   "metadata": {},
   "outputs": [],
   "source": [
    "# get working directory \n",
    "Current_dir = os.getcwd()\n",
    "# on one directory up to the root directory \n",
    "project_root_dir = os.path.dirname(Current_dir)\n",
    "# define paths to the data folders\n",
    "data_dir = os.path.join(project_root_dir,'data')\n",
    "raw_dir = os.path.join(data_dir,'raw')\n",
    "processed_dir = os.path.join(data_dir,'processed')\n",
    "# define paths to result folder \n",
    "results_dir = os.path.join(project_root_dir,'results')\n",
    "# define paths to docs folder \n",
    "docs_dir = os.path.join(project_root_dir,'docs')\n",
    "\n",
    "# create directories if they do not eFileExists \n",
    "os.makedirs(raw_dir, exist_ok = True)\n",
    "os.makedirs(processed_dir, exist_ok = True)\n",
    "os.makedirs(results_dir, exist_ok = True)\n",
    "os.makedirs(docs_dir, exist_ok = True)"
   ]
  },
  {
   "cell_type": "markdown",
   "id": "d7e0d28c-6cae-4cdd-be37-5330781106a0",
   "metadata": {},
   "source": [
    "## Loading the Dataset\n",
    "Now we load the raw dataset (Telecom Churn Rate Dataset) from the `raw` directory using `pandas.read_excel()`.\r\n",
    "\r\n",
    "Missing values are identified using the placeholder `?`, which we convert to `NaN`."
   ]
  },
  {
   "cell_type": "code",
   "execution_count": 602,
   "id": "1efbd872-ecdc-4369-9b24-38b73d713b0e",
   "metadata": {},
   "outputs": [
    {
     "data": {
      "text/html": [
       "<div>\n",
       "<style scoped>\n",
       "    .dataframe tbody tr th:only-of-type {\n",
       "        vertical-align: middle;\n",
       "    }\n",
       "\n",
       "    .dataframe tbody tr th {\n",
       "        vertical-align: top;\n",
       "    }\n",
       "\n",
       "    .dataframe thead th {\n",
       "        text-align: right;\n",
       "    }\n",
       "</style>\n",
       "<table border=\"1\" class=\"dataframe\">\n",
       "  <thead>\n",
       "    <tr style=\"text-align: right;\">\n",
       "      <th></th>\n",
       "      <th>customerID</th>\n",
       "      <th>gender</th>\n",
       "      <th>SeniorCitizen</th>\n",
       "      <th>Partner</th>\n",
       "      <th>Dependents</th>\n",
       "      <th>tenure</th>\n",
       "      <th>PhoneService</th>\n",
       "      <th>MultipleLines</th>\n",
       "      <th>InternetService</th>\n",
       "      <th>OnlineSecurity</th>\n",
       "      <th>...</th>\n",
       "      <th>StreamingTV</th>\n",
       "      <th>StreamingMovies</th>\n",
       "      <th>Contract</th>\n",
       "      <th>PaperlessBilling</th>\n",
       "      <th>PaymentMethod</th>\n",
       "      <th>MonthlyCharges</th>\n",
       "      <th>TotalCharges</th>\n",
       "      <th>numAdminTickets</th>\n",
       "      <th>numTechTickets</th>\n",
       "      <th>Churn</th>\n",
       "    </tr>\n",
       "  </thead>\n",
       "  <tbody>\n",
       "    <tr>\n",
       "      <th>0</th>\n",
       "      <td>7590-vhveg</td>\n",
       "      <td>female</td>\n",
       "      <td>0</td>\n",
       "      <td>yes</td>\n",
       "      <td>no</td>\n",
       "      <td>1</td>\n",
       "      <td>no</td>\n",
       "      <td>no phone service</td>\n",
       "      <td>digital subscriber line</td>\n",
       "      <td>no</td>\n",
       "      <td>...</td>\n",
       "      <td>no</td>\n",
       "      <td>no</td>\n",
       "      <td>month-to-month</td>\n",
       "      <td>yes</td>\n",
       "      <td>electronic check</td>\n",
       "      <td>29.85</td>\n",
       "      <td>29.85</td>\n",
       "      <td>0</td>\n",
       "      <td>0</td>\n",
       "      <td>no</td>\n",
       "    </tr>\n",
       "    <tr>\n",
       "      <th>1</th>\n",
       "      <td>5575-gnvde</td>\n",
       "      <td>male</td>\n",
       "      <td>0</td>\n",
       "      <td>no</td>\n",
       "      <td>no</td>\n",
       "      <td>34</td>\n",
       "      <td>yes</td>\n",
       "      <td>no</td>\n",
       "      <td>digital subscriber line</td>\n",
       "      <td>yes</td>\n",
       "      <td>...</td>\n",
       "      <td>no</td>\n",
       "      <td>no</td>\n",
       "      <td>one year</td>\n",
       "      <td>no</td>\n",
       "      <td>mailed check</td>\n",
       "      <td>56.95</td>\n",
       "      <td>1889.50</td>\n",
       "      <td>0</td>\n",
       "      <td>0</td>\n",
       "      <td>no</td>\n",
       "    </tr>\n",
       "    <tr>\n",
       "      <th>2</th>\n",
       "      <td>3668-qpybk</td>\n",
       "      <td>male</td>\n",
       "      <td>0</td>\n",
       "      <td>no</td>\n",
       "      <td>no</td>\n",
       "      <td>2</td>\n",
       "      <td>yes</td>\n",
       "      <td>no</td>\n",
       "      <td>digital subscriber line</td>\n",
       "      <td>yes</td>\n",
       "      <td>...</td>\n",
       "      <td>no</td>\n",
       "      <td>no</td>\n",
       "      <td>month-to-month</td>\n",
       "      <td>yes</td>\n",
       "      <td>mailed check</td>\n",
       "      <td>53.85</td>\n",
       "      <td>108.15</td>\n",
       "      <td>0</td>\n",
       "      <td>0</td>\n",
       "      <td>yes</td>\n",
       "    </tr>\n",
       "    <tr>\n",
       "      <th>3</th>\n",
       "      <td>7795-cfocw</td>\n",
       "      <td>male</td>\n",
       "      <td>0</td>\n",
       "      <td>no</td>\n",
       "      <td>no</td>\n",
       "      <td>45</td>\n",
       "      <td>no</td>\n",
       "      <td>no phone service</td>\n",
       "      <td>digital subscriber line</td>\n",
       "      <td>yes</td>\n",
       "      <td>...</td>\n",
       "      <td>no</td>\n",
       "      <td>no</td>\n",
       "      <td>one year</td>\n",
       "      <td>no</td>\n",
       "      <td>bank transfer (automatic)</td>\n",
       "      <td>42.30</td>\n",
       "      <td>1840.75</td>\n",
       "      <td>0</td>\n",
       "      <td>3</td>\n",
       "      <td>no</td>\n",
       "    </tr>\n",
       "    <tr>\n",
       "      <th>4</th>\n",
       "      <td>9237-hqitu</td>\n",
       "      <td>female</td>\n",
       "      <td>0</td>\n",
       "      <td>no</td>\n",
       "      <td>no</td>\n",
       "      <td>2</td>\n",
       "      <td>yes</td>\n",
       "      <td>no</td>\n",
       "      <td>fiber optic</td>\n",
       "      <td>no</td>\n",
       "      <td>...</td>\n",
       "      <td>no</td>\n",
       "      <td>no</td>\n",
       "      <td>month-to-month</td>\n",
       "      <td>yes</td>\n",
       "      <td>electronic check</td>\n",
       "      <td>70.70</td>\n",
       "      <td>151.65</td>\n",
       "      <td>0</td>\n",
       "      <td>0</td>\n",
       "      <td>yes</td>\n",
       "    </tr>\n",
       "    <tr>\n",
       "      <th>5</th>\n",
       "      <td>9305-cdskc</td>\n",
       "      <td>female</td>\n",
       "      <td>0</td>\n",
       "      <td>no</td>\n",
       "      <td>no</td>\n",
       "      <td>8</td>\n",
       "      <td>yes</td>\n",
       "      <td>yes</td>\n",
       "      <td>fiber optic</td>\n",
       "      <td>no</td>\n",
       "      <td>...</td>\n",
       "      <td>yes</td>\n",
       "      <td>yes</td>\n",
       "      <td>month-to-month</td>\n",
       "      <td>yes</td>\n",
       "      <td>electronic check</td>\n",
       "      <td>99.65</td>\n",
       "      <td>820.50</td>\n",
       "      <td>0</td>\n",
       "      <td>0</td>\n",
       "      <td>yes</td>\n",
       "    </tr>\n",
       "    <tr>\n",
       "      <th>6</th>\n",
       "      <td>1452-kiovk</td>\n",
       "      <td>male</td>\n",
       "      <td>0</td>\n",
       "      <td>no</td>\n",
       "      <td>yes</td>\n",
       "      <td>22</td>\n",
       "      <td>yes</td>\n",
       "      <td>yes</td>\n",
       "      <td>fiber optic</td>\n",
       "      <td>no</td>\n",
       "      <td>...</td>\n",
       "      <td>yes</td>\n",
       "      <td>no</td>\n",
       "      <td>month-to-month</td>\n",
       "      <td>yes</td>\n",
       "      <td>credit card (automatic)</td>\n",
       "      <td>89.10</td>\n",
       "      <td>1949.40</td>\n",
       "      <td>0</td>\n",
       "      <td>0</td>\n",
       "      <td>no</td>\n",
       "    </tr>\n",
       "    <tr>\n",
       "      <th>7</th>\n",
       "      <td>6713-okomc</td>\n",
       "      <td>female</td>\n",
       "      <td>0</td>\n",
       "      <td>no</td>\n",
       "      <td>no</td>\n",
       "      <td>10</td>\n",
       "      <td>no</td>\n",
       "      <td>no phone service</td>\n",
       "      <td>digital subscriber line</td>\n",
       "      <td>yes</td>\n",
       "      <td>...</td>\n",
       "      <td>no</td>\n",
       "      <td>no</td>\n",
       "      <td>month-to-month</td>\n",
       "      <td>no</td>\n",
       "      <td>mailed check</td>\n",
       "      <td>29.75</td>\n",
       "      <td>301.90</td>\n",
       "      <td>0</td>\n",
       "      <td>0</td>\n",
       "      <td>no</td>\n",
       "    </tr>\n",
       "    <tr>\n",
       "      <th>8</th>\n",
       "      <td>7892-pookp</td>\n",
       "      <td>female</td>\n",
       "      <td>0</td>\n",
       "      <td>yes</td>\n",
       "      <td>no</td>\n",
       "      <td>28</td>\n",
       "      <td>yes</td>\n",
       "      <td>yes</td>\n",
       "      <td>fiber optic</td>\n",
       "      <td>no</td>\n",
       "      <td>...</td>\n",
       "      <td>yes</td>\n",
       "      <td>yes</td>\n",
       "      <td>month-to-month</td>\n",
       "      <td>yes</td>\n",
       "      <td>electronic check</td>\n",
       "      <td>104.80</td>\n",
       "      <td>3046.05</td>\n",
       "      <td>0</td>\n",
       "      <td>2</td>\n",
       "      <td>yes</td>\n",
       "    </tr>\n",
       "    <tr>\n",
       "      <th>9</th>\n",
       "      <td>6388-tabgu</td>\n",
       "      <td>male</td>\n",
       "      <td>0</td>\n",
       "      <td>no</td>\n",
       "      <td>yes</td>\n",
       "      <td>62</td>\n",
       "      <td>yes</td>\n",
       "      <td>no</td>\n",
       "      <td>digital subscriber line</td>\n",
       "      <td>yes</td>\n",
       "      <td>...</td>\n",
       "      <td>no</td>\n",
       "      <td>no</td>\n",
       "      <td>one year</td>\n",
       "      <td>no</td>\n",
       "      <td>bank transfer (automatic)</td>\n",
       "      <td>56.15</td>\n",
       "      <td>3487.95</td>\n",
       "      <td>0</td>\n",
       "      <td>0</td>\n",
       "      <td>no</td>\n",
       "    </tr>\n",
       "  </tbody>\n",
       "</table>\n",
       "<p>10 rows × 23 columns</p>\n",
       "</div>"
      ],
      "text/plain": [
       "   customerID  gender  SeniorCitizen Partner Dependents  tenure PhoneService  \\\n",
       "0  7590-vhveg  female              0     yes         no       1           no   \n",
       "1  5575-gnvde    male              0      no         no      34          yes   \n",
       "2  3668-qpybk    male              0      no         no       2          yes   \n",
       "3  7795-cfocw    male              0      no         no      45           no   \n",
       "4  9237-hqitu  female              0      no         no       2          yes   \n",
       "5  9305-cdskc  female              0      no         no       8          yes   \n",
       "6  1452-kiovk    male              0      no        yes      22          yes   \n",
       "7  6713-okomc  female              0      no         no      10           no   \n",
       "8  7892-pookp  female              0     yes         no      28          yes   \n",
       "9  6388-tabgu    male              0      no        yes      62          yes   \n",
       "\n",
       "      MultipleLines          InternetService OnlineSecurity  ... StreamingTV  \\\n",
       "0  no phone service  digital subscriber line             no  ...          no   \n",
       "1                no  digital subscriber line            yes  ...          no   \n",
       "2                no  digital subscriber line            yes  ...          no   \n",
       "3  no phone service  digital subscriber line            yes  ...          no   \n",
       "4                no              fiber optic             no  ...          no   \n",
       "5               yes              fiber optic             no  ...         yes   \n",
       "6               yes              fiber optic             no  ...         yes   \n",
       "7  no phone service  digital subscriber line            yes  ...          no   \n",
       "8               yes              fiber optic             no  ...         yes   \n",
       "9                no  digital subscriber line            yes  ...          no   \n",
       "\n",
       "  StreamingMovies        Contract PaperlessBilling              PaymentMethod  \\\n",
       "0              no  month-to-month              yes           electronic check   \n",
       "1              no        one year               no               mailed check   \n",
       "2              no  month-to-month              yes               mailed check   \n",
       "3              no        one year               no  bank transfer (automatic)   \n",
       "4              no  month-to-month              yes           electronic check   \n",
       "5             yes  month-to-month              yes           electronic check   \n",
       "6              no  month-to-month              yes    credit card (automatic)   \n",
       "7              no  month-to-month               no               mailed check   \n",
       "8             yes  month-to-month              yes           electronic check   \n",
       "9              no        one year               no  bank transfer (automatic)   \n",
       "\n",
       "  MonthlyCharges TotalCharges numAdminTickets  numTechTickets  Churn  \n",
       "0          29.85        29.85               0               0     no  \n",
       "1          56.95      1889.50               0               0     no  \n",
       "2          53.85       108.15               0               0    yes  \n",
       "3          42.30      1840.75               0               3     no  \n",
       "4          70.70       151.65               0               0    yes  \n",
       "5          99.65       820.50               0               0    yes  \n",
       "6          89.10      1949.40               0               0     no  \n",
       "7          29.75       301.90               0               0     no  \n",
       "8         104.80      3046.05               0               2    yes  \n",
       "9          56.15      3487.95               0               0     no  \n",
       "\n",
       "[10 rows x 23 columns]"
      ]
     },
     "execution_count": 602,
     "metadata": {},
     "output_type": "execute_result"
    }
   ],
   "source": [
    "telecom_filename = os.path.join(processed_dir,'cleaned.xlsx')\n",
    "telecom_df = pd.read_excel(telecom_filename)\n",
    "telecom_df.head(10)"
   ]
  },
  {
   "cell_type": "markdown",
   "id": "4df9d732-b27e-4fc4-b4f4-d9591e97c837",
   "metadata": {},
   "source": [
    "We use `.shape` to see the number of rows and columns in the dataset.\n",
    "This helps us understand the scale of the data."
   ]
  },
  {
   "cell_type": "code",
   "execution_count": 604,
   "id": "828bc42e-c1f9-454a-87bf-4042a12a316b",
   "metadata": {},
   "outputs": [
    {
     "data": {
      "text/plain": [
       "(7043, 23)"
      ]
     },
     "execution_count": 604,
     "metadata": {},
     "output_type": "execute_result"
    }
   ],
   "source": [
    "telecom_df.shape"
   ]
  },
  {
   "cell_type": "markdown",
   "id": "9053500e-e6dc-4bf5-ad76-6d33d8eb7bca",
   "metadata": {},
   "source": [
    "The `.info()` method gives a concise summary of the dataset, including:\n",
    "\n",
    "- Column names and types\n",
    "- Number of non-null entries\n",
    "- Memory usage\n",
    "\n",
    "This helps us assess the completeness of the data and identify potential issues."
   ]
  },
  {
   "cell_type": "code",
   "execution_count": 606,
   "id": "f7d27663-3eb0-4821-b1e5-45a28ed9fb0d",
   "metadata": {},
   "outputs": [
    {
     "name": "stdout",
     "output_type": "stream",
     "text": [
      "<class 'pandas.core.frame.DataFrame'>\n",
      "RangeIndex: 7043 entries, 0 to 7042\n",
      "Data columns (total 23 columns):\n",
      " #   Column            Non-Null Count  Dtype  \n",
      "---  ------            --------------  -----  \n",
      " 0   customerID        7043 non-null   object \n",
      " 1   gender            7043 non-null   object \n",
      " 2   SeniorCitizen     7043 non-null   int64  \n",
      " 3   Partner           7043 non-null   object \n",
      " 4   Dependents        7043 non-null   object \n",
      " 5   tenure            7043 non-null   int64  \n",
      " 6   PhoneService      7043 non-null   object \n",
      " 7   MultipleLines     7043 non-null   object \n",
      " 8   InternetService   7043 non-null   object \n",
      " 9   OnlineSecurity    7043 non-null   object \n",
      " 10  OnlineBackup      7043 non-null   object \n",
      " 11  DeviceProtection  7043 non-null   object \n",
      " 12  TechSupport       7043 non-null   object \n",
      " 13  StreamingTV       7043 non-null   object \n",
      " 14  StreamingMovies   7043 non-null   object \n",
      " 15  Contract          7043 non-null   object \n",
      " 16  PaperlessBilling  7043 non-null   object \n",
      " 17  PaymentMethod     7043 non-null   object \n",
      " 18  MonthlyCharges    7043 non-null   float64\n",
      " 19  TotalCharges      7043 non-null   float64\n",
      " 20  numAdminTickets   7043 non-null   int64  \n",
      " 21  numTechTickets    7043 non-null   int64  \n",
      " 22  Churn             7043 non-null   object \n",
      "dtypes: float64(2), int64(4), object(17)\n",
      "memory usage: 1.2+ MB\n"
     ]
    }
   ],
   "source": [
    "telecom_df.info()"
   ]
  },
  {
   "cell_type": "markdown",
   "id": "5fbb9635-2722-43c4-9329-a0d2cf4f47ca",
   "metadata": {},
   "source": [
    "## Summary statistics\n",
    " Numerical variables"
   ]
  },
  {
   "cell_type": "code",
   "execution_count": 608,
   "id": "d2981bd3-a479-4697-a078-b36b28625061",
   "metadata": {},
   "outputs": [
    {
     "data": {
      "text/html": [
       "<div>\n",
       "<style scoped>\n",
       "    .dataframe tbody tr th:only-of-type {\n",
       "        vertical-align: middle;\n",
       "    }\n",
       "\n",
       "    .dataframe tbody tr th {\n",
       "        vertical-align: top;\n",
       "    }\n",
       "\n",
       "    .dataframe thead th {\n",
       "        text-align: right;\n",
       "    }\n",
       "</style>\n",
       "<table border=\"1\" class=\"dataframe\">\n",
       "  <thead>\n",
       "    <tr style=\"text-align: right;\">\n",
       "      <th></th>\n",
       "      <th>SeniorCitizen</th>\n",
       "      <th>tenure</th>\n",
       "      <th>MonthlyCharges</th>\n",
       "      <th>TotalCharges</th>\n",
       "      <th>numAdminTickets</th>\n",
       "      <th>numTechTickets</th>\n",
       "    </tr>\n",
       "  </thead>\n",
       "  <tbody>\n",
       "    <tr>\n",
       "      <th>count</th>\n",
       "      <td>7043.000000</td>\n",
       "      <td>7043.000000</td>\n",
       "      <td>7043.000000</td>\n",
       "      <td>7043.000000</td>\n",
       "      <td>7043.000000</td>\n",
       "      <td>7043.000000</td>\n",
       "    </tr>\n",
       "    <tr>\n",
       "      <th>mean</th>\n",
       "      <td>0.162147</td>\n",
       "      <td>32.371149</td>\n",
       "      <td>64.761692</td>\n",
       "      <td>2279.734304</td>\n",
       "      <td>0.515689</td>\n",
       "      <td>0.419566</td>\n",
       "    </tr>\n",
       "    <tr>\n",
       "      <th>std</th>\n",
       "      <td>0.368612</td>\n",
       "      <td>24.559481</td>\n",
       "      <td>30.090047</td>\n",
       "      <td>2266.794470</td>\n",
       "      <td>1.275299</td>\n",
       "      <td>1.250117</td>\n",
       "    </tr>\n",
       "    <tr>\n",
       "      <th>min</th>\n",
       "      <td>0.000000</td>\n",
       "      <td>0.000000</td>\n",
       "      <td>18.250000</td>\n",
       "      <td>0.000000</td>\n",
       "      <td>0.000000</td>\n",
       "      <td>0.000000</td>\n",
       "    </tr>\n",
       "    <tr>\n",
       "      <th>25%</th>\n",
       "      <td>0.000000</td>\n",
       "      <td>9.000000</td>\n",
       "      <td>35.500000</td>\n",
       "      <td>398.550000</td>\n",
       "      <td>0.000000</td>\n",
       "      <td>0.000000</td>\n",
       "    </tr>\n",
       "    <tr>\n",
       "      <th>50%</th>\n",
       "      <td>0.000000</td>\n",
       "      <td>29.000000</td>\n",
       "      <td>70.350000</td>\n",
       "      <td>1394.550000</td>\n",
       "      <td>0.000000</td>\n",
       "      <td>0.000000</td>\n",
       "    </tr>\n",
       "    <tr>\n",
       "      <th>75%</th>\n",
       "      <td>0.000000</td>\n",
       "      <td>55.000000</td>\n",
       "      <td>89.850000</td>\n",
       "      <td>3786.600000</td>\n",
       "      <td>0.000000</td>\n",
       "      <td>0.000000</td>\n",
       "    </tr>\n",
       "    <tr>\n",
       "      <th>max</th>\n",
       "      <td>1.000000</td>\n",
       "      <td>72.000000</td>\n",
       "      <td>118.750000</td>\n",
       "      <td>8684.800000</td>\n",
       "      <td>5.000000</td>\n",
       "      <td>9.000000</td>\n",
       "    </tr>\n",
       "  </tbody>\n",
       "</table>\n",
       "</div>"
      ],
      "text/plain": [
       "       SeniorCitizen       tenure  MonthlyCharges  TotalCharges  \\\n",
       "count    7043.000000  7043.000000     7043.000000   7043.000000   \n",
       "mean        0.162147    32.371149       64.761692   2279.734304   \n",
       "std         0.368612    24.559481       30.090047   2266.794470   \n",
       "min         0.000000     0.000000       18.250000      0.000000   \n",
       "25%         0.000000     9.000000       35.500000    398.550000   \n",
       "50%         0.000000    29.000000       70.350000   1394.550000   \n",
       "75%         0.000000    55.000000       89.850000   3786.600000   \n",
       "max         1.000000    72.000000      118.750000   8684.800000   \n",
       "\n",
       "       numAdminTickets  numTechTickets  \n",
       "count      7043.000000     7043.000000  \n",
       "mean          0.515689        0.419566  \n",
       "std           1.275299        1.250117  \n",
       "min           0.000000        0.000000  \n",
       "25%           0.000000        0.000000  \n",
       "50%           0.000000        0.000000  \n",
       "75%           0.000000        0.000000  \n",
       "max           5.000000        9.000000  "
      ]
     },
     "execution_count": 608,
     "metadata": {},
     "output_type": "execute_result"
    }
   ],
   "source": [
    "telecom_df.describe()"
   ]
  },
  {
   "cell_type": "markdown",
   "id": "b447a0b5-a228-4227-bb55-ff068ac203ff",
   "metadata": {},
   "source": [
    "## Categorical Variables"
   ]
  },
  {
   "cell_type": "code",
   "execution_count": 610,
   "id": "18258e70-579f-4eb0-8ab2-b3d65a27366b",
   "metadata": {},
   "outputs": [
    {
     "data": {
      "text/html": [
       "<div>\n",
       "<style scoped>\n",
       "    .dataframe tbody tr th:only-of-type {\n",
       "        vertical-align: middle;\n",
       "    }\n",
       "\n",
       "    .dataframe tbody tr th {\n",
       "        vertical-align: top;\n",
       "    }\n",
       "\n",
       "    .dataframe thead th {\n",
       "        text-align: right;\n",
       "    }\n",
       "</style>\n",
       "<table border=\"1\" class=\"dataframe\">\n",
       "  <thead>\n",
       "    <tr style=\"text-align: right;\">\n",
       "      <th></th>\n",
       "      <th>customerID</th>\n",
       "      <th>gender</th>\n",
       "      <th>Partner</th>\n",
       "      <th>Dependents</th>\n",
       "      <th>PhoneService</th>\n",
       "      <th>MultipleLines</th>\n",
       "      <th>InternetService</th>\n",
       "      <th>OnlineSecurity</th>\n",
       "      <th>OnlineBackup</th>\n",
       "      <th>DeviceProtection</th>\n",
       "      <th>TechSupport</th>\n",
       "      <th>StreamingTV</th>\n",
       "      <th>StreamingMovies</th>\n",
       "      <th>Contract</th>\n",
       "      <th>PaperlessBilling</th>\n",
       "      <th>PaymentMethod</th>\n",
       "      <th>Churn</th>\n",
       "    </tr>\n",
       "  </thead>\n",
       "  <tbody>\n",
       "    <tr>\n",
       "      <th>count</th>\n",
       "      <td>7043</td>\n",
       "      <td>7043</td>\n",
       "      <td>7043</td>\n",
       "      <td>7043</td>\n",
       "      <td>7043</td>\n",
       "      <td>7043</td>\n",
       "      <td>7043</td>\n",
       "      <td>7043</td>\n",
       "      <td>7043</td>\n",
       "      <td>7043</td>\n",
       "      <td>7043</td>\n",
       "      <td>7043</td>\n",
       "      <td>7043</td>\n",
       "      <td>7043</td>\n",
       "      <td>7043</td>\n",
       "      <td>7043</td>\n",
       "      <td>7043</td>\n",
       "    </tr>\n",
       "    <tr>\n",
       "      <th>unique</th>\n",
       "      <td>7043</td>\n",
       "      <td>2</td>\n",
       "      <td>2</td>\n",
       "      <td>2</td>\n",
       "      <td>2</td>\n",
       "      <td>3</td>\n",
       "      <td>3</td>\n",
       "      <td>3</td>\n",
       "      <td>3</td>\n",
       "      <td>3</td>\n",
       "      <td>3</td>\n",
       "      <td>3</td>\n",
       "      <td>3</td>\n",
       "      <td>3</td>\n",
       "      <td>2</td>\n",
       "      <td>4</td>\n",
       "      <td>2</td>\n",
       "    </tr>\n",
       "    <tr>\n",
       "      <th>top</th>\n",
       "      <td>7590-vhveg</td>\n",
       "      <td>male</td>\n",
       "      <td>no</td>\n",
       "      <td>no</td>\n",
       "      <td>yes</td>\n",
       "      <td>no</td>\n",
       "      <td>fiber optic</td>\n",
       "      <td>no</td>\n",
       "      <td>no</td>\n",
       "      <td>no</td>\n",
       "      <td>no</td>\n",
       "      <td>no</td>\n",
       "      <td>no</td>\n",
       "      <td>month-to-month</td>\n",
       "      <td>yes</td>\n",
       "      <td>electronic check</td>\n",
       "      <td>no</td>\n",
       "    </tr>\n",
       "    <tr>\n",
       "      <th>freq</th>\n",
       "      <td>1</td>\n",
       "      <td>3555</td>\n",
       "      <td>3641</td>\n",
       "      <td>4933</td>\n",
       "      <td>6361</td>\n",
       "      <td>3390</td>\n",
       "      <td>3096</td>\n",
       "      <td>3498</td>\n",
       "      <td>3088</td>\n",
       "      <td>3095</td>\n",
       "      <td>3473</td>\n",
       "      <td>2810</td>\n",
       "      <td>2785</td>\n",
       "      <td>3875</td>\n",
       "      <td>4171</td>\n",
       "      <td>2365</td>\n",
       "      <td>5174</td>\n",
       "    </tr>\n",
       "  </tbody>\n",
       "</table>\n",
       "</div>"
      ],
      "text/plain": [
       "        customerID gender Partner Dependents PhoneService MultipleLines  \\\n",
       "count         7043   7043    7043       7043         7043          7043   \n",
       "unique        7043      2       2          2            2             3   \n",
       "top     7590-vhveg   male      no         no          yes            no   \n",
       "freq             1   3555    3641       4933         6361          3390   \n",
       "\n",
       "       InternetService OnlineSecurity OnlineBackup DeviceProtection  \\\n",
       "count             7043           7043         7043             7043   \n",
       "unique               3              3            3                3   \n",
       "top        fiber optic             no           no               no   \n",
       "freq              3096           3498         3088             3095   \n",
       "\n",
       "       TechSupport StreamingTV StreamingMovies        Contract  \\\n",
       "count         7043        7043            7043            7043   \n",
       "unique           3           3               3               3   \n",
       "top             no          no              no  month-to-month   \n",
       "freq          3473        2810            2785            3875   \n",
       "\n",
       "       PaperlessBilling     PaymentMethod Churn  \n",
       "count              7043              7043  7043  \n",
       "unique                2                 4     2  \n",
       "top                 yes  electronic check    no  \n",
       "freq               4171              2365  5174  "
      ]
     },
     "execution_count": 610,
     "metadata": {},
     "output_type": "execute_result"
    }
   ],
   "source": [
    "telecom_df.describe(include='object')"
   ]
  },
  {
   "cell_type": "code",
   "execution_count": 611,
   "id": "b4e6b005-eed6-4eb6-96b2-3ca5e0dd1288",
   "metadata": {},
   "outputs": [
    {
     "data": {
      "text/plain": [
       "gender\n",
       "male      3555\n",
       "female    3488\n",
       "Name: count, dtype: int64"
      ]
     },
     "execution_count": 611,
     "metadata": {},
     "output_type": "execute_result"
    }
   ],
   "source": [
    "telecom_df['gender'].value_counts()"
   ]
  },
  {
   "cell_type": "code",
   "execution_count": 612,
   "id": "b83f7340-1f17-4e92-8b52-78a6ecce952e",
   "metadata": {},
   "outputs": [
    {
     "data": {
      "text/html": [
       "<div>\n",
       "<style scoped>\n",
       "    .dataframe tbody tr th:only-of-type {\n",
       "        vertical-align: middle;\n",
       "    }\n",
       "\n",
       "    .dataframe tbody tr th {\n",
       "        vertical-align: top;\n",
       "    }\n",
       "\n",
       "    .dataframe thead th {\n",
       "        text-align: right;\n",
       "    }\n",
       "</style>\n",
       "<table border=\"1\" class=\"dataframe\">\n",
       "  <thead>\n",
       "    <tr style=\"text-align: right;\">\n",
       "      <th></th>\n",
       "      <th>unique values</th>\n",
       "      <th>proportion</th>\n",
       "    </tr>\n",
       "  </thead>\n",
       "  <tbody>\n",
       "    <tr>\n",
       "      <th>0</th>\n",
       "      <td>male</td>\n",
       "      <td>0.504756</td>\n",
       "    </tr>\n",
       "    <tr>\n",
       "      <th>1</th>\n",
       "      <td>female</td>\n",
       "      <td>0.495244</td>\n",
       "    </tr>\n",
       "  </tbody>\n",
       "</table>\n",
       "</div>"
      ],
      "text/plain": [
       "  unique values  proportion\n",
       "0          male    0.504756\n",
       "1        female    0.495244"
      ]
     },
     "execution_count": 612,
     "metadata": {},
     "output_type": "execute_result"
    }
   ],
   "source": [
    "telecom_df['gender'].value_counts(normalize=True).rename_axis('unique values').reset_index(name='proportion')"
   ]
  },
  {
   "cell_type": "code",
   "execution_count": 613,
   "id": "b1743a22-b0af-42e5-8a46-cf3c395775fe",
   "metadata": {},
   "outputs": [
    {
     "data": {
      "text/plain": [
       "Partner\n",
       "no     3641\n",
       "yes    3402\n",
       "Name: count, dtype: int64"
      ]
     },
     "execution_count": 613,
     "metadata": {},
     "output_type": "execute_result"
    }
   ],
   "source": [
    "telecom_df['Partner'].value_counts()"
   ]
  },
  {
   "cell_type": "code",
   "execution_count": 614,
   "id": "fc96e917-efdd-472e-befd-c852980051b5",
   "metadata": {},
   "outputs": [
    {
     "data": {
      "text/html": [
       "<div>\n",
       "<style scoped>\n",
       "    .dataframe tbody tr th:only-of-type {\n",
       "        vertical-align: middle;\n",
       "    }\n",
       "\n",
       "    .dataframe tbody tr th {\n",
       "        vertical-align: top;\n",
       "    }\n",
       "\n",
       "    .dataframe thead th {\n",
       "        text-align: right;\n",
       "    }\n",
       "</style>\n",
       "<table border=\"1\" class=\"dataframe\">\n",
       "  <thead>\n",
       "    <tr style=\"text-align: right;\">\n",
       "      <th></th>\n",
       "      <th>unique values</th>\n",
       "      <th>proportion</th>\n",
       "    </tr>\n",
       "  </thead>\n",
       "  <tbody>\n",
       "    <tr>\n",
       "      <th>0</th>\n",
       "      <td>no</td>\n",
       "      <td>0.516967</td>\n",
       "    </tr>\n",
       "    <tr>\n",
       "      <th>1</th>\n",
       "      <td>yes</td>\n",
       "      <td>0.483033</td>\n",
       "    </tr>\n",
       "  </tbody>\n",
       "</table>\n",
       "</div>"
      ],
      "text/plain": [
       "  unique values  proportion\n",
       "0            no    0.516967\n",
       "1           yes    0.483033"
      ]
     },
     "execution_count": 614,
     "metadata": {},
     "output_type": "execute_result"
    }
   ],
   "source": [
    "telecom_df['Partner'].value_counts(normalize=True).rename_axis('unique values').reset_index(name='proportion')"
   ]
  },
  {
   "cell_type": "code",
   "execution_count": 615,
   "id": "f524caf0-71b1-4c05-bb79-5aff65b3bc62",
   "metadata": {},
   "outputs": [
    {
     "data": {
      "text/plain": [
       "Dependents\n",
       "no     4933\n",
       "yes    2110\n",
       "Name: count, dtype: int64"
      ]
     },
     "execution_count": 615,
     "metadata": {},
     "output_type": "execute_result"
    }
   ],
   "source": [
    "telecom_df['Dependents'].value_counts()"
   ]
  },
  {
   "cell_type": "code",
   "execution_count": 616,
   "id": "41d805f8-e648-4319-9cf3-28fb6a2197c3",
   "metadata": {},
   "outputs": [
    {
     "data": {
      "text/html": [
       "<div>\n",
       "<style scoped>\n",
       "    .dataframe tbody tr th:only-of-type {\n",
       "        vertical-align: middle;\n",
       "    }\n",
       "\n",
       "    .dataframe tbody tr th {\n",
       "        vertical-align: top;\n",
       "    }\n",
       "\n",
       "    .dataframe thead th {\n",
       "        text-align: right;\n",
       "    }\n",
       "</style>\n",
       "<table border=\"1\" class=\"dataframe\">\n",
       "  <thead>\n",
       "    <tr style=\"text-align: right;\">\n",
       "      <th></th>\n",
       "      <th>unique values</th>\n",
       "      <th>proportion</th>\n",
       "    </tr>\n",
       "  </thead>\n",
       "  <tbody>\n",
       "    <tr>\n",
       "      <th>0</th>\n",
       "      <td>no</td>\n",
       "      <td>0.700412</td>\n",
       "    </tr>\n",
       "    <tr>\n",
       "      <th>1</th>\n",
       "      <td>yes</td>\n",
       "      <td>0.299588</td>\n",
       "    </tr>\n",
       "  </tbody>\n",
       "</table>\n",
       "</div>"
      ],
      "text/plain": [
       "  unique values  proportion\n",
       "0            no    0.700412\n",
       "1           yes    0.299588"
      ]
     },
     "execution_count": 616,
     "metadata": {},
     "output_type": "execute_result"
    }
   ],
   "source": [
    "telecom_df['Dependents'].value_counts(normalize=True).rename_axis('unique values').reset_index(name='proportion')"
   ]
  },
  {
   "cell_type": "code",
   "execution_count": 617,
   "id": "5c5a6eb7-4d0c-4e74-bcf9-e0d402fd30eb",
   "metadata": {},
   "outputs": [
    {
     "data": {
      "text/plain": [
       "PhoneService\n",
       "yes    6361\n",
       "no      682\n",
       "Name: count, dtype: int64"
      ]
     },
     "execution_count": 617,
     "metadata": {},
     "output_type": "execute_result"
    }
   ],
   "source": [
    "telecom_df['PhoneService'].value_counts()"
   ]
  },
  {
   "cell_type": "code",
   "execution_count": 618,
   "id": "9d4bed3c-8733-4a6e-ac45-175ba6120725",
   "metadata": {},
   "outputs": [
    {
     "data": {
      "text/html": [
       "<div>\n",
       "<style scoped>\n",
       "    .dataframe tbody tr th:only-of-type {\n",
       "        vertical-align: middle;\n",
       "    }\n",
       "\n",
       "    .dataframe tbody tr th {\n",
       "        vertical-align: top;\n",
       "    }\n",
       "\n",
       "    .dataframe thead th {\n",
       "        text-align: right;\n",
       "    }\n",
       "</style>\n",
       "<table border=\"1\" class=\"dataframe\">\n",
       "  <thead>\n",
       "    <tr style=\"text-align: right;\">\n",
       "      <th></th>\n",
       "      <th>unique values</th>\n",
       "      <th>proportion</th>\n",
       "    </tr>\n",
       "  </thead>\n",
       "  <tbody>\n",
       "    <tr>\n",
       "      <th>0</th>\n",
       "      <td>yes</td>\n",
       "      <td>0.903166</td>\n",
       "    </tr>\n",
       "    <tr>\n",
       "      <th>1</th>\n",
       "      <td>no</td>\n",
       "      <td>0.096834</td>\n",
       "    </tr>\n",
       "  </tbody>\n",
       "</table>\n",
       "</div>"
      ],
      "text/plain": [
       "  unique values  proportion\n",
       "0           yes    0.903166\n",
       "1            no    0.096834"
      ]
     },
     "execution_count": 618,
     "metadata": {},
     "output_type": "execute_result"
    }
   ],
   "source": [
    "telecom_df['PhoneService'].value_counts(normalize=True).rename_axis('unique values').reset_index(name='proportion')"
   ]
  },
  {
   "cell_type": "code",
   "execution_count": 619,
   "id": "41a97207-a549-4b6c-a5cc-1f846d8c98c0",
   "metadata": {},
   "outputs": [
    {
     "data": {
      "text/plain": [
       "MultipleLines\n",
       "no                  3390\n",
       "yes                 2971\n",
       "no phone service     682\n",
       "Name: count, dtype: int64"
      ]
     },
     "execution_count": 619,
     "metadata": {},
     "output_type": "execute_result"
    }
   ],
   "source": [
    "telecom_df['MultipleLines'].value_counts()"
   ]
  },
  {
   "cell_type": "code",
   "execution_count": 620,
   "id": "aee8ac8b-4feb-41f9-ac86-dc42b8185ab6",
   "metadata": {},
   "outputs": [
    {
     "data": {
      "text/html": [
       "<div>\n",
       "<style scoped>\n",
       "    .dataframe tbody tr th:only-of-type {\n",
       "        vertical-align: middle;\n",
       "    }\n",
       "\n",
       "    .dataframe tbody tr th {\n",
       "        vertical-align: top;\n",
       "    }\n",
       "\n",
       "    .dataframe thead th {\n",
       "        text-align: right;\n",
       "    }\n",
       "</style>\n",
       "<table border=\"1\" class=\"dataframe\">\n",
       "  <thead>\n",
       "    <tr style=\"text-align: right;\">\n",
       "      <th></th>\n",
       "      <th>unique values</th>\n",
       "      <th>proportion</th>\n",
       "    </tr>\n",
       "  </thead>\n",
       "  <tbody>\n",
       "    <tr>\n",
       "      <th>0</th>\n",
       "      <td>no</td>\n",
       "      <td>0.481329</td>\n",
       "    </tr>\n",
       "    <tr>\n",
       "      <th>1</th>\n",
       "      <td>yes</td>\n",
       "      <td>0.421837</td>\n",
       "    </tr>\n",
       "    <tr>\n",
       "      <th>2</th>\n",
       "      <td>no phone service</td>\n",
       "      <td>0.096834</td>\n",
       "    </tr>\n",
       "  </tbody>\n",
       "</table>\n",
       "</div>"
      ],
      "text/plain": [
       "      unique values  proportion\n",
       "0                no    0.481329\n",
       "1               yes    0.421837\n",
       "2  no phone service    0.096834"
      ]
     },
     "execution_count": 620,
     "metadata": {},
     "output_type": "execute_result"
    }
   ],
   "source": [
    "telecom_df['MultipleLines'].value_counts(normalize=True).rename_axis('unique values').reset_index(name='proportion')"
   ]
  },
  {
   "cell_type": "code",
   "execution_count": 621,
   "id": "ad22ba93-35d5-4daf-bf80-50d73cf6cd93",
   "metadata": {},
   "outputs": [
    {
     "data": {
      "text/plain": [
       "InternetService\n",
       "fiber optic                3096\n",
       "digital subscriber line    2421\n",
       "no                         1526\n",
       "Name: count, dtype: int64"
      ]
     },
     "execution_count": 621,
     "metadata": {},
     "output_type": "execute_result"
    }
   ],
   "source": [
    "telecom_df['InternetService'].value_counts()"
   ]
  },
  {
   "cell_type": "code",
   "execution_count": 622,
   "id": "b36f7751-705b-40c6-bb2c-67058089b86f",
   "metadata": {},
   "outputs": [
    {
     "data": {
      "text/html": [
       "<div>\n",
       "<style scoped>\n",
       "    .dataframe tbody tr th:only-of-type {\n",
       "        vertical-align: middle;\n",
       "    }\n",
       "\n",
       "    .dataframe tbody tr th {\n",
       "        vertical-align: top;\n",
       "    }\n",
       "\n",
       "    .dataframe thead th {\n",
       "        text-align: right;\n",
       "    }\n",
       "</style>\n",
       "<table border=\"1\" class=\"dataframe\">\n",
       "  <thead>\n",
       "    <tr style=\"text-align: right;\">\n",
       "      <th></th>\n",
       "      <th>unique values</th>\n",
       "      <th>proportion</th>\n",
       "    </tr>\n",
       "  </thead>\n",
       "  <tbody>\n",
       "    <tr>\n",
       "      <th>0</th>\n",
       "      <td>fiber optic</td>\n",
       "      <td>0.439585</td>\n",
       "    </tr>\n",
       "    <tr>\n",
       "      <th>1</th>\n",
       "      <td>digital subscriber line</td>\n",
       "      <td>0.343746</td>\n",
       "    </tr>\n",
       "    <tr>\n",
       "      <th>2</th>\n",
       "      <td>no</td>\n",
       "      <td>0.216669</td>\n",
       "    </tr>\n",
       "  </tbody>\n",
       "</table>\n",
       "</div>"
      ],
      "text/plain": [
       "             unique values  proportion\n",
       "0              fiber optic    0.439585\n",
       "1  digital subscriber line    0.343746\n",
       "2                       no    0.216669"
      ]
     },
     "execution_count": 622,
     "metadata": {},
     "output_type": "execute_result"
    }
   ],
   "source": [
    "telecom_df['InternetService'].value_counts(normalize=True).rename_axis('unique values').reset_index(name='proportion')"
   ]
  },
  {
   "cell_type": "code",
   "execution_count": 623,
   "id": "a3b4f204-3f2f-46be-b93d-1fbbd964f98f",
   "metadata": {},
   "outputs": [
    {
     "data": {
      "text/plain": [
       "OnlineSecurity\n",
       "no                     3498\n",
       "yes                    2019\n",
       "no internet service    1526\n",
       "Name: count, dtype: int64"
      ]
     },
     "execution_count": 623,
     "metadata": {},
     "output_type": "execute_result"
    }
   ],
   "source": [
    "telecom_df['OnlineSecurity'].value_counts()"
   ]
  },
  {
   "cell_type": "code",
   "execution_count": 624,
   "id": "6a8d45d4-27f0-46b1-a7af-494a0428de22",
   "metadata": {},
   "outputs": [
    {
     "data": {
      "text/html": [
       "<div>\n",
       "<style scoped>\n",
       "    .dataframe tbody tr th:only-of-type {\n",
       "        vertical-align: middle;\n",
       "    }\n",
       "\n",
       "    .dataframe tbody tr th {\n",
       "        vertical-align: top;\n",
       "    }\n",
       "\n",
       "    .dataframe thead th {\n",
       "        text-align: right;\n",
       "    }\n",
       "</style>\n",
       "<table border=\"1\" class=\"dataframe\">\n",
       "  <thead>\n",
       "    <tr style=\"text-align: right;\">\n",
       "      <th></th>\n",
       "      <th>unique values</th>\n",
       "      <th>proportion</th>\n",
       "    </tr>\n",
       "  </thead>\n",
       "  <tbody>\n",
       "    <tr>\n",
       "      <th>0</th>\n",
       "      <td>no</td>\n",
       "      <td>0.496663</td>\n",
       "    </tr>\n",
       "    <tr>\n",
       "      <th>1</th>\n",
       "      <td>yes</td>\n",
       "      <td>0.286668</td>\n",
       "    </tr>\n",
       "    <tr>\n",
       "      <th>2</th>\n",
       "      <td>no internet service</td>\n",
       "      <td>0.216669</td>\n",
       "    </tr>\n",
       "  </tbody>\n",
       "</table>\n",
       "</div>"
      ],
      "text/plain": [
       "         unique values  proportion\n",
       "0                   no    0.496663\n",
       "1                  yes    0.286668\n",
       "2  no internet service    0.216669"
      ]
     },
     "execution_count": 624,
     "metadata": {},
     "output_type": "execute_result"
    }
   ],
   "source": [
    "telecom_df['OnlineSecurity'].value_counts(normalize=True).rename_axis('unique values').reset_index(name='proportion')"
   ]
  },
  {
   "cell_type": "code",
   "execution_count": 625,
   "id": "6142c4f2-6064-4c9c-9592-5f29e78c8aac",
   "metadata": {},
   "outputs": [
    {
     "data": {
      "text/plain": [
       "OnlineBackup\n",
       "no                     3088\n",
       "yes                    2429\n",
       "no internet service    1526\n",
       "Name: count, dtype: int64"
      ]
     },
     "execution_count": 625,
     "metadata": {},
     "output_type": "execute_result"
    }
   ],
   "source": [
    "telecom_df['OnlineBackup'].value_counts()"
   ]
  },
  {
   "cell_type": "code",
   "execution_count": 626,
   "id": "bc7edffb-ad67-4079-ac35-85d0cd01dced",
   "metadata": {},
   "outputs": [
    {
     "data": {
      "text/html": [
       "<div>\n",
       "<style scoped>\n",
       "    .dataframe tbody tr th:only-of-type {\n",
       "        vertical-align: middle;\n",
       "    }\n",
       "\n",
       "    .dataframe tbody tr th {\n",
       "        vertical-align: top;\n",
       "    }\n",
       "\n",
       "    .dataframe thead th {\n",
       "        text-align: right;\n",
       "    }\n",
       "</style>\n",
       "<table border=\"1\" class=\"dataframe\">\n",
       "  <thead>\n",
       "    <tr style=\"text-align: right;\">\n",
       "      <th></th>\n",
       "      <th>unique values</th>\n",
       "      <th>proportion</th>\n",
       "    </tr>\n",
       "  </thead>\n",
       "  <tbody>\n",
       "    <tr>\n",
       "      <th>0</th>\n",
       "      <td>no</td>\n",
       "      <td>0.438450</td>\n",
       "    </tr>\n",
       "    <tr>\n",
       "      <th>1</th>\n",
       "      <td>yes</td>\n",
       "      <td>0.344881</td>\n",
       "    </tr>\n",
       "    <tr>\n",
       "      <th>2</th>\n",
       "      <td>no internet service</td>\n",
       "      <td>0.216669</td>\n",
       "    </tr>\n",
       "  </tbody>\n",
       "</table>\n",
       "</div>"
      ],
      "text/plain": [
       "         unique values  proportion\n",
       "0                   no    0.438450\n",
       "1                  yes    0.344881\n",
       "2  no internet service    0.216669"
      ]
     },
     "execution_count": 626,
     "metadata": {},
     "output_type": "execute_result"
    }
   ],
   "source": [
    "telecom_df['OnlineBackup'].value_counts(normalize=True).rename_axis('unique values').reset_index(name='proportion')"
   ]
  },
  {
   "cell_type": "code",
   "execution_count": 627,
   "id": "9641d4e0-e047-4e1b-b7f3-187454648b34",
   "metadata": {},
   "outputs": [
    {
     "data": {
      "text/plain": [
       "DeviceProtection\n",
       "no                     3095\n",
       "yes                    2422\n",
       "no internet service    1526\n",
       "Name: count, dtype: int64"
      ]
     },
     "execution_count": 627,
     "metadata": {},
     "output_type": "execute_result"
    }
   ],
   "source": [
    "telecom_df['DeviceProtection'].value_counts()"
   ]
  },
  {
   "cell_type": "code",
   "execution_count": 628,
   "id": "749ddb70-5495-4727-8764-1281870093cc",
   "metadata": {},
   "outputs": [
    {
     "data": {
      "text/html": [
       "<div>\n",
       "<style scoped>\n",
       "    .dataframe tbody tr th:only-of-type {\n",
       "        vertical-align: middle;\n",
       "    }\n",
       "\n",
       "    .dataframe tbody tr th {\n",
       "        vertical-align: top;\n",
       "    }\n",
       "\n",
       "    .dataframe thead th {\n",
       "        text-align: right;\n",
       "    }\n",
       "</style>\n",
       "<table border=\"1\" class=\"dataframe\">\n",
       "  <thead>\n",
       "    <tr style=\"text-align: right;\">\n",
       "      <th></th>\n",
       "      <th>unique values</th>\n",
       "      <th>proportion</th>\n",
       "    </tr>\n",
       "  </thead>\n",
       "  <tbody>\n",
       "    <tr>\n",
       "      <th>0</th>\n",
       "      <td>no</td>\n",
       "      <td>0.439443</td>\n",
       "    </tr>\n",
       "    <tr>\n",
       "      <th>1</th>\n",
       "      <td>yes</td>\n",
       "      <td>0.343888</td>\n",
       "    </tr>\n",
       "    <tr>\n",
       "      <th>2</th>\n",
       "      <td>no internet service</td>\n",
       "      <td>0.216669</td>\n",
       "    </tr>\n",
       "  </tbody>\n",
       "</table>\n",
       "</div>"
      ],
      "text/plain": [
       "         unique values  proportion\n",
       "0                   no    0.439443\n",
       "1                  yes    0.343888\n",
       "2  no internet service    0.216669"
      ]
     },
     "execution_count": 628,
     "metadata": {},
     "output_type": "execute_result"
    }
   ],
   "source": [
    "telecom_df['DeviceProtection'].value_counts(normalize=True).rename_axis('unique values').reset_index(name='proportion')"
   ]
  },
  {
   "cell_type": "code",
   "execution_count": 629,
   "id": "8e0712ab-8a3b-43eb-8920-60174064f12f",
   "metadata": {},
   "outputs": [
    {
     "data": {
      "text/plain": [
       "TechSupport\n",
       "no                     3473\n",
       "yes                    2044\n",
       "no internet service    1526\n",
       "Name: count, dtype: int64"
      ]
     },
     "execution_count": 629,
     "metadata": {},
     "output_type": "execute_result"
    }
   ],
   "source": [
    "telecom_df['TechSupport'].value_counts()"
   ]
  },
  {
   "cell_type": "code",
   "execution_count": 630,
   "id": "0c646241-6b7f-484d-ada1-a6417bae3cf7",
   "metadata": {},
   "outputs": [
    {
     "data": {
      "text/html": [
       "<div>\n",
       "<style scoped>\n",
       "    .dataframe tbody tr th:only-of-type {\n",
       "        vertical-align: middle;\n",
       "    }\n",
       "\n",
       "    .dataframe tbody tr th {\n",
       "        vertical-align: top;\n",
       "    }\n",
       "\n",
       "    .dataframe thead th {\n",
       "        text-align: right;\n",
       "    }\n",
       "</style>\n",
       "<table border=\"1\" class=\"dataframe\">\n",
       "  <thead>\n",
       "    <tr style=\"text-align: right;\">\n",
       "      <th></th>\n",
       "      <th>unique values</th>\n",
       "      <th>proportion</th>\n",
       "    </tr>\n",
       "  </thead>\n",
       "  <tbody>\n",
       "    <tr>\n",
       "      <th>0</th>\n",
       "      <td>no</td>\n",
       "      <td>0.493114</td>\n",
       "    </tr>\n",
       "    <tr>\n",
       "      <th>1</th>\n",
       "      <td>yes</td>\n",
       "      <td>0.290217</td>\n",
       "    </tr>\n",
       "    <tr>\n",
       "      <th>2</th>\n",
       "      <td>no internet service</td>\n",
       "      <td>0.216669</td>\n",
       "    </tr>\n",
       "  </tbody>\n",
       "</table>\n",
       "</div>"
      ],
      "text/plain": [
       "         unique values  proportion\n",
       "0                   no    0.493114\n",
       "1                  yes    0.290217\n",
       "2  no internet service    0.216669"
      ]
     },
     "execution_count": 630,
     "metadata": {},
     "output_type": "execute_result"
    }
   ],
   "source": [
    "telecom_df['TechSupport'].value_counts(normalize=True).rename_axis('unique values').reset_index(name='proportion')"
   ]
  },
  {
   "cell_type": "code",
   "execution_count": 631,
   "id": "0517cd5d-96b5-4997-b303-582ddf8c7c44",
   "metadata": {},
   "outputs": [
    {
     "data": {
      "text/plain": [
       "StreamingTV\n",
       "no                     2810\n",
       "yes                    2707\n",
       "no internet service    1526\n",
       "Name: count, dtype: int64"
      ]
     },
     "execution_count": 631,
     "metadata": {},
     "output_type": "execute_result"
    }
   ],
   "source": [
    "telecom_df['StreamingTV'].value_counts()"
   ]
  },
  {
   "cell_type": "code",
   "execution_count": 632,
   "id": "78a6cf9d-f179-483a-a963-9c387424c640",
   "metadata": {},
   "outputs": [
    {
     "data": {
      "text/html": [
       "<div>\n",
       "<style scoped>\n",
       "    .dataframe tbody tr th:only-of-type {\n",
       "        vertical-align: middle;\n",
       "    }\n",
       "\n",
       "    .dataframe tbody tr th {\n",
       "        vertical-align: top;\n",
       "    }\n",
       "\n",
       "    .dataframe thead th {\n",
       "        text-align: right;\n",
       "    }\n",
       "</style>\n",
       "<table border=\"1\" class=\"dataframe\">\n",
       "  <thead>\n",
       "    <tr style=\"text-align: right;\">\n",
       "      <th></th>\n",
       "      <th>unique values</th>\n",
       "      <th>proportion</th>\n",
       "    </tr>\n",
       "  </thead>\n",
       "  <tbody>\n",
       "    <tr>\n",
       "      <th>0</th>\n",
       "      <td>no</td>\n",
       "      <td>0.398978</td>\n",
       "    </tr>\n",
       "    <tr>\n",
       "      <th>1</th>\n",
       "      <td>yes</td>\n",
       "      <td>0.384353</td>\n",
       "    </tr>\n",
       "    <tr>\n",
       "      <th>2</th>\n",
       "      <td>no internet service</td>\n",
       "      <td>0.216669</td>\n",
       "    </tr>\n",
       "  </tbody>\n",
       "</table>\n",
       "</div>"
      ],
      "text/plain": [
       "         unique values  proportion\n",
       "0                   no    0.398978\n",
       "1                  yes    0.384353\n",
       "2  no internet service    0.216669"
      ]
     },
     "execution_count": 632,
     "metadata": {},
     "output_type": "execute_result"
    }
   ],
   "source": [
    "telecom_df['StreamingTV'].value_counts(normalize=True).rename_axis('unique values').reset_index(name='proportion')"
   ]
  },
  {
   "cell_type": "code",
   "execution_count": 633,
   "id": "8d9f67a3-2db6-4e2e-a21c-e135c85e5397",
   "metadata": {},
   "outputs": [
    {
     "data": {
      "text/plain": [
       "Contract\n",
       "month-to-month    3875\n",
       "two year          1695\n",
       "one year          1473\n",
       "Name: count, dtype: int64"
      ]
     },
     "execution_count": 633,
     "metadata": {},
     "output_type": "execute_result"
    }
   ],
   "source": [
    "telecom_df['Contract'].value_counts()"
   ]
  },
  {
   "cell_type": "code",
   "execution_count": 634,
   "id": "5ebc3f6d-a1bf-427f-9170-ab1161f71697",
   "metadata": {},
   "outputs": [
    {
     "data": {
      "text/html": [
       "<div>\n",
       "<style scoped>\n",
       "    .dataframe tbody tr th:only-of-type {\n",
       "        vertical-align: middle;\n",
       "    }\n",
       "\n",
       "    .dataframe tbody tr th {\n",
       "        vertical-align: top;\n",
       "    }\n",
       "\n",
       "    .dataframe thead th {\n",
       "        text-align: right;\n",
       "    }\n",
       "</style>\n",
       "<table border=\"1\" class=\"dataframe\">\n",
       "  <thead>\n",
       "    <tr style=\"text-align: right;\">\n",
       "      <th></th>\n",
       "      <th>unique values</th>\n",
       "      <th>proportion</th>\n",
       "    </tr>\n",
       "  </thead>\n",
       "  <tbody>\n",
       "    <tr>\n",
       "      <th>0</th>\n",
       "      <td>month-to-month</td>\n",
       "      <td>0.550192</td>\n",
       "    </tr>\n",
       "    <tr>\n",
       "      <th>1</th>\n",
       "      <td>two year</td>\n",
       "      <td>0.240664</td>\n",
       "    </tr>\n",
       "    <tr>\n",
       "      <th>2</th>\n",
       "      <td>one year</td>\n",
       "      <td>0.209144</td>\n",
       "    </tr>\n",
       "  </tbody>\n",
       "</table>\n",
       "</div>"
      ],
      "text/plain": [
       "    unique values  proportion\n",
       "0  month-to-month    0.550192\n",
       "1        two year    0.240664\n",
       "2        one year    0.209144"
      ]
     },
     "execution_count": 634,
     "metadata": {},
     "output_type": "execute_result"
    }
   ],
   "source": [
    "telecom_df['Contract'].value_counts(normalize=True).rename_axis('unique values').reset_index(name='proportion')"
   ]
  },
  {
   "cell_type": "code",
   "execution_count": 635,
   "id": "b3825fb0-dca3-455e-871d-a7bdfda20e53",
   "metadata": {},
   "outputs": [
    {
     "data": {
      "text/plain": [
       "PaperlessBilling\n",
       "yes    4171\n",
       "no     2872\n",
       "Name: count, dtype: int64"
      ]
     },
     "execution_count": 635,
     "metadata": {},
     "output_type": "execute_result"
    }
   ],
   "source": [
    "telecom_df['PaperlessBilling'].value_counts()"
   ]
  },
  {
   "cell_type": "code",
   "execution_count": 636,
   "id": "ece52ca9-b58c-4c2c-bcab-8aabb7a3662d",
   "metadata": {},
   "outputs": [
    {
     "data": {
      "text/html": [
       "<div>\n",
       "<style scoped>\n",
       "    .dataframe tbody tr th:only-of-type {\n",
       "        vertical-align: middle;\n",
       "    }\n",
       "\n",
       "    .dataframe tbody tr th {\n",
       "        vertical-align: top;\n",
       "    }\n",
       "\n",
       "    .dataframe thead th {\n",
       "        text-align: right;\n",
       "    }\n",
       "</style>\n",
       "<table border=\"1\" class=\"dataframe\">\n",
       "  <thead>\n",
       "    <tr style=\"text-align: right;\">\n",
       "      <th></th>\n",
       "      <th>unique values</th>\n",
       "      <th>proportion</th>\n",
       "    </tr>\n",
       "  </thead>\n",
       "  <tbody>\n",
       "    <tr>\n",
       "      <th>0</th>\n",
       "      <td>yes</td>\n",
       "      <td>0.592219</td>\n",
       "    </tr>\n",
       "    <tr>\n",
       "      <th>1</th>\n",
       "      <td>no</td>\n",
       "      <td>0.407781</td>\n",
       "    </tr>\n",
       "  </tbody>\n",
       "</table>\n",
       "</div>"
      ],
      "text/plain": [
       "  unique values  proportion\n",
       "0           yes    0.592219\n",
       "1            no    0.407781"
      ]
     },
     "execution_count": 636,
     "metadata": {},
     "output_type": "execute_result"
    }
   ],
   "source": [
    "telecom_df['PaperlessBilling'].value_counts(normalize=True).rename_axis('unique values').reset_index(name='proportion')"
   ]
  },
  {
   "cell_type": "code",
   "execution_count": 637,
   "id": "0116a84a-2612-4603-8a98-f19908f858fd",
   "metadata": {},
   "outputs": [
    {
     "data": {
      "text/plain": [
       "PaymentMethod\n",
       "electronic check             2365\n",
       "mailed check                 1612\n",
       "bank transfer (automatic)    1544\n",
       "credit card (automatic)      1522\n",
       "Name: count, dtype: int64"
      ]
     },
     "execution_count": 637,
     "metadata": {},
     "output_type": "execute_result"
    }
   ],
   "source": [
    "telecom_df['PaymentMethod'].value_counts()"
   ]
  },
  {
   "cell_type": "code",
   "execution_count": 638,
   "id": "bf8ef13b-b372-477a-a2bf-8ede3f0f3554",
   "metadata": {},
   "outputs": [
    {
     "data": {
      "text/html": [
       "<div>\n",
       "<style scoped>\n",
       "    .dataframe tbody tr th:only-of-type {\n",
       "        vertical-align: middle;\n",
       "    }\n",
       "\n",
       "    .dataframe tbody tr th {\n",
       "        vertical-align: top;\n",
       "    }\n",
       "\n",
       "    .dataframe thead th {\n",
       "        text-align: right;\n",
       "    }\n",
       "</style>\n",
       "<table border=\"1\" class=\"dataframe\">\n",
       "  <thead>\n",
       "    <tr style=\"text-align: right;\">\n",
       "      <th></th>\n",
       "      <th>unique values</th>\n",
       "      <th>proportion</th>\n",
       "    </tr>\n",
       "  </thead>\n",
       "  <tbody>\n",
       "    <tr>\n",
       "      <th>0</th>\n",
       "      <td>electronic check</td>\n",
       "      <td>0.335794</td>\n",
       "    </tr>\n",
       "    <tr>\n",
       "      <th>1</th>\n",
       "      <td>mailed check</td>\n",
       "      <td>0.228880</td>\n",
       "    </tr>\n",
       "    <tr>\n",
       "      <th>2</th>\n",
       "      <td>bank transfer (automatic)</td>\n",
       "      <td>0.219225</td>\n",
       "    </tr>\n",
       "    <tr>\n",
       "      <th>3</th>\n",
       "      <td>credit card (automatic)</td>\n",
       "      <td>0.216101</td>\n",
       "    </tr>\n",
       "  </tbody>\n",
       "</table>\n",
       "</div>"
      ],
      "text/plain": [
       "               unique values  proportion\n",
       "0           electronic check    0.335794\n",
       "1               mailed check    0.228880\n",
       "2  bank transfer (automatic)    0.219225\n",
       "3    credit card (automatic)    0.216101"
      ]
     },
     "execution_count": 638,
     "metadata": {},
     "output_type": "execute_result"
    }
   ],
   "source": [
    "telecom_df['PaymentMethod'].value_counts(normalize=True).rename_axis('unique values').reset_index(name='proportion')"
   ]
  },
  {
   "cell_type": "markdown",
   "id": "1e09274a-c54a-45f8-8726-0bd962309ace",
   "metadata": {},
   "source": [
    "## Understanding the Churn Column\n",
    "\n",
    "In our dataset, there is a `Churn` column that indicates whether a customer has left the telecom service or not:\n",
    "\n",
    "- **Yes** – The customer has **churned**, meaning they have **canceled** their service or switched to another provider.\n",
    "- **No** – The customer is **still active**, meaning they have * the telecom company.\n"
   ]
  },
  {
   "cell_type": "code",
   "execution_count": 640,
   "id": "11ce39c5-82f9-4a40-bffd-5d35a6f855dc",
   "metadata": {},
   "outputs": [
    {
     "data": {
      "text/plain": [
       "Churn\n",
       "no     5174\n",
       "yes    1869\n",
       "Name: count, dtype: int64"
      ]
     },
     "execution_count": 640,
     "metadata": {},
     "output_type": "execute_result"
    }
   ],
   "source": [
    "telecom_df['Churn'].value_counts()"
   ]
  },
  {
   "cell_type": "code",
   "execution_count": 641,
   "id": "c902b245-c9e1-4842-82e1-8c072fbde932",
   "metadata": {},
   "outputs": [
    {
     "data": {
      "text/html": [
       "<div>\n",
       "<style scoped>\n",
       "    .dataframe tbody tr th:only-of-type {\n",
       "        vertical-align: middle;\n",
       "    }\n",
       "\n",
       "    .dataframe tbody tr th {\n",
       "        vertical-align: top;\n",
       "    }\n",
       "\n",
       "    .dataframe thead th {\n",
       "        text-align: right;\n",
       "    }\n",
       "</style>\n",
       "<table border=\"1\" class=\"dataframe\">\n",
       "  <thead>\n",
       "    <tr style=\"text-align: right;\">\n",
       "      <th></th>\n",
       "      <th>not churned</th>\n",
       "      <th>churned</th>\n",
       "    </tr>\n",
       "  </thead>\n",
       "  <tbody>\n",
       "    <tr>\n",
       "      <th>0</th>\n",
       "      <td>no</td>\n",
       "      <td>0.73463</td>\n",
       "    </tr>\n",
       "    <tr>\n",
       "      <th>1</th>\n",
       "      <td>yes</td>\n",
       "      <td>0.26537</td>\n",
       "    </tr>\n",
       "  </tbody>\n",
       "</table>\n",
       "</div>"
      ],
      "text/plain": [
       "  not churned  churned\n",
       "0          no  0.73463\n",
       "1         yes  0.26537"
      ]
     },
     "execution_count": 641,
     "metadata": {},
     "output_type": "execute_result"
    }
   ],
   "source": [
    "telecom_df_churn= telecom_df['Churn'].value_counts(normalize=True).rename_axis('not churned').reset_index(name='churned')\n",
    "telecom_df_churn"
   ]
  },
  {
   "cell_type": "markdown",
   "id": "d21e7d52-2941-4ec6-9cc1-37ff7ad3553d",
   "metadata": {},
   "source": [
    "## Churn rate\n",
    " **What is Churn Rate?**\r\n",
    "\r\n",
    "In the telecom industry, **Churn Rate** refers to the percentage of customers who stop using the company's services during a specific period of time.\r\n",
    "\r\n",
    "It is a key performance indicator (KPI) used to measure customer retention and loportant?\r\n",
    "\r\n",
    "High churn rates can signal:\r\n",
    "\r\n",
    "- Poor customer satisfaction\r\n",
    "- High competition\r\n",
    "- Issues with service quality or pricing\r\n",
    "\r\n",
    "Reducing churn is crucial for maintaining revenue and customer base.\r\n"
   ]
  },
  {
   "cell_type": "markdown",
   "id": "8e0847b2-eb72-4dbd-8644-9b6765bc7523",
   "metadata": {},
   "source": [
    "telecom_df_churn = telecom_df.groupby('Churn').size().reset_index(name='churn_total')\n",
    "telecom_df_churn"
   ]
  },
  {
   "cell_type": "code",
   "execution_count": 644,
   "id": "5147c2c0-6f60-4dae-a259-48c1bfd78f96",
   "metadata": {},
   "outputs": [
    {
     "data": {
      "application/vnd.plotly.v1+json": {
       "config": {
        "plotlyServerURL": "https://plot.ly"
       },
       "data": [
        {
         "domain": {
          "x": [
           0,
           1
          ],
          "y": [
           0,
           1
          ]
         },
         "hovertemplate": "label=%{label}<br>churned=%{value}<extra></extra>",
         "labels": [
          "not churned",
          "churned"
         ],
         "legendgroup": "",
         "name": "",
         "showlegend": true,
         "type": "pie",
         "values": {
          "_inputArray": {
           "0": 0.7346301292063041,
           "1": 0.2653698707936959,
           "bdata": "VR1zCxeC5z9WxRnp0fvQPw==",
           "dtype": "f8",
           "shape": "2"
          },
          "bdata": "VR1zCxeC5z9WxRnp0fvQPw==",
          "dtype": "f8"
         }
        }
       ],
       "layout": {
        "autosize": true,
        "legend": {
         "tracegroupgap": 0
        },
        "paper_bgcolor": "rgba(0, 0, 0, 0)",
        "piecolorway": [
         "yellow",
         "orange"
        ],
        "plot_bgcolor": "rgba(0, 0, 0, 0)",
        "template": {
         "data": {
          "pie": [
           {
            "automargin": true,
            "type": "pie"
           }
          ],
          "scatter": [
           {
            "line": {
             "width": 3
            },
            "marker": {
             "size": 9
            },
            "type": "scatter"
           }
          ],
          "scatter3d": [
           {
            "line": {
             "width": 3
            },
            "marker": {
             "size": 9
            },
            "type": "scatter3d"
           }
          ],
          "scattergeo": [
           {
            "line": {
             "width": 3
            },
            "marker": {
             "size": 9
            },
            "type": "scattergeo"
           }
          ],
          "scattergl": [
           {
            "line": {
             "width": 3
            },
            "marker": {
             "size": 9
            },
            "type": "scattergl"
           }
          ],
          "scatterpolar": [
           {
            "line": {
             "width": 3
            },
            "marker": {
             "size": 9
            },
            "type": "scatterpolar"
           }
          ],
          "scatterpolargl": [
           {
            "line": {
             "width": 3
            },
            "marker": {
             "size": 9
            },
            "type": "scatterpolargl"
           }
          ],
          "scatterternary": [
           {
            "line": {
             "width": 3
            },
            "marker": {
             "size": 9
            },
            "type": "scatterternary"
           }
          ],
          "table": [
           {
            "cells": {
             "height": 30
            },
            "header": {
             "height": 36
            },
            "type": "table"
           }
          ]
         },
         "layout": {
          "font": {
           "size": 18
          },
          "xaxis": {
           "title": {
            "standoff": 15
           }
          },
          "yaxis": {
           "title": {
            "standoff": 15
           }
          }
         }
        },
        "title": {
         "text": "Churn Rate"
        }
       }
      },
      "image/png": "[encoded data removed]"
     },
     "metadata": {},
     "output_type": "display_data"
    },
    {
     "name": "stderr",
     "output_type": "stream",
     "text": [
      "WARNING\tThread(Thread-136 (run)) Task(Task-2414) choreographer.browser_async:browser_async.py:_close()- Resorting to unclean kill browser.\n"
     ]
    },
    {
     "ename": "RuntimeError",
     "evalue": "Couldn't close or kill browser subprocess",
     "output_type": "error",
     "traceback": [
      "\u001b[1;31m---------------------------------------------------------------------------\u001b[0m",
      "\u001b[1;31mRuntimeError\u001b[0m                              Traceback (most recent call last)",
      "Cell \u001b[1;32mIn[644], line 27\u001b[0m\n\u001b[0;32m     24\u001b[0m results_dir \u001b[38;5;241m=\u001b[39m \u001b[38;5;124m\"\u001b[39m\u001b[38;5;124mresults\u001b[39m\u001b[38;5;124m\"\u001b[39m\n\u001b[0;32m     25\u001b[0m os\u001b[38;5;241m.\u001b[39mmakedirs(results_dir, exist_ok\u001b[38;5;241m=\u001b[39m\u001b[38;5;28;01mTrue\u001b[39;00m)\n\u001b[1;32m---> 27\u001b[0m fig\u001b[38;5;241m.\u001b[39mwrite_image(os\u001b[38;5;241m.\u001b[39mpath\u001b[38;5;241m.\u001b[39mjoin(results_dir, \u001b[38;5;124m'\u001b[39m\u001b[38;5;124mChurn_Rate_pie_chart.jpg\u001b[39m\u001b[38;5;124m'\u001b[39m))\n\u001b[0;32m     28\u001b[0m fig\u001b[38;5;241m.\u001b[39mwrite_image(os\u001b[38;5;241m.\u001b[39mpath\u001b[38;5;241m.\u001b[39mjoin(results_dir, \u001b[38;5;124m'\u001b[39m\u001b[38;5;124mChurn_Rate_pie_chart.png\u001b[39m\u001b[38;5;124m'\u001b[39m))\n\u001b[0;32m     29\u001b[0m fig\u001b[38;5;241m.\u001b[39mwrite_html(os\u001b[38;5;241m.\u001b[39mpath\u001b[38;5;241m.\u001b[39mjoin(results_dir, \u001b[38;5;124m'\u001b[39m\u001b[38;5;124mChurn_Rate_pie_chart.html\u001b[39m\u001b[38;5;124m'\u001b[39m))\n",
      "File \u001b[1;32m~\\PYTHON\\Lib\\site-packages\\plotly\\basedatatypes.py:3911\u001b[0m, in \u001b[0;36mBaseFigure.write_image\u001b[1;34m(self, *args, **kwargs)\u001b[0m\n\u001b[0;32m   3907\u001b[0m     \u001b[38;5;28;01mif\u001b[39;00m kwargs\u001b[38;5;241m.\u001b[39mget(\u001b[38;5;124m\"\u001b[39m\u001b[38;5;124mengine\u001b[39m\u001b[38;5;124m\"\u001b[39m, \u001b[38;5;28;01mNone\u001b[39;00m):\n\u001b[0;32m   3908\u001b[0m         warnings\u001b[38;5;241m.\u001b[39mwarn(\n\u001b[0;32m   3909\u001b[0m             ENGINE_PARAM_DEPRECATION_MSG, \u001b[38;5;167;01mDeprecationWarning\u001b[39;00m, stacklevel\u001b[38;5;241m=\u001b[39m\u001b[38;5;241m2\u001b[39m\n\u001b[0;32m   3910\u001b[0m         )\n\u001b[1;32m-> 3911\u001b[0m \u001b[38;5;28;01mreturn\u001b[39;00m pio\u001b[38;5;241m.\u001b[39mwrite_image(\u001b[38;5;28mself\u001b[39m, \u001b[38;5;241m*\u001b[39margs, \u001b[38;5;241m*\u001b[39m\u001b[38;5;241m*\u001b[39mkwargs)\n",
      "File \u001b[1;32m~\\PYTHON\\Lib\\site-packages\\plotly\\io\\_kaleido.py:509\u001b[0m, in \u001b[0;36mwrite_image\u001b[1;34m(fig, file, format, scale, width, height, validate, engine)\u001b[0m\n\u001b[0;32m    505\u001b[0m \u001b[38;5;28mformat\u001b[39m \u001b[38;5;241m=\u001b[39m infer_format(path, \u001b[38;5;28mformat\u001b[39m)\n\u001b[0;32m    507\u001b[0m \u001b[38;5;66;03m# Request image\u001b[39;00m\n\u001b[0;32m    508\u001b[0m \u001b[38;5;66;03m# Do this first so we don't create a file if image conversion fails\u001b[39;00m\n\u001b[1;32m--> 509\u001b[0m img_data \u001b[38;5;241m=\u001b[39m to_image(\n\u001b[0;32m    510\u001b[0m     fig,\n\u001b[0;32m    511\u001b[0m     \u001b[38;5;28mformat\u001b[39m\u001b[38;5;241m=\u001b[39m\u001b[38;5;28mformat\u001b[39m,\n\u001b[0;32m    512\u001b[0m     scale\u001b[38;5;241m=\u001b[39mscale,\n\u001b[0;32m    513\u001b[0m     width\u001b[38;5;241m=\u001b[39mwidth,\n\u001b[0;32m    514\u001b[0m     height\u001b[38;5;241m=\u001b[39mheight,\n\u001b[0;32m    515\u001b[0m     validate\u001b[38;5;241m=\u001b[39mvalidate,\n\u001b[0;32m    516\u001b[0m     engine\u001b[38;5;241m=\u001b[39mengine,\n\u001b[0;32m    517\u001b[0m )\n\u001b[0;32m    519\u001b[0m \u001b[38;5;66;03m# Open file\u001b[39;00m\n\u001b[0;32m    520\u001b[0m \u001b[38;5;28;01mif\u001b[39;00m path \u001b[38;5;129;01mis\u001b[39;00m \u001b[38;5;28;01mNone\u001b[39;00m:\n\u001b[0;32m    521\u001b[0m     \u001b[38;5;66;03m# We previously failed to make sense of `file` as a pathlib object.\u001b[39;00m\n\u001b[0;32m    522\u001b[0m     \u001b[38;5;66;03m# Attempt to write to `file` as an open file descriptor.\u001b[39;00m\n",
      "File \u001b[1;32m~\\PYTHON\\Lib\\site-packages\\plotly\\io\\_kaleido.py:373\u001b[0m, in \u001b[0;36mto_image\u001b[1;34m(fig, format, width, height, scale, validate, engine)\u001b[0m\n\u001b[0;32m    369\u001b[0m \u001b[38;5;28;01mfrom\u001b[39;00m \u001b[38;5;21;01mkaleido\u001b[39;00m\u001b[38;5;21;01m.\u001b[39;00m\u001b[38;5;21;01merrors\u001b[39;00m \u001b[38;5;28;01mimport\u001b[39;00m ChromeNotFoundError\n\u001b[0;32m    371\u001b[0m \u001b[38;5;28;01mtry\u001b[39;00m:\n\u001b[0;32m    372\u001b[0m     \u001b[38;5;66;03m# TODO: Refactor to make it possible to use a shared Kaleido instance here\u001b[39;00m\n\u001b[1;32m--> 373\u001b[0m     img_bytes \u001b[38;5;241m=\u001b[39m kaleido\u001b[38;5;241m.\u001b[39mcalc_fig_sync(\n\u001b[0;32m    374\u001b[0m         fig_dict,\n\u001b[0;32m    375\u001b[0m         opts\u001b[38;5;241m=\u001b[39m\u001b[38;5;28mdict\u001b[39m(\n\u001b[0;32m    376\u001b[0m             \u001b[38;5;28mformat\u001b[39m\u001b[38;5;241m=\u001b[39m\u001b[38;5;28mformat\u001b[39m \u001b[38;5;129;01mor\u001b[39;00m defaults\u001b[38;5;241m.\u001b[39mdefault_format,\n\u001b[0;32m    377\u001b[0m             width\u001b[38;5;241m=\u001b[39mwidth \u001b[38;5;129;01mor\u001b[39;00m defaults\u001b[38;5;241m.\u001b[39mdefault_width,\n\u001b[0;32m    378\u001b[0m             height\u001b[38;5;241m=\u001b[39mheight \u001b[38;5;129;01mor\u001b[39;00m defaults\u001b[38;5;241m.\u001b[39mdefault_height,\n\u001b[0;32m    379\u001b[0m             scale\u001b[38;5;241m=\u001b[39mscale \u001b[38;5;129;01mor\u001b[39;00m defaults\u001b[38;5;241m.\u001b[39mdefault_scale,\n\u001b[0;32m    380\u001b[0m         ),\n\u001b[0;32m    381\u001b[0m         topojson\u001b[38;5;241m=\u001b[39mdefaults\u001b[38;5;241m.\u001b[39mtopojson,\n\u001b[0;32m    382\u001b[0m         kopts\u001b[38;5;241m=\u001b[39m(\n\u001b[0;32m    383\u001b[0m             \u001b[38;5;28mdict\u001b[39m(\n\u001b[0;32m    384\u001b[0m                 mathjax\u001b[38;5;241m=\u001b[39mdefaults\u001b[38;5;241m.\u001b[39mmathjax,\n\u001b[0;32m    385\u001b[0m             )\n\u001b[0;32m    386\u001b[0m             \u001b[38;5;28;01mif\u001b[39;00m defaults\u001b[38;5;241m.\u001b[39mmathjax\n\u001b[0;32m    387\u001b[0m             \u001b[38;5;28;01melse\u001b[39;00m \u001b[38;5;28;01mNone\u001b[39;00m\n\u001b[0;32m    388\u001b[0m         ),\n\u001b[0;32m    389\u001b[0m     )\n\u001b[0;32m    390\u001b[0m \u001b[38;5;28;01mexcept\u001b[39;00m ChromeNotFoundError:\n\u001b[0;32m    391\u001b[0m     \u001b[38;5;28;01mraise\u001b[39;00m \u001b[38;5;167;01mRuntimeError\u001b[39;00m(PLOTLY_GET_CHROME_ERROR_MSG)\n",
      "File \u001b[1;32m~\\PYTHON\\Lib\\site-packages\\kaleido\\__init__.py:145\u001b[0m, in \u001b[0;36mcalc_fig_sync\u001b[1;34m(*args, **kwargs)\u001b[0m\n\u001b[0;32m    143\u001b[0m \u001b[38;5;28;01mdef\u001b[39;00m \u001b[38;5;21mcalc_fig_sync\u001b[39m(\u001b[38;5;241m*\u001b[39margs, \u001b[38;5;241m*\u001b[39m\u001b[38;5;241m*\u001b[39mkwargs):\n\u001b[0;32m    144\u001b[0m \u001b[38;5;250m    \u001b[39m\u001b[38;5;124;03m\"\"\"Call `calc_fig` but blocking.\"\"\"\u001b[39;00m\n\u001b[1;32m--> 145\u001b[0m     \u001b[38;5;28;01mreturn\u001b[39;00m _async_thread_run(calc_fig, args\u001b[38;5;241m=\u001b[39margs, kwargs\u001b[38;5;241m=\u001b[39mkwargs)\n",
      "File \u001b[1;32m~\\PYTHON\\Lib\\site-packages\\kaleido\\__init__.py:138\u001b[0m, in \u001b[0;36m_async_thread_run\u001b[1;34m(func, args, kwargs)\u001b[0m\n\u001b[0;32m    136\u001b[0m res \u001b[38;5;241m=\u001b[39m q\u001b[38;5;241m.\u001b[39mget()\n\u001b[0;32m    137\u001b[0m \u001b[38;5;28;01mif\u001b[39;00m \u001b[38;5;28misinstance\u001b[39m(res, \u001b[38;5;167;01mBaseException\u001b[39;00m):\n\u001b[1;32m--> 138\u001b[0m     \u001b[38;5;28;01mraise\u001b[39;00m res\n\u001b[0;32m    139\u001b[0m \u001b[38;5;28;01melse\u001b[39;00m:\n\u001b[0;32m    140\u001b[0m     \u001b[38;5;28;01mreturn\u001b[39;00m res\n",
      "File \u001b[1;32m~\\PYTHON\\Lib\\site-packages\\kaleido\\__init__.py:129\u001b[0m, in \u001b[0;36m_async_thread_run.<locals>.run\u001b[1;34m(*args, **kwargs)\u001b[0m\n\u001b[0;32m    126\u001b[0m \u001b[38;5;28;01mdef\u001b[39;00m \u001b[38;5;21mrun\u001b[39m(\u001b[38;5;241m*\u001b[39margs, \u001b[38;5;241m*\u001b[39m\u001b[38;5;241m*\u001b[39mkwargs):\n\u001b[0;32m    127\u001b[0m     \u001b[38;5;66;03m# func is a closure\u001b[39;00m\n\u001b[0;32m    128\u001b[0m     \u001b[38;5;28;01mtry\u001b[39;00m:\n\u001b[1;32m--> 129\u001b[0m         q\u001b[38;5;241m.\u001b[39mput(asyncio\u001b[38;5;241m.\u001b[39mrun(func(\u001b[38;5;241m*\u001b[39margs, \u001b[38;5;241m*\u001b[39m\u001b[38;5;241m*\u001b[39mkwargs)))\n\u001b[0;32m    130\u001b[0m     \u001b[38;5;28;01mexcept\u001b[39;00m \u001b[38;5;167;01mBaseException\u001b[39;00m \u001b[38;5;28;01mas\u001b[39;00m e:  \u001b[38;5;66;03m# noqa: BLE001\u001b[39;00m\n\u001b[0;32m    131\u001b[0m         q\u001b[38;5;241m.\u001b[39mput(e)\n",
      "File \u001b[1;32m~\\PYTHON\\Lib\\asyncio\\runners.py:194\u001b[0m, in \u001b[0;36mrun\u001b[1;34m(main, debug, loop_factory)\u001b[0m\n\u001b[0;32m    190\u001b[0m     \u001b[38;5;28;01mraise\u001b[39;00m \u001b[38;5;167;01mRuntimeError\u001b[39;00m(\n\u001b[0;32m    191\u001b[0m         \u001b[38;5;124m\"\u001b[39m\u001b[38;5;124masyncio.run() cannot be called from a running event loop\u001b[39m\u001b[38;5;124m\"\u001b[39m)\n\u001b[0;32m    193\u001b[0m \u001b[38;5;28;01mwith\u001b[39;00m Runner(debug\u001b[38;5;241m=\u001b[39mdebug, loop_factory\u001b[38;5;241m=\u001b[39mloop_factory) \u001b[38;5;28;01mas\u001b[39;00m runner:\n\u001b[1;32m--> 194\u001b[0m     \u001b[38;5;28;01mreturn\u001b[39;00m runner\u001b[38;5;241m.\u001b[39mrun(main)\n",
      "File \u001b[1;32m~\\PYTHON\\Lib\\asyncio\\runners.py:118\u001b[0m, in \u001b[0;36mRunner.run\u001b[1;34m(self, coro, context)\u001b[0m\n\u001b[0;32m    116\u001b[0m \u001b[38;5;28mself\u001b[39m\u001b[38;5;241m.\u001b[39m_interrupt_count \u001b[38;5;241m=\u001b[39m \u001b[38;5;241m0\u001b[39m\n\u001b[0;32m    117\u001b[0m \u001b[38;5;28;01mtry\u001b[39;00m:\n\u001b[1;32m--> 118\u001b[0m     \u001b[38;5;28;01mreturn\u001b[39;00m \u001b[38;5;28mself\u001b[39m\u001b[38;5;241m.\u001b[39m_loop\u001b[38;5;241m.\u001b[39mrun_until_complete(task)\n\u001b[0;32m    119\u001b[0m \u001b[38;5;28;01mexcept\u001b[39;00m exceptions\u001b[38;5;241m.\u001b[39mCancelledError:\n\u001b[0;32m    120\u001b[0m     \u001b[38;5;28;01mif\u001b[39;00m \u001b[38;5;28mself\u001b[39m\u001b[38;5;241m.\u001b[39m_interrupt_count \u001b[38;5;241m>\u001b[39m \u001b[38;5;241m0\u001b[39m:\n",
      "File \u001b[1;32m~\\PYTHON\\Lib\\asyncio\\base_events.py:687\u001b[0m, in \u001b[0;36mBaseEventLoop.run_until_complete\u001b[1;34m(self, future)\u001b[0m\n\u001b[0;32m    684\u001b[0m \u001b[38;5;28;01mif\u001b[39;00m \u001b[38;5;129;01mnot\u001b[39;00m future\u001b[38;5;241m.\u001b[39mdone():\n\u001b[0;32m    685\u001b[0m     \u001b[38;5;28;01mraise\u001b[39;00m \u001b[38;5;167;01mRuntimeError\u001b[39;00m(\u001b[38;5;124m'\u001b[39m\u001b[38;5;124mEvent loop stopped before Future completed.\u001b[39m\u001b[38;5;124m'\u001b[39m)\n\u001b[1;32m--> 687\u001b[0m \u001b[38;5;28;01mreturn\u001b[39;00m future\u001b[38;5;241m.\u001b[39mresult()\n",
      "File \u001b[1;32m~\\PYTHON\\Lib\\site-packages\\kaleido\\__init__.py:54\u001b[0m, in \u001b[0;36mcalc_fig\u001b[1;34m(fig, path, opts, topojson, kopts)\u001b[0m\n\u001b[0;32m     52\u001b[0m kopts \u001b[38;5;241m=\u001b[39m kopts \u001b[38;5;129;01mor\u001b[39;00m {}\n\u001b[0;32m     53\u001b[0m kopts[\u001b[38;5;124m\"\u001b[39m\u001b[38;5;124mn\u001b[39m\u001b[38;5;124m\"\u001b[39m] \u001b[38;5;241m=\u001b[39m \u001b[38;5;241m1\u001b[39m\n\u001b[1;32m---> 54\u001b[0m \u001b[38;5;28;01masync\u001b[39;00m \u001b[38;5;28;01mwith\u001b[39;00m Kaleido(\u001b[38;5;241m*\u001b[39m\u001b[38;5;241m*\u001b[39mkopts) \u001b[38;5;28;01mas\u001b[39;00m k:\n\u001b[0;32m     55\u001b[0m     \u001b[38;5;28;01mreturn\u001b[39;00m \u001b[38;5;28;01mawait\u001b[39;00m k\u001b[38;5;241m.\u001b[39mcalc_fig(\n\u001b[0;32m     56\u001b[0m         fig,\n\u001b[0;32m     57\u001b[0m         path\u001b[38;5;241m=\u001b[39mpath,\n\u001b[0;32m     58\u001b[0m         opts\u001b[38;5;241m=\u001b[39mopts,\n\u001b[0;32m     59\u001b[0m         topojson\u001b[38;5;241m=\u001b[39mtopojson,\n\u001b[0;32m     60\u001b[0m     )\n",
      "File \u001b[1;32m~\\PYTHON\\Lib\\site-packages\\kaleido\\kaleido.py:76\u001b[0m, in \u001b[0;36mKaleido.__aexit__\u001b[1;34m(self, exc_type, exc_value, exc_tb)\u001b[0m\n\u001b[0;32m     74\u001b[0m \u001b[38;5;28;01mawait\u001b[39;00m asyncio\u001b[38;5;241m.\u001b[39mgather(\u001b[38;5;241m*\u001b[39m\u001b[38;5;28mself\u001b[39m\u001b[38;5;241m.\u001b[39m_background_render_tasks, return_exceptions\u001b[38;5;241m=\u001b[39m\u001b[38;5;28;01mTrue\u001b[39;00m)\n\u001b[0;32m     75\u001b[0m _logger\u001b[38;5;241m.\u001b[39minfo(\u001b[38;5;124m\"\u001b[39m\u001b[38;5;124mExiting Kaleido\u001b[39m\u001b[38;5;124m\"\u001b[39m)\n\u001b[1;32m---> 76\u001b[0m \u001b[38;5;28;01mreturn\u001b[39;00m \u001b[38;5;28;01mawait\u001b[39;00m \u001b[38;5;28msuper\u001b[39m()\u001b[38;5;241m.\u001b[39m\u001b[38;5;21m__aexit__\u001b[39m(exc_type, exc_value, exc_tb)\n",
      "File \u001b[1;32m~\\PYTHON\\Lib\\site-packages\\choreographer\\browser_async.py:249\u001b[0m, in \u001b[0;36mBrowser.__aexit__\u001b[1;34m(self, type_, value, traceback)\u001b[0m\n\u001b[0;32m    242\u001b[0m \u001b[38;5;28;01masync\u001b[39;00m \u001b[38;5;28;01mdef\u001b[39;00m \u001b[38;5;21m__aexit__\u001b[39m(\n\u001b[0;32m    243\u001b[0m     \u001b[38;5;28mself\u001b[39m,\n\u001b[0;32m    244\u001b[0m     type_: \u001b[38;5;28mtype\u001b[39m[\u001b[38;5;167;01mBaseException\u001b[39;00m] \u001b[38;5;241m|\u001b[39m \u001b[38;5;28;01mNone\u001b[39;00m,\n\u001b[0;32m    245\u001b[0m     value: \u001b[38;5;167;01mBaseException\u001b[39;00m \u001b[38;5;241m|\u001b[39m \u001b[38;5;28;01mNone\u001b[39;00m,\n\u001b[0;32m    246\u001b[0m     traceback: TracebackType \u001b[38;5;241m|\u001b[39m \u001b[38;5;28;01mNone\u001b[39;00m,\n\u001b[0;32m    247\u001b[0m ) \u001b[38;5;241m-\u001b[39m\u001b[38;5;241m>\u001b[39m \u001b[38;5;28;01mNone\u001b[39;00m:  \u001b[38;5;66;03m# None instead of False is fine, eases type checking\u001b[39;00m\n\u001b[0;32m    248\u001b[0m \u001b[38;5;250m    \u001b[39m\u001b[38;5;124;03m\"\"\"Close the browser.\"\"\"\u001b[39;00m\n\u001b[1;32m--> 249\u001b[0m     \u001b[38;5;28;01mawait\u001b[39;00m \u001b[38;5;28mself\u001b[39m\u001b[38;5;241m.\u001b[39mclose()\n",
      "File \u001b[1;32m~\\PYTHON\\Lib\\site-packages\\kaleido\\kaleido.py:69\u001b[0m, in \u001b[0;36mKaleido.close\u001b[1;34m(self)\u001b[0m\n\u001b[0;32m     67\u001b[0m         task\u001b[38;5;241m.\u001b[39mcancel()\n\u001b[0;32m     68\u001b[0m _logger\u001b[38;5;241m.\u001b[39minfo(\u001b[38;5;124m\"\u001b[39m\u001b[38;5;124mExiting Kaleido/Choreo\u001b[39m\u001b[38;5;124m\"\u001b[39m)\n\u001b[1;32m---> 69\u001b[0m \u001b[38;5;28;01mreturn\u001b[39;00m \u001b[38;5;28;01mawait\u001b[39;00m \u001b[38;5;28msuper\u001b[39m()\u001b[38;5;241m.\u001b[39mclose()\n",
      "File \u001b[1;32m~\\PYTHON\\Lib\\site-packages\\choreographer\\browser_async.py:228\u001b[0m, in \u001b[0;36mBrowser.close\u001b[1;34m(self)\u001b[0m\n\u001b[0;32m    226\u001b[0m \u001b[38;5;28;01mtry\u001b[39;00m:\n\u001b[0;32m    227\u001b[0m     _logger\u001b[38;5;241m.\u001b[39mdebug(\u001b[38;5;124m\"\u001b[39m\u001b[38;5;124mStarting browser close methods.\u001b[39m\u001b[38;5;124m\"\u001b[39m)\n\u001b[1;32m--> 228\u001b[0m     \u001b[38;5;28;01mawait\u001b[39;00m \u001b[38;5;28mself\u001b[39m\u001b[38;5;241m.\u001b[39m_close()\n\u001b[0;32m    229\u001b[0m     _logger\u001b[38;5;241m.\u001b[39mdebug(\u001b[38;5;124m\"\u001b[39m\u001b[38;5;124mBrowser close methods finished.\u001b[39m\u001b[38;5;124m\"\u001b[39m)\n\u001b[0;32m    230\u001b[0m \u001b[38;5;28;01mexcept\u001b[39;00m \u001b[38;5;167;01mProcessLookupError\u001b[39;00m:\n",
      "File \u001b[1;32m~\\PYTHON\\Lib\\site-packages\\choreographer\\browser_async.py:216\u001b[0m, in \u001b[0;36mBrowser._close\u001b[1;34m(self)\u001b[0m\n\u001b[0;32m    214\u001b[0m     \u001b[38;5;28;01mreturn\u001b[39;00m\n\u001b[0;32m    215\u001b[0m \u001b[38;5;28;01melse\u001b[39;00m:\n\u001b[1;32m--> 216\u001b[0m     \u001b[38;5;28;01mraise\u001b[39;00m \u001b[38;5;167;01mRuntimeError\u001b[39;00m(\u001b[38;5;124m\"\u001b[39m\u001b[38;5;124mCouldn\u001b[39m\u001b[38;5;124m'\u001b[39m\u001b[38;5;124mt close or kill browser subprocess\u001b[39m\u001b[38;5;124m\"\u001b[39m)\n",
      "\u001b[1;31mRuntimeError\u001b[0m: Couldn't close or kill browser subprocess"
     ]
    }
   ],
   "source": [
    "import plotly.express as px\n",
    "import os\n",
    "\n",
    "\n",
    "# Create Pie Chart\n",
    "fig = px.pie(\n",
    "    telecom_df_churn,\n",
    "    names=['not churned', 'churned'],\n",
    "    values='churned',\n",
    "    title='Churn Rate',\n",
    "    color_discrete_sequence=['yellow', 'orange']\n",
    ")\n",
    "\n",
    "fig.update_layout(\n",
    "    template=\"presentation\",\n",
    "    paper_bgcolor=\"rgba(0,0,0,0)\",\n",
    "    plot_bgcolor=\"rgba(0,0,0,0)\"\n",
    ")\n",
    "\n",
    "# Show the figure\n",
    "fig.show()\n",
    "\n",
    "# Step 3: Save outputs (ensure the directory exists)\n",
    "results_dir = \"results\"\n",
    "os.makedirs(results_dir, exist_ok=True)\n",
    "\n",
    "fig.write_image(os.path.join(results_dir, 'Churn_Rate_pie_chart.jpg'))\n",
    "fig.write_image(os.path.join(results_dir, 'Churn_Rate_pie_chart.png'))\n",
    "fig.write_html(os.path.join(results_dir, 'Churn_Rate_pie_chart.html'))"
   ]
  },
  {
   "cell_type": "markdown",
   "id": "c372df94-75a5-4a3f-be3c-0a4100a85c69",
   "metadata": {},
   "source": [
    "After analyzing the dataset, we observe the following churn rate:\n",
    "\n",
    "- **26.5%** of customers have churned (**Churn = Yes**)\n",
    "- **73.5%** of customers have remained loyal (**Churn = No**)\n",
    "\n",
    "\n",
    "- Out of every 100 customers, about **27 leave the telecom service**, while **73 continue** using it.\n",
    "- A churn rate of **26.5%** is relatively **high** in the telecom industry and could be a sign of underlying issues such as:\n",
    "  - Poor customer service\n",
    "  - Uncompetitive pricing\n",
    "  - Limited network coverage\n",
    "  - Inadequate value propositions compared to competitors\n",
    "\n",
    "\n",
    "Understanding churn rate is essential because:\n",
    "\n",
    "- **Customer acquisition costs** are high. It's often more expensive to gain a new customer than to retain an existing one.\n",
    "- A high churn rate can lead to **revenue loss** and affect the company’s **growth and sustainability**.\n",
    "- Identifying the factors that lead to churn enables the company to take **targeted actions** to reduce it.\n",
    "\n",
    "This insight sets the foundation for deeper analysis, such as:\n",
    "- Segmenting churned users\n",
    "- Identifying top predictors of churn\n",
    "- Designing customer retention strategies"
   ]
  },
  {
   "cell_type": "markdown",
   "id": "3b347f1b-5dd3-4006-9f0e-c3fd47fd24bd",
   "metadata": {},
   "source": [
    "## Gender Distribution"
   ]
  },
  {
   "cell_type": "code",
   "execution_count": null,
   "id": "2d202b74-7a90-49d4-b2cc-d78c702aa78c",
   "metadata": {},
   "outputs": [],
   "source": [
    "telecom_df_gender= telecom_df.groupby(['gender']).size().reset_index(name='total')\n",
    "telecom_df_gender"
   ]
  },
  {
   "cell_type": "code",
   "execution_count": null,
   "id": "1b4f7245-fc8d-4be0-a8b6-ce70d0a535a8",
   "metadata": {},
   "outputs": [],
   "source": [
    "\n",
    "fig = px.bar(\n",
    "    telecom_df_gender,\n",
    "    x='gender',\n",
    "    y='total',\n",
    "    color='gender', \n",
    "    title='Gender Distribution',\n",
    "    text='total',\n",
    "    color_discrete_sequence=['yellow', 'orange']\n",
    ")\n",
    "\n",
    "fig.update_traces(\n",
    "    texttemplate='%{text:.0f}', \n",
    "    textposition='inside',\n",
    "    insidetextanchor='middle',\n",
    "    textfont=dict(size=14, color='black'),\n",
    "    cliponaxis=False\n",
    ")\n",
    "\n",
    "fig.update_layout(\n",
    "    template=\"presentation\",\n",
    "    xaxis_title='Gender',\n",
    "    yaxis_title='Number of Customers',\n",
    "    showlegend=False,\n",
    "    font=dict(\n",
    "        family=\"Arial\",\n",
    "        size=14,\n",
    "        color=\"black\"\n",
    "    ),\n",
    "    title_font=dict(\n",
    "        family=\"Arial\",\n",
    "        size=20,\n",
    "        color=\"black\"\n",
    "    ),\n",
    "    margin=dict(l=80, r=50, t=80, b=100),\n",
    "    paper_bgcolor=\"rgba(0,0,0,0)\",\n",
    "    plot_bgcolor=\"rgba(0,0,0,0)\"\n",
    ")\n",
    "\n",
    "fig.show()\n",
    "\n",
    "fig.write_image(os.path.join(results_dir, 'Gender_Distribution_bar_chart.jpg'))\n",
    "fig.write_image(os.path.join(results_dir, 'Gender_Distribution_bar_chart.png'))\n",
    "fig.write_html(os.path.join(results_dir, 'Gender_Distribution_bar_chart.html'))\n"
   ]
  },
  {
   "cell_type": "markdown",
   "id": "9f584411-d40c-49ab-a893-da66d70ea43a",
   "metadata": {},
   "source": [
    "The dataset includes customer information classified by gender. Here's the breakdown:\n",
    "\n",
    "- **Female**: 3,488 customers\n",
    "- **Male**: 3,555 customers\n",
    "\n",
    "- The gender distribution is nearly balanced, with **51.9% male** and **48.1% female**.\n",
    "- Since the difference is small, **gender is unlikely to be a strong biasing factor** in this dataset."
   ]
  },
  {
   "cell_type": "markdown",
   "id": "4338d6c1-9724-4d9b-9726-839f502bf7c7",
   "metadata": {},
   "source": [
    "## Payment Method\n",
    "\n",
    "The dataset includes information about the preferred **payment methods** used by customers. The distribution is as follows:\n",
    "\n",
    "- **Electronic Check**: 34%\n",
    "- **Mailed Check**: 23%\n",
    "- **Bank Transfer (Automatic)**: 22%\n",
    "- **Credit Card (Automatic)**: 22%\n"
   ]
  },
  {
   "cell_type": "code",
   "execution_count": null,
   "id": "2782a0e4-5320-43bf-9480-3aa76a9ad03d",
   "metadata": {},
   "outputs": [],
   "source": [
    "telecom_df_payment_method = telecom_df['PaymentMethod'].value_counts(normalize=True).round(2).reset_index(name='payment_method_rate')\n",
    "telecom_df_payment_method"
   ]
  },
  {
   "cell_type": "code",
   "execution_count": null,
   "id": "733f204e-e23b-48b3-9efc-3255c8484293",
   "metadata": {},
   "outputs": [],
   "source": [
    "\n",
    "telecom_df_payment_method['payment_method_rate'] *= 100\n",
    "\n",
    "fig = px.bar(\n",
    "    telecom_df_payment_method,\n",
    "    x='PaymentMethod',\n",
    "    y='payment_method_rate',\n",
    "    color='PaymentMethod',\n",
    "    title='Payment Method Rate (%)',\n",
    "    text='payment_method_rate',\n",
    "    color_discrete_sequence=['yellow', 'orange', 'red', 'violet']\n",
    ")\n",
    "\n",
    "fig.update_traces(\n",
    "    texttemplate='%{text:.2f}%',  \n",
    "    textposition='inside',\n",
    "    insidetextanchor='middle',\n",
    "    textfont=dict(size=14, color='black'),\n",
    "    cliponaxis=False\n",
    ")\n",
    "\n",
    "fig.update_layout(\n",
    "    template=\"presentation\",\n",
    "    xaxis_title='Payment Method',\n",
    "    yaxis_title='Rate (%)',\n",
    "    showlegend=False,\n",
    "    font=dict(\n",
    "        family=\"Arial\",\n",
    "        size=14,\n",
    "        color=\"black\"\n",
    "    ),\n",
    "    title_font=dict(\n",
    "        family=\"Arial\",\n",
    "        size=20,\n",
    "        color=\"black\"\n",
    "    ),\n",
    "    margin=dict(l=80, r=40, t=80, b=140),\n",
    "    paper_bgcolor=\"rgba(0,0,0,0)\",\n",
    "    plot_bgcolor=\"rgba(0,0,0,0)\"\n",
    ")\n",
    "\n",
    "fig.show()\n",
    "\n",
    "fig.write_image(os.path.join(results_dir, 'Payment_Method_Rate_bar_chart.jpg'))\n",
    "fig.write_image(os.path.join(results_dir, 'Payment_Method_Rate_bar_chart.png'))\n",
    "fig.write_html(os.path.join(results_dir, 'Payment_Method_Rate_bar_chart.html'))\n",
    "\n"
   ]
  },
  {
   "cell_type": "markdown",
   "id": "ffb58771-0707-48b7-a3ec-b988761c9fa7",
   "metadata": {},
   "source": [
    "\n",
    "- **Electronic Check** is the most common payment method, used by over one-third of the customers.\n",
    "- Automatic payment methods (bank transfer and credit card) together account for **44%**, indicating that a significant portion of customers prefer convenience and automation.\n",
    "- The presence of **manual methods** like mailed checks (23%) suggests that some customers may still prefer traditional payment options.\n",
    "\n",
    "Understanding the distribution of payment methods is important for:\n",
    "- **Customer segmentation**\n",
    "- Identifying churn risks (e.g., manual payments may be associated with higher churn)\n",
    "- Designing targeted financial services or offers\n"
   ]
  },
  {
   "cell_type": "markdown",
   "id": "95506e26-d06d-44b0-93ab-3648e4fb6cd6",
   "metadata": {},
   "source": [
    "## Paperless Billing\n",
    "The dataset tracks whether customers opted for **paperless billing** or not. The distribution is as follows:\r\n",
    "\r\n",
    "- **Yes** (Paperless Billing): 59%\r\n",
    "- **No** (Paper Billing): 41%"
   ]
  },
  {
   "cell_type": "code",
   "execution_count": null,
   "id": "dd632a46-14a1-444a-93ca-09ef79830956",
   "metadata": {},
   "outputs": [],
   "source": [
    "telecom_df_billing= telecom_df['PaperlessBilling'].value_counts(normalize=True).reset_index(name='paperless_rate').round(2)\n",
    "telecom_df_billing"
   ]
  },
  {
   "cell_type": "code",
   "execution_count": null,
   "id": "367eb097-8401-49b3-a599-c7d0fd855383",
   "metadata": {},
   "outputs": [],
   "source": [
    "fig = px.pie(\n",
    "    telecom_df_billing,\n",
    "    names='PaperlessBilling',\n",
    "    values='paperless_rate',\n",
    "    title='Paperless Payment Rate',\n",
    "    color_discrete_sequence=['yellow','orange']\n",
    ")\n",
    "\n",
    "fig.update_layout(\n",
    "    template=\"presentation\",\n",
    "    paper_bgcolor=\"rgba(0,0,0,0)\",\n",
    "    plot_bgcolor=\"rgba(0,0,0,0)\"\n",
    ")\n",
    "\n",
    "fig.show()\n",
    "\n",
    "fig.write_image(os.path.join(results_dir, 'paperless_rate_pie_chart.jpg'))\n",
    "fig.write_image(os.path.join(results_dir, 'paperless_rate_pie_chart.png'))\n",
    "fig.write_html(os.path.join(results_dir, 'paperless_rate_pie_chart.html'))"
   ]
  },
  {
   "cell_type": "markdown",
   "id": "e5a9192b-61f1-4276-bcbd-1db364a43a83",
   "metadata": {},
   "source": [
    "- A **majority of customers (59%)** prefer receiving their bills electronically, which suggests a strong adoption of digital billing methods.\n",
    "- However, **41% still receive paper bills**, indicating that a significant portion of customers may:\n",
    "  - Be less tech-savvy\n",
    "  - Prefer traditional methods\n",
    "  - Have limited access to digital platforms\n",
    "\n",
    "Understanding billing preferences can help the company:\n",
    "- Promote environmentally friendly practices\n",
    "- Reduce mailing costs"
   ]
  },
  {
   "cell_type": "markdown",
   "id": "89cc663f-cb49-477e-a1f0-ba1e5e0a4103",
   "metadata": {},
   "source": [
    "## Number of Contracts \n",
    "Customers in the dataset are categorized based on the type of contract they hold. Here's the breakdown:\r\n",
    "\r\n",
    "- **Month-to-Month**: 3,875 customers\r\n",
    "- **One Year**: 1,473 customers\r\n",
    "- **Two Year**: 1,695 customers"
   ]
  },
  {
   "cell_type": "code",
   "execution_count": 657,
   "id": "9019b6f8-b4d3-40f4-9d9d-8884d94b4ff7",
   "metadata": {},
   "outputs": [
    {
     "data": {
      "text/html": [
       "<div>\n",
       "<style scoped>\n",
       "    .dataframe tbody tr th:only-of-type {\n",
       "        vertical-align: middle;\n",
       "    }\n",
       "\n",
       "    .dataframe tbody tr th {\n",
       "        vertical-align: top;\n",
       "    }\n",
       "\n",
       "    .dataframe thead th {\n",
       "        text-align: right;\n",
       "    }\n",
       "</style>\n",
       "<table border=\"1\" class=\"dataframe\">\n",
       "  <thead>\n",
       "    <tr style=\"text-align: right;\">\n",
       "      <th></th>\n",
       "      <th>Contract</th>\n",
       "      <th>Number_of_contract</th>\n",
       "    </tr>\n",
       "  </thead>\n",
       "  <tbody>\n",
       "    <tr>\n",
       "      <th>0</th>\n",
       "      <td>month-to-month</td>\n",
       "      <td>3875</td>\n",
       "    </tr>\n",
       "    <tr>\n",
       "      <th>1</th>\n",
       "      <td>one year</td>\n",
       "      <td>1473</td>\n",
       "    </tr>\n",
       "    <tr>\n",
       "      <th>2</th>\n",
       "      <td>two year</td>\n",
       "      <td>1695</td>\n",
       "    </tr>\n",
       "  </tbody>\n",
       "</table>\n",
       "</div>"
      ],
      "text/plain": [
       "         Contract  Number_of_contract\n",
       "0  month-to-month                3875\n",
       "1        one year                1473\n",
       "2        two year                1695"
      ]
     },
     "execution_count": 657,
     "metadata": {},
     "output_type": "execute_result"
    }
   ],
   "source": [
    "telecom_df_contract = telecom_df.groupby('Contract').size().reset_index(name='Number_of_contract')\n",
    "telecom_df_contract['Number_of_contract'] = telecom_df_contract['Number_of_contract'].round(2)\n",
    "telecom_df_contract\n"
   ]
  },
  {
   "cell_type": "code",
   "execution_count": 659,
   "id": "6ce28f74-ed6c-488a-a0d4-c47818bdb289",
   "metadata": {},
   "outputs": [
    {
     "data": {
      "application/vnd.plotly.v1+json": {
       "config": {
        "plotlyServerURL": "https://plot.ly"
       },
       "data": [
        {
         "hovertemplate": "Contract=%{x}<br>Number_of_contract=%{text}<extra></extra>",
         "insidetextanchor": "middle",
         "legendgroup": "month-to-month",
         "marker": {
          "color": "yellow",
          "pattern": {
           "shape": ""
          }
         },
         "name": "month-to-month",
         "orientation": "v",
         "showlegend": true,
         "text": {
          "_inputArray": {
           "0": 3875,
           "bdata": "AAAAAABGrkA=",
           "dtype": "f8",
           "shape": "1"
          },
          "bdata": "AAAAAABGrkA=",
          "dtype": "f8"
         },
         "textposition": "inside",
         "texttemplate": "%{text:.0f}",
         "type": "bar",
         "x": [
          "month-to-month"
         ],
         "xaxis": "x",
         "y": {
          "_inputArray": {
           "0": 3875,
           "bdata": "Iw8=",
           "dtype": "i2",
           "shape": "1"
          },
          "bdata": "Iw8=",
          "dtype": "i2"
         },
         "yaxis": "y"
        },
        {
         "hovertemplate": "Contract=%{x}<br>Number_of_contract=%{text}<extra></extra>",
         "insidetextanchor": "middle",
         "legendgroup": "one year",
         "marker": {
          "color": "orange",
          "pattern": {
           "shape": ""
          }
         },
         "name": "one year",
         "orientation": "v",
         "showlegend": true,
         "text": {
          "_inputArray": {
           "0": 1473,
           "bdata": "AAAAAAAEl0A=",
           "dtype": "f8",
           "shape": "1"
          },
          "bdata": "AAAAAAAEl0A=",
          "dtype": "f8"
         },
         "textposition": "inside",
         "texttemplate": "%{text:.0f}",
         "type": "bar",
         "x": [
          "one year"
         ],
         "xaxis": "x",
         "y": {
          "_inputArray": {
           "0": 1473,
           "bdata": "wQU=",
           "dtype": "i2",
           "shape": "1"
          },
          "bdata": "wQU=",
          "dtype": "i2"
         },
         "yaxis": "y"
        },
        {
         "hovertemplate": "Contract=%{x}<br>Number_of_contract=%{text}<extra></extra>",
         "insidetextanchor": "middle",
         "legendgroup": "two year",
         "marker": {
          "color": "red",
          "pattern": {
           "shape": ""
          }
         },
         "name": "two year",
         "orientation": "v",
         "showlegend": true,
         "text": {
          "_inputArray": {
           "0": 1695,
           "bdata": "AAAAAAB8mkA=",
           "dtype": "f8",
           "shape": "1"
          },
          "bdata": "AAAAAAB8mkA=",
          "dtype": "f8"
         },
         "textposition": "inside",
         "texttemplate": "%{text:.0f}",
         "type": "bar",
         "x": [
          "two year"
         ],
         "xaxis": "x",
         "y": {
          "_inputArray": {
           "0": 1695,
           "bdata": "nwY=",
           "dtype": "i2",
           "shape": "1"
          },
          "bdata": "nwY=",
          "dtype": "i2"
         },
         "yaxis": "y"
        }
       ],
       "layout": {
        "autosize": true,
        "barmode": "relative",
        "font": {
         "color": "black",
         "family": "Arial",
         "size": 14
        },
        "legend": {
         "title": {
          "text": "Contract"
         },
         "tracegroupgap": 0
        },
        "margin": {
         "b": 100,
         "l": 80,
         "r": 50,
         "t": 80
        },
        "paper_bgcolor": "rgba(0, 0, 0, 0)",
        "plot_bgcolor": "rgba(0, 0, 0, 0)",
        "showlegend": false,
        "template": {
         "data": {
          "pie": [
           {
            "automargin": true,
            "type": "pie"
           }
          ],
          "scatter": [
           {
            "line": {
             "width": 3
            },
            "marker": {
             "size": 9
            },
            "type": "scatter"
           }
          ],
          "scatter3d": [
           {
            "line": {
             "width": 3
            },
            "marker": {
             "size": 9
            },
            "type": "scatter3d"
           }
          ],
          "scattergeo": [
           {
            "line": {
             "width": 3
            },
            "marker": {
             "size": 9
            },
            "type": "scattergeo"
           }
          ],
          "scattergl": [
           {
            "line": {
             "width": 3
            },
            "marker": {
             "size": 9
            },
            "type": "scattergl"
           }
          ],
          "scatterpolar": [
           {
            "line": {
             "width": 3
            },
            "marker": {
             "size": 9
            },
            "type": "scatterpolar"
           }
          ],
          "scatterpolargl": [
           {
            "line": {
             "width": 3
            },
            "marker": {
             "size": 9
            },
            "type": "scatterpolargl"
           }
          ],
          "scatterternary": [
           {
            "line": {
             "width": 3
            },
            "marker": {
             "size": 9
            },
            "type": "scatterternary"
           }
          ],
          "table": [
           {
            "cells": {
             "height": 30
            },
            "header": {
             "height": 36
            },
            "type": "table"
           }
          ]
         },
         "layout": {
          "font": {
           "size": 18
          },
          "xaxis": {
           "title": {
            "standoff": 15
           }
          },
          "yaxis": {
           "title": {
            "standoff": 15
           }
          }
         }
        },
        "title": {
         "font": {
          "family": "Arial",
          "size": 20
         },
         "text": "Number of Contract"
        },
        "xaxis": {
         "anchor": "y",
         "autorange": true,
         "categoryarray": [
          "month-to-month",
          "one year",
          "two year"
         ],
         "categoryorder": "array",
         "domain": [
          0,
          1
         ],
         "range": [
          -0.5,
          2.5
         ],
         "title": {
          "text": "Contract Type"
         },
         "type": "category"
        },
        "yaxis": {
         "anchor": "x",
         "autorange": true,
         "domain": [
          0,
          1
         ],
         "range": [
          0,
          4078.9473684210525
         ],
         "title": {
          "text": "Number"
         },
         "type": "linear"
        }
       }
      },
      "image/png": "[encoded data removed]"
     },
     "metadata": {},
     "output_type": "display_data"
    }
   ],
   "source": [
    "\n",
    "fig = px.bar(\n",
    "    telecom_df_contract,\n",
    "    x='Contract',\n",
    "    y='Number_of_contract',\n",
    "    color='Contract',  \n",
    "    title='Number of Contract',\n",
    "    text='Number_of_contract',\n",
    "    color_discrete_sequence=['yellow', 'orange', 'red', 'violet']\n",
    ")\n",
    "\n",
    "fig.update_traces(\n",
    "    texttemplate='%{text:.0f}',  \n",
    "    textposition='inside',\n",
    "    insidetextanchor='middle'\n",
    ")\n",
    "\n",
    "fig.update_layout(\n",
    "    template=\"presentation\",\n",
    "    xaxis_title='Contract Type',\n",
    "    yaxis_title='Number',\n",
    "    showlegend=False,\n",
    "    font=dict(\n",
    "        family=\"Arial\",\n",
    "        size=14,\n",
    "        color=\"black\"\n",
    "    ),\n",
    "    title_font=dict(\n",
    "        family=\"Arial\",\n",
    "        size=20\n",
    "    ),\n",
    "    margin=dict(l=80, r=50, t=80, b=100),\n",
    "    paper_bgcolor=\"rgba(0,0,0,0)\",\n",
    "    plot_bgcolor=\"rgba(0,0,0,0)\"\n",
    ")\n",
    "\n",
    "fig.show()\n",
    "\n",
    "fig.write_image(os.path.join(results_dir, 'Contract_Number_bar_chart.jpg'))\n",
    "fig.write_image(os.path.join(results_dir, 'Contract_Number_bar_chart.png'))\n",
    "fig.write_html(os.path.join(results_dir, 'Contract_Number_bar_chart.html'))\n",
    "\n"
   ]
  },
  {
   "cell_type": "markdown",
   "id": "fb5cebfd-9a4c-4e6e-96f3-587bc6275587",
   "metadata": {},
   "source": [
    "- The majority of customers (**~57%**) are on **month-to-month contracts**, which are typically more flexible and easier to cancel.\n",
    "- Long-term contracts (one-year and two-year combined) account for **~43%** of the customer base.\n",
    "- Customers on month-to-month contracts may be **more likely to churn**, as they face fewer barriers to switching providers.\n",
    "- In contrast, those with longer contracts may demonstrate **higher retention** due to commitment incentives or penalties for early termination.\n"
   ]
  },
  {
   "cell_type": "markdown",
   "id": "6e0240a0-6900-4507-a81f-1730f9508c5e",
   "metadata": {},
   "source": [
    "## Statistical test\n",
    "In this analysis, we examined whether MonthlyCharges vary significantly among customers with different contract types. The three categories of contracts analyzed were **Month-to-month**, **One year**, and **Two year**. Understanding how monthly charges differ across these groups helps uncover potential pricing strategies and customer behavior patterns associated with each contract type."
   ]
  },
  {
   "cell_type": "markdown",
   "id": "4af2af49-6cc1-4c57-8e93-6c579bb940c8",
   "metadata": {},
   "source": [
    "Results Interpretation \n",
    "| Column        | p-value  | Significant? | Conclusion                                              |\r\n",
    "|---------------|----------|--------------|----------------------------------------------------------|\r\n",
    "| `< 0.05`      | Yes      | Yes          | Reject H₀  No significant difference in MonthlyCharges across contract typesrn             |\r\n",
    "| `≥ 0.05`      | No       | No           | Fail to Reject H₀ Significant difference in MonthlyCharges across contract typeson           |\r\n"
   ]
  },
  {
   "cell_type": "code",
   "execution_count": 660,
   "id": "b596d4fa-935b-4299-ad7e-409b4d4a1e9d",
   "metadata": {},
   "outputs": [
    {
     "name": "stderr",
     "output_type": "stream",
     "text": [
      "C:\\Users\\ADELINE PC\\AppData\\Local\\Temp\\ipykernel_10416\\1391853006.py:16: FutureWarning:\n",
      "\n",
      "\n",
      "\n",
      "Passing `palette` without assigning `hue` is deprecated and will be removed in v0.14.0. Assign the `x` variable to `hue` and set `legend=False` for the same effect.\n",
      "\n",
      "\n",
      "C:\\Users\\ADELINE PC\\AppData\\Local\\Temp\\ipykernel_10416\\1391853006.py:29: FutureWarning:\n",
      "\n",
      "\n",
      "\n",
      "Passing `palette` without assigning `hue` is deprecated and will be removed in v0.14.0. Assign the `x` variable to `hue` and set `legend=False` for the same effect.\n",
      "\n",
      "\n"
     ]
    },
    {
     "data": {
      "image/png": "[encoded data removed]",
      "text/plain": [
       "<Figure size 1600x1200 with 4 Axes>"
      ]
     },
     "metadata": {},
     "output_type": "display_data"
    }
   ],
   "source": [
    "import matplotlib.pyplot as plt\n",
    "import seaborn as sns\n",
    "import os\n",
    "\n",
    "# Convert 'Churn' to binary\n",
    "telecom_df['Churn'] = telecom_df['Churn'].map({'yes': 1, 'no': 0})\n",
    "\n",
    "# Set seaborn style\n",
    "sns.set(style=\"whitegrid\")\n",
    "\n",
    "# Create a 2x2 grid of plots\n",
    "fig, axes = plt.subplots(2, 2, figsize=(16, 12))\n",
    "fig.suptitle(\"Churn Rate Statistical Test Visuals\", fontsize=18, fontweight='bold')\n",
    "\n",
    "# 1. Churn Distribution\n",
    "sns.countplot(data=telecom_df, x='Churn', ax=axes[0, 0], palette='Set2')\n",
    "axes[0, 0].set_title(\"Churn Distribution\", fontsize=14)\n",
    "axes[0, 0].set_xticks([0, 1])\n",
    "axes[0, 0].set_xticklabels(['No', 'Yes'])\n",
    "axes[0, 0].set_ylabel(\"Number of Customers\")\n",
    "\n",
    "# 2. Churn by Contract Type\n",
    "sns.countplot(data=telecom_df, x='Contract', hue='Churn', ax=axes[0, 1], palette='Set1')\n",
    "axes[0, 1].set_title(\"Churn by Contract Type\", fontsize=14)\n",
    "axes[0, 1].set_ylabel(\"Number of Customers\")\n",
    "axes[0, 1].legend(title='Churn', labels=['No', 'Yes'])\n",
    "\n",
    "# 3. Monthly Charges vs Churn (Boxplot)\n",
    "sns.boxplot(data=telecom_df, x='Churn', y='MonthlyCharges', ax=axes[1, 0], palette='coolwarm')\n",
    "axes[1, 0].set_title(\"Monthly Charges vs Churn\", fontsize=14)\n",
    "axes[1, 0].set_xticks([0, 1])\n",
    "axes[1, 0].set_xticklabels(['No', 'Yes'])\n",
    "axes[1, 0].set_ylabel(\"Monthly Charges\")\n",
    "\n",
    "# 4. Internet Service Type vs Churn\n",
    "sns.countplot(data=telecom_df, x='InternetService', hue='Churn', ax=axes[1, 1], palette='muted')\n",
    "axes[1, 1].set_title(\"Churn by Internet Service Type\", fontsize=14)\n",
    "axes[1, 1].set_ylabel(\"Number of Customers\")\n",
    "axes[1, 1].legend(title='Churn', labels=['No', 'Yes'])\n",
    "\n",
    "# Adjust layout\n",
    "plt.tight_layout(rect=[0, 0.03, 1, 0.95]) \n",
    "plt.show()\n",
    "\n",
    "fig.savefig(os.path.join(results_dir, 'statistical_test_images.jpg'))\n",
    "fig.savefig(os.path.join(results_dir, 'statistical_test_images.png'))\n"
   ]
  },
  {
   "cell_type": "code",
   "execution_count": 663,
   "id": "c967a536-7d15-41b6-abd3-d1a459a83bd1",
   "metadata": {},
   "outputs": [
    {
     "name": "stdout",
     "output_type": "stream",
     "text": [
      "Shapiro-Wilk Normality Test p-values:\n",
      "Month-to-month: p = 0.0000\n",
      "One year: p = 0.0000\n",
      "Two year: p = 0.0000\n",
      "\n",
      "Levene’s Test p-value: 0.0000\n",
      "\n",
      "Using Welch’s ANOVA (unequal variances)\n",
      "                sum_sq      df         F        PR(>F)\n",
      "Contract  3.182336e+04     2.0  17.67295  2.207693e-08\n",
      "Residual  6.338399e+06  7040.0       NaN           NaN\n",
      "ANOVA F-statistic: 17.6730\n",
      "ANOVA p-value: 0.0000\n"
     ]
    }
   ],
   "source": [
    "from scipy import stats\n",
    "import statsmodels.api as sm\n",
    "from statsmodels.formula.api import ols\n",
    "import pandas as pd\n",
    "\n",
    "# 1. Clean the 'Contract' column (just in case)\n",
    "telecom_df['Contract'] = telecom_df['Contract'].str.strip().str.lower()\n",
    "\n",
    "# 2. Define your groups using correct lowercase values\n",
    "month_to_month = telecom_df[telecom_df['Contract'] == 'month-to-month']['MonthlyCharges'].dropna()\n",
    "one_year = telecom_df[telecom_df['Contract'] == 'one year']['MonthlyCharges'].dropna()\n",
    "two_year = telecom_df[telecom_df['Contract'] == 'two year']['MonthlyCharges'].dropna()\n",
    "\n",
    "# 3. Check lengths to avoid Shapiro error\n",
    "def safe_shapiro(data, label):\n",
    "    if len(data) >= 3:\n",
    "        p = stats.shapiro(data).pvalue\n",
    "        print(f\"{label}: p = {p:.4f}\")\n",
    "    else:\n",
    "        print(f\"{label}: Not enough data for Shapiro-Wilk test (n={len(data)})\")\n",
    "\n",
    "print(\"Shapiro-Wilk Normality Test p-values:\")\n",
    "safe_shapiro(month_to_month, \"Month-to-month\")\n",
    "safe_shapiro(one_year, \"One year\")\n",
    "safe_shapiro(two_year, \"Two year\")\n",
    "\n",
    "# 4. Levene’s Test for equal variances\n",
    "levene_p = stats.levene(month_to_month, one_year, two_year).pvalue\n",
    "print(f\"\\nLevene’s Test p-value: {levene_p:.4f}\")\n",
    "\n",
    "# 5. Choose ANOVA type\n",
    "if levene_p > 0.05:\n",
    "    # Equal variances: classic ANOVA\n",
    "    stat, p = stats.f_oneway(month_to_month, one_year, two_year)\n",
    "    print(\"\\nUsing One-Way ANOVA (equal variances assumed)\")\n",
    "else:\n",
    "    # Unequal variances: use Welch’s ANOVA with statsmodels\n",
    "    print(\"\\nUsing Welch’s ANOVA (unequal variances)\")\n",
    "    df_anova = telecom_df[['MonthlyCharges', 'Contract']].dropna()\n",
    "    model = ols('MonthlyCharges ~ Contract', data=df_anova).fit()\n",
    "    welch_result = sm.stats.anova_lm(model, typ=2, robust='hc3')  # robust Welch ANOVA\n",
    "    print(welch_result)\n",
    "    stat = welch_result['F'].iloc[0]\n",
    "    p = welch_result['PR(>F)'].iloc[0]\n",
    "\n",
    "# 6. Display results\n",
    "print(f\"ANOVA F-statistic: {stat:.4f}\")\n",
    "print(f\"ANOVA p-value: {p:.4f}\")\n"
   ]
  },
  {
   "cell_type": "code",
   "execution_count": 665,
   "id": "acb651f2-18c3-4df4-b6ce-459a0d0de2b8",
   "metadata": {},
   "outputs": [
    {
     "name": "stdout",
     "output_type": "stream",
     "text": [
      "Reject H₀: No Significant difference in MonthlyCharges across contract types.\n"
     ]
    }
   ],
   "source": [
    "# 6. Conclusion\n",
    "alpha = 0.05\n",
    "p = 0\n",
    "if p > alpha:\n",
    "    print(\"Fail to reject H₀: significant difference in MonthlyCharges across contract types.\")\n",
    "else:\n",
    "    print(\"Reject H₀: No Significant difference in MonthlyCharges across contract types.\")\n"
   ]
  },
  {
   "cell_type": "markdown",
   "id": "7a7be1d0-28be-468c-a6fd-46e95457f27f",
   "metadata": {},
   "source": [
    "## Conclusion\n",
    "The statistical analysis confirms that contract type significantly influences monthly charges.\n",
    "Customers with Month-to-month contracts pay more on average, which may be due to:\n",
    "\n",
    "-Lack of discounts available in long-term plans,\n",
    "-Flexibility priced at a premium,\n",
    "\n",
    "## Recommendation:\n",
    "Telecom providers might use this insight to design targeted retention strategies—such as offering discounts or bundling services—to encourage month-to-month customers to switch to long-term contracts, potentially improving customer lifetime value.\n"
   ]
  },
  {
   "cell_type": "code",
   "execution_count": null,
   "id": "af3172bb-b85c-4fdd-a905-43f6fe1acf24",
   "metadata": {},
   "outputs": [],
   "source": []
  }
 ],
 "metadata": {
  "kernelspec": {
   "display_name": "Python [conda env:base] *",
   "language": "python",
   "name": "conda-base-py"
  },
  "language_info": {
   "codemirror_mode": {
    "name": "ipython",
    "version": 3
   },
   "file_extension": ".py",
   "mimetype": "text/x-python",
   "name": "python",
   "nbconvert_exporter": "python",
   "pygments_lexer": "ipython3",
   "version": "3.12.4"
  }
 },
 "nbformat": 4,
 "nbformat_minor": 5
}
