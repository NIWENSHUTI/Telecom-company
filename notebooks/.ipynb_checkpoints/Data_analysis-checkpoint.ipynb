{
 "cells": [
  {
   "cell_type": "markdown",
   "id": "e940176b-8d9d-4082-8847-372eb783d3ff",
   "metadata": {},
   "source": [
    "# Telecom Churn Rate Dataset - Exploratory and Descriptive Analysis\n",
    "This notebook is focused on the exploratory and descriptive analysis of the cleaned version of the Telecom Churn Rate Dataset.To begin with, we import all the necessary Python libraries required for data handling, analysis, and processing.\r\n",
    "\r\n",
    "- `pandas` for data manipulation\r\n",
    "- `numpy` for numerical operations\r\n",
    "- `os` for handling directory paths"
   ]
  },
  {
   "cell_type": "code",
   "execution_count": 1,
   "id": "1f533ffb-4d0d-495c-82d5-95b223f841d4",
   "metadata": {},
   "outputs": [],
   "source": [
    "# import libraries\n",
    "import pandas as pd\n",
    "import numpy as np\n",
    "import os\n",
    "import plotly.express as px"
   ]
  },
  {
   "cell_type": "markdown",
   "id": "8fa0adb0-9fbb-4a30-9748-7a7ceca3b139",
   "metadata": {},
   "source": [
    "## Define and create Paths\n",
    "We define the folder structure to organize our project. This includes:\r\n",
    "\r\n",
    "- `data/raw` for raw data files\r\n",
    "- `data/processed` for cleaned and transformed datasets\r\n",
    "- `results` for any output files such as plots or models\r\n",
    "- `docs` for documentation or rendered outputs (e.g., HTML, PDF)\r\n",
    "\r\n",
    "We also ensure these directories are created if they don't already exist.\r\n"
   ]
  },
  {
   "cell_type": "code",
   "execution_count": 4,
   "id": "2c88f7a0-6fe8-4447-8676-b56194ad9b40",
   "metadata": {},
   "outputs": [],
   "source": [
    "# get working directory \n",
    "Current_dir = os.getcwd()\n",
    "# on one directory up to the root directory \n",
    "project_root_dir = os.path.dirname(Current_dir)\n",
    "# define paths to the data folders\n",
    "data_dir = os.path.join(project_root_dir,'data')\n",
    "raw_dir = os.path.join(data_dir,'raw')\n",
    "processed_dir = os.path.join(data_dir,'processed')\n",
    "# define paths to result folder \n",
    "results_dir = os.path.join(project_root_dir,'results')\n",
    "# define paths to docs folder \n",
    "docs_dir = os.path.join(project_root_dir,'docs')\n",
    "\n",
    "# create directories if they do not eFileExists \n",
    "os.makedirs(raw_dir, exist_ok = True)\n",
    "os.makedirs(processed_dir, exist_ok = True)\n",
    "os.makedirs(results_dir, exist_ok = True)\n",
    "os.makedirs(docs_dir, exist_ok = True)"
   ]
  },
  {
   "cell_type": "markdown",
   "id": "d7e0d28c-6cae-4cdd-be37-5330781106a0",
   "metadata": {},
   "source": [
    "## Loading the Dataset\n",
    "Now we load the raw dataset (Telecom Churn Rate Dataset) from the `raw` directory using `pandas.read_excel()`.\r\n",
    "\r\n",
    "Missing values are identified using the placeholder `?`, which we convert to `NaN`."
   ]
  },
  {
   "cell_type": "code",
   "execution_count": 7,
   "id": "1efbd872-ecdc-4369-9b24-38b73d713b0e",
   "metadata": {},
   "outputs": [
    {
     "data": {
      "text/html": [
       "<div>\n",
       "<style scoped>\n",
       "    .dataframe tbody tr th:only-of-type {\n",
       "        vertical-align: middle;\n",
       "    }\n",
       "\n",
       "    .dataframe tbody tr th {\n",
       "        vertical-align: top;\n",
       "    }\n",
       "\n",
       "    .dataframe thead th {\n",
       "        text-align: right;\n",
       "    }\n",
       "</style>\n",
       "<table border=\"1\" class=\"dataframe\">\n",
       "  <thead>\n",
       "    <tr style=\"text-align: right;\">\n",
       "      <th></th>\n",
       "      <th>customerID</th>\n",
       "      <th>gender</th>\n",
       "      <th>SeniorCitizen</th>\n",
       "      <th>Partner</th>\n",
       "      <th>Dependents</th>\n",
       "      <th>tenure</th>\n",
       "      <th>PhoneService</th>\n",
       "      <th>MultipleLines</th>\n",
       "      <th>InternetService</th>\n",
       "      <th>OnlineSecurity</th>\n",
       "      <th>...</th>\n",
       "      <th>StreamingTV</th>\n",
       "      <th>StreamingMovies</th>\n",
       "      <th>Contract</th>\n",
       "      <th>PaperlessBilling</th>\n",
       "      <th>PaymentMethod</th>\n",
       "      <th>MonthlyCharges</th>\n",
       "      <th>TotalCharges</th>\n",
       "      <th>numAdminTickets</th>\n",
       "      <th>numTechTickets</th>\n",
       "      <th>Churn</th>\n",
       "    </tr>\n",
       "  </thead>\n",
       "  <tbody>\n",
       "    <tr>\n",
       "      <th>0</th>\n",
       "      <td>7590-vhveg</td>\n",
       "      <td>female</td>\n",
       "      <td>0</td>\n",
       "      <td>yes</td>\n",
       "      <td>no</td>\n",
       "      <td>1</td>\n",
       "      <td>no</td>\n",
       "      <td>no phone service</td>\n",
       "      <td>digital subscriber line</td>\n",
       "      <td>no</td>\n",
       "      <td>...</td>\n",
       "      <td>no</td>\n",
       "      <td>no</td>\n",
       "      <td>month-to-month</td>\n",
       "      <td>yes</td>\n",
       "      <td>electronic check</td>\n",
       "      <td>29.85</td>\n",
       "      <td>29.85</td>\n",
       "      <td>0</td>\n",
       "      <td>0</td>\n",
       "      <td>no</td>\n",
       "    </tr>\n",
       "    <tr>\n",
       "      <th>1</th>\n",
       "      <td>5575-gnvde</td>\n",
       "      <td>male</td>\n",
       "      <td>0</td>\n",
       "      <td>no</td>\n",
       "      <td>no</td>\n",
       "      <td>34</td>\n",
       "      <td>yes</td>\n",
       "      <td>no</td>\n",
       "      <td>digital subscriber line</td>\n",
       "      <td>yes</td>\n",
       "      <td>...</td>\n",
       "      <td>no</td>\n",
       "      <td>no</td>\n",
       "      <td>one year</td>\n",
       "      <td>no</td>\n",
       "      <td>mailed check</td>\n",
       "      <td>56.95</td>\n",
       "      <td>1889.50</td>\n",
       "      <td>0</td>\n",
       "      <td>0</td>\n",
       "      <td>no</td>\n",
       "    </tr>\n",
       "    <tr>\n",
       "      <th>2</th>\n",
       "      <td>3668-qpybk</td>\n",
       "      <td>male</td>\n",
       "      <td>0</td>\n",
       "      <td>no</td>\n",
       "      <td>no</td>\n",
       "      <td>2</td>\n",
       "      <td>yes</td>\n",
       "      <td>no</td>\n",
       "      <td>digital subscriber line</td>\n",
       "      <td>yes</td>\n",
       "      <td>...</td>\n",
       "      <td>no</td>\n",
       "      <td>no</td>\n",
       "      <td>month-to-month</td>\n",
       "      <td>yes</td>\n",
       "      <td>mailed check</td>\n",
       "      <td>53.85</td>\n",
       "      <td>108.15</td>\n",
       "      <td>0</td>\n",
       "      <td>0</td>\n",
       "      <td>yes</td>\n",
       "    </tr>\n",
       "    <tr>\n",
       "      <th>3</th>\n",
       "      <td>7795-cfocw</td>\n",
       "      <td>male</td>\n",
       "      <td>0</td>\n",
       "      <td>no</td>\n",
       "      <td>no</td>\n",
       "      <td>45</td>\n",
       "      <td>no</td>\n",
       "      <td>no phone service</td>\n",
       "      <td>digital subscriber line</td>\n",
       "      <td>yes</td>\n",
       "      <td>...</td>\n",
       "      <td>no</td>\n",
       "      <td>no</td>\n",
       "      <td>one year</td>\n",
       "      <td>no</td>\n",
       "      <td>bank transfer (automatic)</td>\n",
       "      <td>42.30</td>\n",
       "      <td>1840.75</td>\n",
       "      <td>0</td>\n",
       "      <td>3</td>\n",
       "      <td>no</td>\n",
       "    </tr>\n",
       "    <tr>\n",
       "      <th>4</th>\n",
       "      <td>9237-hqitu</td>\n",
       "      <td>female</td>\n",
       "      <td>0</td>\n",
       "      <td>no</td>\n",
       "      <td>no</td>\n",
       "      <td>2</td>\n",
       "      <td>yes</td>\n",
       "      <td>no</td>\n",
       "      <td>fiber optic</td>\n",
       "      <td>no</td>\n",
       "      <td>...</td>\n",
       "      <td>no</td>\n",
       "      <td>no</td>\n",
       "      <td>month-to-month</td>\n",
       "      <td>yes</td>\n",
       "      <td>electronic check</td>\n",
       "      <td>70.70</td>\n",
       "      <td>151.65</td>\n",
       "      <td>0</td>\n",
       "      <td>0</td>\n",
       "      <td>yes</td>\n",
       "    </tr>\n",
       "    <tr>\n",
       "      <th>5</th>\n",
       "      <td>9305-cdskc</td>\n",
       "      <td>female</td>\n",
       "      <td>0</td>\n",
       "      <td>no</td>\n",
       "      <td>no</td>\n",
       "      <td>8</td>\n",
       "      <td>yes</td>\n",
       "      <td>yes</td>\n",
       "      <td>fiber optic</td>\n",
       "      <td>no</td>\n",
       "      <td>...</td>\n",
       "      <td>yes</td>\n",
       "      <td>yes</td>\n",
       "      <td>month-to-month</td>\n",
       "      <td>yes</td>\n",
       "      <td>electronic check</td>\n",
       "      <td>99.65</td>\n",
       "      <td>820.50</td>\n",
       "      <td>0</td>\n",
       "      <td>0</td>\n",
       "      <td>yes</td>\n",
       "    </tr>\n",
       "    <tr>\n",
       "      <th>6</th>\n",
       "      <td>1452-kiovk</td>\n",
       "      <td>male</td>\n",
       "      <td>0</td>\n",
       "      <td>no</td>\n",
       "      <td>yes</td>\n",
       "      <td>22</td>\n",
       "      <td>yes</td>\n",
       "      <td>yes</td>\n",
       "      <td>fiber optic</td>\n",
       "      <td>no</td>\n",
       "      <td>...</td>\n",
       "      <td>yes</td>\n",
       "      <td>no</td>\n",
       "      <td>month-to-month</td>\n",
       "      <td>yes</td>\n",
       "      <td>credit card (automatic)</td>\n",
       "      <td>89.10</td>\n",
       "      <td>1949.40</td>\n",
       "      <td>0</td>\n",
       "      <td>0</td>\n",
       "      <td>no</td>\n",
       "    </tr>\n",
       "    <tr>\n",
       "      <th>7</th>\n",
       "      <td>6713-okomc</td>\n",
       "      <td>female</td>\n",
       "      <td>0</td>\n",
       "      <td>no</td>\n",
       "      <td>no</td>\n",
       "      <td>10</td>\n",
       "      <td>no</td>\n",
       "      <td>no phone service</td>\n",
       "      <td>digital subscriber line</td>\n",
       "      <td>yes</td>\n",
       "      <td>...</td>\n",
       "      <td>no</td>\n",
       "      <td>no</td>\n",
       "      <td>month-to-month</td>\n",
       "      <td>no</td>\n",
       "      <td>mailed check</td>\n",
       "      <td>29.75</td>\n",
       "      <td>301.90</td>\n",
       "      <td>0</td>\n",
       "      <td>0</td>\n",
       "      <td>no</td>\n",
       "    </tr>\n",
       "    <tr>\n",
       "      <th>8</th>\n",
       "      <td>7892-pookp</td>\n",
       "      <td>female</td>\n",
       "      <td>0</td>\n",
       "      <td>yes</td>\n",
       "      <td>no</td>\n",
       "      <td>28</td>\n",
       "      <td>yes</td>\n",
       "      <td>yes</td>\n",
       "      <td>fiber optic</td>\n",
       "      <td>no</td>\n",
       "      <td>...</td>\n",
       "      <td>yes</td>\n",
       "      <td>yes</td>\n",
       "      <td>month-to-month</td>\n",
       "      <td>yes</td>\n",
       "      <td>electronic check</td>\n",
       "      <td>104.80</td>\n",
       "      <td>3046.05</td>\n",
       "      <td>0</td>\n",
       "      <td>2</td>\n",
       "      <td>yes</td>\n",
       "    </tr>\n",
       "    <tr>\n",
       "      <th>9</th>\n",
       "      <td>6388-tabgu</td>\n",
       "      <td>male</td>\n",
       "      <td>0</td>\n",
       "      <td>no</td>\n",
       "      <td>yes</td>\n",
       "      <td>62</td>\n",
       "      <td>yes</td>\n",
       "      <td>no</td>\n",
       "      <td>digital subscriber line</td>\n",
       "      <td>yes</td>\n",
       "      <td>...</td>\n",
       "      <td>no</td>\n",
       "      <td>no</td>\n",
       "      <td>one year</td>\n",
       "      <td>no</td>\n",
       "      <td>bank transfer (automatic)</td>\n",
       "      <td>56.15</td>\n",
       "      <td>3487.95</td>\n",
       "      <td>0</td>\n",
       "      <td>0</td>\n",
       "      <td>no</td>\n",
       "    </tr>\n",
       "  </tbody>\n",
       "</table>\n",
       "<p>10 rows × 23 columns</p>\n",
       "</div>"
      ],
      "text/plain": [
       "   customerID  gender  SeniorCitizen Partner Dependents  tenure PhoneService  \\\n",
       "0  7590-vhveg  female              0     yes         no       1           no   \n",
       "1  5575-gnvde    male              0      no         no      34          yes   \n",
       "2  3668-qpybk    male              0      no         no       2          yes   \n",
       "3  7795-cfocw    male              0      no         no      45           no   \n",
       "4  9237-hqitu  female              0      no         no       2          yes   \n",
       "5  9305-cdskc  female              0      no         no       8          yes   \n",
       "6  1452-kiovk    male              0      no        yes      22          yes   \n",
       "7  6713-okomc  female              0      no         no      10           no   \n",
       "8  7892-pookp  female              0     yes         no      28          yes   \n",
       "9  6388-tabgu    male              0      no        yes      62          yes   \n",
       "\n",
       "      MultipleLines          InternetService OnlineSecurity  ... StreamingTV  \\\n",
       "0  no phone service  digital subscriber line             no  ...          no   \n",
       "1                no  digital subscriber line            yes  ...          no   \n",
       "2                no  digital subscriber line            yes  ...          no   \n",
       "3  no phone service  digital subscriber line            yes  ...          no   \n",
       "4                no              fiber optic             no  ...          no   \n",
       "5               yes              fiber optic             no  ...         yes   \n",
       "6               yes              fiber optic             no  ...         yes   \n",
       "7  no phone service  digital subscriber line            yes  ...          no   \n",
       "8               yes              fiber optic             no  ...         yes   \n",
       "9                no  digital subscriber line            yes  ...          no   \n",
       "\n",
       "  StreamingMovies        Contract PaperlessBilling              PaymentMethod  \\\n",
       "0              no  month-to-month              yes           electronic check   \n",
       "1              no        one year               no               mailed check   \n",
       "2              no  month-to-month              yes               mailed check   \n",
       "3              no        one year               no  bank transfer (automatic)   \n",
       "4              no  month-to-month              yes           electronic check   \n",
       "5             yes  month-to-month              yes           electronic check   \n",
       "6              no  month-to-month              yes    credit card (automatic)   \n",
       "7              no  month-to-month               no               mailed check   \n",
       "8             yes  month-to-month              yes           electronic check   \n",
       "9              no        one year               no  bank transfer (automatic)   \n",
       "\n",
       "  MonthlyCharges TotalCharges numAdminTickets  numTechTickets  Churn  \n",
       "0          29.85        29.85               0               0     no  \n",
       "1          56.95      1889.50               0               0     no  \n",
       "2          53.85       108.15               0               0    yes  \n",
       "3          42.30      1840.75               0               3     no  \n",
       "4          70.70       151.65               0               0    yes  \n",
       "5          99.65       820.50               0               0    yes  \n",
       "6          89.10      1949.40               0               0     no  \n",
       "7          29.75       301.90               0               0     no  \n",
       "8         104.80      3046.05               0               2    yes  \n",
       "9          56.15      3487.95               0               0     no  \n",
       "\n",
       "[10 rows x 23 columns]"
      ]
     },
     "execution_count": 7,
     "metadata": {},
     "output_type": "execute_result"
    }
   ],
   "source": [
    "telecom_filename = os.path.join(processed_dir,'cleaned.xlsx')\n",
    "telecom_df = pd.read_excel(telecom_filename)\n",
    "telecom_df.head(10)"
   ]
  },
  {
   "cell_type": "markdown",
   "id": "4df9d732-b27e-4fc4-b4f4-d9591e97c837",
   "metadata": {},
   "source": [
    "We use `.shape` to see the number of rows and columns in the dataset.\n",
    "This helps us understand the scale of the data."
   ]
  },
  {
   "cell_type": "code",
   "execution_count": 9,
   "id": "828bc42e-c1f9-454a-87bf-4042a12a316b",
   "metadata": {},
   "outputs": [
    {
     "data": {
      "text/plain": [
       "(7043, 23)"
      ]
     },
     "execution_count": 9,
     "metadata": {},
     "output_type": "execute_result"
    }
   ],
   "source": [
    "telecom_df.shape"
   ]
  },
  {
   "cell_type": "markdown",
   "id": "9053500e-e6dc-4bf5-ad76-6d33d8eb7bca",
   "metadata": {},
   "source": [
    "The `.info()` method gives a concise summary of the dataset, including:\n",
    "\n",
    "- Column names and types\n",
    "- Number of non-null entries\n",
    "- Memory usage\n",
    "\n",
    "This helps us assess the completeness of the data and identify potential issues."
   ]
  },
  {
   "cell_type": "code",
   "execution_count": 11,
   "id": "f7d27663-3eb0-4821-b1e5-45a28ed9fb0d",
   "metadata": {},
   "outputs": [
    {
     "name": "stdout",
     "output_type": "stream",
     "text": [
      "<class 'pandas.core.frame.DataFrame'>\n",
      "RangeIndex: 7043 entries, 0 to 7042\n",
      "Data columns (total 23 columns):\n",
      " #   Column            Non-Null Count  Dtype  \n",
      "---  ------            --------------  -----  \n",
      " 0   customerID        7043 non-null   object \n",
      " 1   gender            7043 non-null   object \n",
      " 2   SeniorCitizen     7043 non-null   int64  \n",
      " 3   Partner           7043 non-null   object \n",
      " 4   Dependents        7043 non-null   object \n",
      " 5   tenure            7043 non-null   int64  \n",
      " 6   PhoneService      7043 non-null   object \n",
      " 7   MultipleLines     7043 non-null   object \n",
      " 8   InternetService   7043 non-null   object \n",
      " 9   OnlineSecurity    7043 non-null   object \n",
      " 10  OnlineBackup      7043 non-null   object \n",
      " 11  DeviceProtection  7043 non-null   object \n",
      " 12  TechSupport       7043 non-null   object \n",
      " 13  StreamingTV       7043 non-null   object \n",
      " 14  StreamingMovies   7043 non-null   object \n",
      " 15  Contract          7043 non-null   object \n",
      " 16  PaperlessBilling  7043 non-null   object \n",
      " 17  PaymentMethod     7043 non-null   object \n",
      " 18  MonthlyCharges    7043 non-null   float64\n",
      " 19  TotalCharges      7043 non-null   float64\n",
      " 20  numAdminTickets   7043 non-null   int64  \n",
      " 21  numTechTickets    7043 non-null   int64  \n",
      " 22  Churn             7043 non-null   object \n",
      "dtypes: float64(2), int64(4), object(17)\n",
      "memory usage: 1.2+ MB\n"
     ]
    }
   ],
   "source": [
    "telecom_df.info()"
   ]
  },
  {
   "cell_type": "markdown",
   "id": "5fbb9635-2722-43c4-9329-a0d2cf4f47ca",
   "metadata": {},
   "source": [
    "## Summary statistics\n",
    "### Numerical variables"
   ]
  },
  {
   "cell_type": "code",
   "execution_count": 14,
   "id": "d2981bd3-a479-4697-a078-b36b28625061",
   "metadata": {},
   "outputs": [
    {
     "data": {
      "text/html": [
       "<div>\n",
       "<style scoped>\n",
       "    .dataframe tbody tr th:only-of-type {\n",
       "        vertical-align: middle;\n",
       "    }\n",
       "\n",
       "    .dataframe tbody tr th {\n",
       "        vertical-align: top;\n",
       "    }\n",
       "\n",
       "    .dataframe thead th {\n",
       "        text-align: right;\n",
       "    }\n",
       "</style>\n",
       "<table border=\"1\" class=\"dataframe\">\n",
       "  <thead>\n",
       "    <tr style=\"text-align: right;\">\n",
       "      <th></th>\n",
       "      <th>SeniorCitizen</th>\n",
       "      <th>tenure</th>\n",
       "      <th>MonthlyCharges</th>\n",
       "      <th>TotalCharges</th>\n",
       "      <th>numAdminTickets</th>\n",
       "      <th>numTechTickets</th>\n",
       "    </tr>\n",
       "  </thead>\n",
       "  <tbody>\n",
       "    <tr>\n",
       "      <th>count</th>\n",
       "      <td>7043.000000</td>\n",
       "      <td>7043.000000</td>\n",
       "      <td>7043.000000</td>\n",
       "      <td>7043.000000</td>\n",
       "      <td>7043.000000</td>\n",
       "      <td>7043.000000</td>\n",
       "    </tr>\n",
       "    <tr>\n",
       "      <th>mean</th>\n",
       "      <td>0.162147</td>\n",
       "      <td>32.371149</td>\n",
       "      <td>64.761692</td>\n",
       "      <td>2279.734304</td>\n",
       "      <td>0.515689</td>\n",
       "      <td>0.419566</td>\n",
       "    </tr>\n",
       "    <tr>\n",
       "      <th>std</th>\n",
       "      <td>0.368612</td>\n",
       "      <td>24.559481</td>\n",
       "      <td>30.090047</td>\n",
       "      <td>2266.794470</td>\n",
       "      <td>1.275299</td>\n",
       "      <td>1.250117</td>\n",
       "    </tr>\n",
       "    <tr>\n",
       "      <th>min</th>\n",
       "      <td>0.000000</td>\n",
       "      <td>0.000000</td>\n",
       "      <td>18.250000</td>\n",
       "      <td>0.000000</td>\n",
       "      <td>0.000000</td>\n",
       "      <td>0.000000</td>\n",
       "    </tr>\n",
       "    <tr>\n",
       "      <th>25%</th>\n",
       "      <td>0.000000</td>\n",
       "      <td>9.000000</td>\n",
       "      <td>35.500000</td>\n",
       "      <td>398.550000</td>\n",
       "      <td>0.000000</td>\n",
       "      <td>0.000000</td>\n",
       "    </tr>\n",
       "    <tr>\n",
       "      <th>50%</th>\n",
       "      <td>0.000000</td>\n",
       "      <td>29.000000</td>\n",
       "      <td>70.350000</td>\n",
       "      <td>1394.550000</td>\n",
       "      <td>0.000000</td>\n",
       "      <td>0.000000</td>\n",
       "    </tr>\n",
       "    <tr>\n",
       "      <th>75%</th>\n",
       "      <td>0.000000</td>\n",
       "      <td>55.000000</td>\n",
       "      <td>89.850000</td>\n",
       "      <td>3786.600000</td>\n",
       "      <td>0.000000</td>\n",
       "      <td>0.000000</td>\n",
       "    </tr>\n",
       "    <tr>\n",
       "      <th>max</th>\n",
       "      <td>1.000000</td>\n",
       "      <td>72.000000</td>\n",
       "      <td>118.750000</td>\n",
       "      <td>8684.800000</td>\n",
       "      <td>5.000000</td>\n",
       "      <td>9.000000</td>\n",
       "    </tr>\n",
       "  </tbody>\n",
       "</table>\n",
       "</div>"
      ],
      "text/plain": [
       "       SeniorCitizen       tenure  MonthlyCharges  TotalCharges  \\\n",
       "count    7043.000000  7043.000000     7043.000000   7043.000000   \n",
       "mean        0.162147    32.371149       64.761692   2279.734304   \n",
       "std         0.368612    24.559481       30.090047   2266.794470   \n",
       "min         0.000000     0.000000       18.250000      0.000000   \n",
       "25%         0.000000     9.000000       35.500000    398.550000   \n",
       "50%         0.000000    29.000000       70.350000   1394.550000   \n",
       "75%         0.000000    55.000000       89.850000   3786.600000   \n",
       "max         1.000000    72.000000      118.750000   8684.800000   \n",
       "\n",
       "       numAdminTickets  numTechTickets  \n",
       "count      7043.000000     7043.000000  \n",
       "mean          0.515689        0.419566  \n",
       "std           1.275299        1.250117  \n",
       "min           0.000000        0.000000  \n",
       "25%           0.000000        0.000000  \n",
       "50%           0.000000        0.000000  \n",
       "75%           0.000000        0.000000  \n",
       "max           5.000000        9.000000  "
      ]
     },
     "execution_count": 14,
     "metadata": {},
     "output_type": "execute_result"
    }
   ],
   "source": [
    "telecom_df.describe()"
   ]
  },
  {
   "cell_type": "markdown",
   "id": "b447a0b5-a228-4227-bb55-ff068ac203ff",
   "metadata": {},
   "source": [
    "### Categorical Variables"
   ]
  },
  {
   "cell_type": "code",
   "execution_count": 17,
   "id": "18258e70-579f-4eb0-8ab2-b3d65a27366b",
   "metadata": {},
   "outputs": [
    {
     "data": {
      "text/html": [
       "<div>\n",
       "<style scoped>\n",
       "    .dataframe tbody tr th:only-of-type {\n",
       "        vertical-align: middle;\n",
       "    }\n",
       "\n",
       "    .dataframe tbody tr th {\n",
       "        vertical-align: top;\n",
       "    }\n",
       "\n",
       "    .dataframe thead th {\n",
       "        text-align: right;\n",
       "    }\n",
       "</style>\n",
       "<table border=\"1\" class=\"dataframe\">\n",
       "  <thead>\n",
       "    <tr style=\"text-align: right;\">\n",
       "      <th></th>\n",
       "      <th>customerID</th>\n",
       "      <th>gender</th>\n",
       "      <th>Partner</th>\n",
       "      <th>Dependents</th>\n",
       "      <th>PhoneService</th>\n",
       "      <th>MultipleLines</th>\n",
       "      <th>InternetService</th>\n",
       "      <th>OnlineSecurity</th>\n",
       "      <th>OnlineBackup</th>\n",
       "      <th>DeviceProtection</th>\n",
       "      <th>TechSupport</th>\n",
       "      <th>StreamingTV</th>\n",
       "      <th>StreamingMovies</th>\n",
       "      <th>Contract</th>\n",
       "      <th>PaperlessBilling</th>\n",
       "      <th>PaymentMethod</th>\n",
       "      <th>Churn</th>\n",
       "    </tr>\n",
       "  </thead>\n",
       "  <tbody>\n",
       "    <tr>\n",
       "      <th>count</th>\n",
       "      <td>7043</td>\n",
       "      <td>7043</td>\n",
       "      <td>7043</td>\n",
       "      <td>7043</td>\n",
       "      <td>7043</td>\n",
       "      <td>7043</td>\n",
       "      <td>7043</td>\n",
       "      <td>7043</td>\n",
       "      <td>7043</td>\n",
       "      <td>7043</td>\n",
       "      <td>7043</td>\n",
       "      <td>7043</td>\n",
       "      <td>7043</td>\n",
       "      <td>7043</td>\n",
       "      <td>7043</td>\n",
       "      <td>7043</td>\n",
       "      <td>7043</td>\n",
       "    </tr>\n",
       "    <tr>\n",
       "      <th>unique</th>\n",
       "      <td>7043</td>\n",
       "      <td>2</td>\n",
       "      <td>2</td>\n",
       "      <td>2</td>\n",
       "      <td>2</td>\n",
       "      <td>3</td>\n",
       "      <td>3</td>\n",
       "      <td>3</td>\n",
       "      <td>3</td>\n",
       "      <td>3</td>\n",
       "      <td>3</td>\n",
       "      <td>3</td>\n",
       "      <td>3</td>\n",
       "      <td>3</td>\n",
       "      <td>2</td>\n",
       "      <td>4</td>\n",
       "      <td>2</td>\n",
       "    </tr>\n",
       "    <tr>\n",
       "      <th>top</th>\n",
       "      <td>7590-vhveg</td>\n",
       "      <td>male</td>\n",
       "      <td>no</td>\n",
       "      <td>no</td>\n",
       "      <td>yes</td>\n",
       "      <td>no</td>\n",
       "      <td>fiber optic</td>\n",
       "      <td>no</td>\n",
       "      <td>no</td>\n",
       "      <td>no</td>\n",
       "      <td>no</td>\n",
       "      <td>no</td>\n",
       "      <td>no</td>\n",
       "      <td>month-to-month</td>\n",
       "      <td>yes</td>\n",
       "      <td>electronic check</td>\n",
       "      <td>no</td>\n",
       "    </tr>\n",
       "    <tr>\n",
       "      <th>freq</th>\n",
       "      <td>1</td>\n",
       "      <td>3555</td>\n",
       "      <td>3641</td>\n",
       "      <td>4933</td>\n",
       "      <td>6361</td>\n",
       "      <td>3390</td>\n",
       "      <td>3096</td>\n",
       "      <td>3498</td>\n",
       "      <td>3088</td>\n",
       "      <td>3095</td>\n",
       "      <td>3473</td>\n",
       "      <td>2810</td>\n",
       "      <td>2785</td>\n",
       "      <td>3875</td>\n",
       "      <td>4171</td>\n",
       "      <td>2365</td>\n",
       "      <td>5174</td>\n",
       "    </tr>\n",
       "  </tbody>\n",
       "</table>\n",
       "</div>"
      ],
      "text/plain": [
       "        customerID gender Partner Dependents PhoneService MultipleLines  \\\n",
       "count         7043   7043    7043       7043         7043          7043   \n",
       "unique        7043      2       2          2            2             3   \n",
       "top     7590-vhveg   male      no         no          yes            no   \n",
       "freq             1   3555    3641       4933         6361          3390   \n",
       "\n",
       "       InternetService OnlineSecurity OnlineBackup DeviceProtection  \\\n",
       "count             7043           7043         7043             7043   \n",
       "unique               3              3            3                3   \n",
       "top        fiber optic             no           no               no   \n",
       "freq              3096           3498         3088             3095   \n",
       "\n",
       "       TechSupport StreamingTV StreamingMovies        Contract  \\\n",
       "count         7043        7043            7043            7043   \n",
       "unique           3           3               3               3   \n",
       "top             no          no              no  month-to-month   \n",
       "freq          3473        2810            2785            3875   \n",
       "\n",
       "       PaperlessBilling     PaymentMethod Churn  \n",
       "count              7043              7043  7043  \n",
       "unique                2                 4     2  \n",
       "top                 yes  electronic check    no  \n",
       "freq               4171              2365  5174  "
      ]
     },
     "execution_count": 17,
     "metadata": {},
     "output_type": "execute_result"
    }
   ],
   "source": [
    "telecom_df.describe(include='object')"
   ]
  },
  {
   "cell_type": "code",
   "execution_count": 21,
   "id": "b4e6b005-eed6-4eb6-96b2-3ca5e0dd1288",
   "metadata": {},
   "outputs": [
    {
     "data": {
      "text/plain": [
       "gender\n",
       "male      3555\n",
       "female    3488\n",
       "Name: count, dtype: int64"
      ]
     },
     "execution_count": 21,
     "metadata": {},
     "output_type": "execute_result"
    }
   ],
   "source": [
    "telecom_df['gender'].value_counts()"
   ]
  },
  {
   "cell_type": "code",
   "execution_count": 23,
   "id": "b83f7340-1f17-4e92-8b52-78a6ecce952e",
   "metadata": {},
   "outputs": [
    {
     "data": {
      "text/plain": [
       "gender\n",
       "male      0.504756\n",
       "female    0.495244\n",
       "Name: proportion, dtype: float64"
      ]
     },
     "execution_count": 23,
     "metadata": {},
     "output_type": "execute_result"
    }
   ],
   "source": [
    "telecom_df['gender'].value_counts(normalize=True)"
   ]
  },
  {
   "cell_type": "code",
   "execution_count": 25,
   "id": "b1743a22-b0af-42e5-8a46-cf3c395775fe",
   "metadata": {},
   "outputs": [
    {
     "data": {
      "text/plain": [
       "Partner\n",
       "no     3641\n",
       "yes    3402\n",
       "Name: count, dtype: int64"
      ]
     },
     "execution_count": 25,
     "metadata": {},
     "output_type": "execute_result"
    }
   ],
   "source": [
    "telecom_df['Partner'].value_counts()"
   ]
  },
  {
   "cell_type": "code",
   "execution_count": 27,
   "id": "fc96e917-efdd-472e-befd-c852980051b5",
   "metadata": {},
   "outputs": [
    {
     "data": {
      "text/plain": [
       "Partner\n",
       "no     0.516967\n",
       "yes    0.483033\n",
       "Name: proportion, dtype: float64"
      ]
     },
     "execution_count": 27,
     "metadata": {},
     "output_type": "execute_result"
    }
   ],
   "source": [
    "telecom_df['Partner'].value_counts(normalize=True)"
   ]
  },
  {
   "cell_type": "code",
   "execution_count": 29,
   "id": "f524caf0-71b1-4c05-bb79-5aff65b3bc62",
   "metadata": {},
   "outputs": [
    {
     "data": {
      "text/plain": [
       "Dependents\n",
       "no     4933\n",
       "yes    2110\n",
       "Name: count, dtype: int64"
      ]
     },
     "execution_count": 29,
     "metadata": {},
     "output_type": "execute_result"
    }
   ],
   "source": [
    "telecom_df['Dependents'].value_counts()"
   ]
  },
  {
   "cell_type": "code",
   "execution_count": 31,
   "id": "41d805f8-e648-4319-9cf3-28fb6a2197c3",
   "metadata": {},
   "outputs": [
    {
     "data": {
      "text/plain": [
       "Dependents\n",
       "no     0.700412\n",
       "yes    0.299588\n",
       "Name: proportion, dtype: float64"
      ]
     },
     "execution_count": 31,
     "metadata": {},
     "output_type": "execute_result"
    }
   ],
   "source": [
    "telecom_df['Dependents'].value_counts(normalize=True)"
   ]
  },
  {
   "cell_type": "code",
   "execution_count": 33,
   "id": "5c5a6eb7-4d0c-4e74-bcf9-e0d402fd30eb",
   "metadata": {},
   "outputs": [
    {
     "data": {
      "text/plain": [
       "PhoneService\n",
       "yes    6361\n",
       "no      682\n",
       "Name: count, dtype: int64"
      ]
     },
     "execution_count": 33,
     "metadata": {},
     "output_type": "execute_result"
    }
   ],
   "source": [
    "telecom_df['PhoneService'].value_counts()"
   ]
  },
  {
   "cell_type": "code",
   "execution_count": 35,
   "id": "9d4bed3c-8733-4a6e-ac45-175ba6120725",
   "metadata": {},
   "outputs": [
    {
     "data": {
      "text/plain": [
       "PhoneService\n",
       "yes    0.903166\n",
       "no     0.096834\n",
       "Name: proportion, dtype: float64"
      ]
     },
     "execution_count": 35,
     "metadata": {},
     "output_type": "execute_result"
    }
   ],
   "source": [
    "telecom_df['PhoneService'].value_counts(normalize=True)"
   ]
  },
  {
   "cell_type": "code",
   "execution_count": 37,
   "id": "41a97207-a549-4b6c-a5cc-1f846d8c98c0",
   "metadata": {},
   "outputs": [
    {
     "data": {
      "text/plain": [
       "MultipleLines\n",
       "no                  3390\n",
       "yes                 2971\n",
       "no phone service     682\n",
       "Name: count, dtype: int64"
      ]
     },
     "execution_count": 37,
     "metadata": {},
     "output_type": "execute_result"
    }
   ],
   "source": [
    "telecom_df['MultipleLines'].value_counts()"
   ]
  },
  {
   "cell_type": "code",
   "execution_count": 39,
   "id": "aee8ac8b-4feb-41f9-ac86-dc42b8185ab6",
   "metadata": {},
   "outputs": [
    {
     "data": {
      "text/plain": [
       "MultipleLines\n",
       "no                  0.481329\n",
       "yes                 0.421837\n",
       "no phone service    0.096834\n",
       "Name: proportion, dtype: float64"
      ]
     },
     "execution_count": 39,
     "metadata": {},
     "output_type": "execute_result"
    }
   ],
   "source": [
    "telecom_df['MultipleLines'].value_counts(normalize=True)"
   ]
  },
  {
   "cell_type": "code",
   "execution_count": 41,
   "id": "ad22ba93-35d5-4daf-bf80-50d73cf6cd93",
   "metadata": {},
   "outputs": [
    {
     "data": {
      "text/plain": [
       "InternetService\n",
       "fiber optic                3096\n",
       "digital subscriber line    2421\n",
       "no                         1526\n",
       "Name: count, dtype: int64"
      ]
     },
     "execution_count": 41,
     "metadata": {},
     "output_type": "execute_result"
    }
   ],
   "source": [
    "telecom_df['InternetService'].value_counts()"
   ]
  },
  {
   "cell_type": "code",
   "execution_count": 43,
   "id": "b36f7751-705b-40c6-bb2c-67058089b86f",
   "metadata": {},
   "outputs": [
    {
     "data": {
      "text/plain": [
       "InternetService\n",
       "fiber optic                0.439585\n",
       "digital subscriber line    0.343746\n",
       "no                         0.216669\n",
       "Name: proportion, dtype: float64"
      ]
     },
     "execution_count": 43,
     "metadata": {},
     "output_type": "execute_result"
    }
   ],
   "source": [
    "telecom_df['InternetService'].value_counts(normalize=True)"
   ]
  },
  {
   "cell_type": "code",
   "execution_count": 45,
   "id": "a3b4f204-3f2f-46be-b93d-1fbbd964f98f",
   "metadata": {},
   "outputs": [
    {
     "data": {
      "text/plain": [
       "OnlineSecurity\n",
       "no                     3498\n",
       "yes                    2019\n",
       "no internet service    1526\n",
       "Name: count, dtype: int64"
      ]
     },
     "execution_count": 45,
     "metadata": {},
     "output_type": "execute_result"
    }
   ],
   "source": [
    "telecom_df['OnlineSecurity'].value_counts()"
   ]
  },
  {
   "cell_type": "code",
   "execution_count": 47,
   "id": "6a8d45d4-27f0-46b1-a7af-494a0428de22",
   "metadata": {},
   "outputs": [
    {
     "data": {
      "text/plain": [
       "OnlineSecurity\n",
       "no                     0.496663\n",
       "yes                    0.286668\n",
       "no internet service    0.216669\n",
       "Name: proportion, dtype: float64"
      ]
     },
     "execution_count": 47,
     "metadata": {},
     "output_type": "execute_result"
    }
   ],
   "source": [
    "telecom_df['OnlineSecurity'].value_counts(normalize=True)"
   ]
  },
  {
   "cell_type": "code",
   "execution_count": 49,
   "id": "6142c4f2-6064-4c9c-9592-5f29e78c8aac",
   "metadata": {},
   "outputs": [
    {
     "data": {
      "text/plain": [
       "OnlineBackup\n",
       "no                     3088\n",
       "yes                    2429\n",
       "no internet service    1526\n",
       "Name: count, dtype: int64"
      ]
     },
     "execution_count": 49,
     "metadata": {},
     "output_type": "execute_result"
    }
   ],
   "source": [
    "telecom_df['OnlineBackup'].value_counts()"
   ]
  },
  {
   "cell_type": "code",
   "execution_count": 51,
   "id": "bc7edffb-ad67-4079-ac35-85d0cd01dced",
   "metadata": {},
   "outputs": [
    {
     "data": {
      "text/plain": [
       "OnlineBackup\n",
       "no                     0.438450\n",
       "yes                    0.344881\n",
       "no internet service    0.216669\n",
       "Name: proportion, dtype: float64"
      ]
     },
     "execution_count": 51,
     "metadata": {},
     "output_type": "execute_result"
    }
   ],
   "source": [
    "telecom_df['OnlineBackup'].value_counts(normalize=True)"
   ]
  },
  {
   "cell_type": "code",
   "execution_count": 53,
   "id": "9641d4e0-e047-4e1b-b7f3-187454648b34",
   "metadata": {},
   "outputs": [
    {
     "data": {
      "text/plain": [
       "DeviceProtection\n",
       "no                     3095\n",
       "yes                    2422\n",
       "no internet service    1526\n",
       "Name: count, dtype: int64"
      ]
     },
     "execution_count": 53,
     "metadata": {},
     "output_type": "execute_result"
    }
   ],
   "source": [
    "telecom_df['DeviceProtection'].value_counts()"
   ]
  },
  {
   "cell_type": "code",
   "execution_count": 55,
   "id": "749ddb70-5495-4727-8764-1281870093cc",
   "metadata": {},
   "outputs": [
    {
     "data": {
      "text/plain": [
       "DeviceProtection\n",
       "no                     0.439443\n",
       "yes                    0.343888\n",
       "no internet service    0.216669\n",
       "Name: proportion, dtype: float64"
      ]
     },
     "execution_count": 55,
     "metadata": {},
     "output_type": "execute_result"
    }
   ],
   "source": [
    "telecom_df['DeviceProtection'].value_counts(normalize=True)"
   ]
  },
  {
   "cell_type": "code",
   "execution_count": 57,
   "id": "8e0712ab-8a3b-43eb-8920-60174064f12f",
   "metadata": {},
   "outputs": [
    {
     "data": {
      "text/plain": [
       "TechSupport\n",
       "no                     3473\n",
       "yes                    2044\n",
       "no internet service    1526\n",
       "Name: count, dtype: int64"
      ]
     },
     "execution_count": 57,
     "metadata": {},
     "output_type": "execute_result"
    }
   ],
   "source": [
    "telecom_df['TechSupport'].value_counts()"
   ]
  },
  {
   "cell_type": "code",
   "execution_count": 59,
   "id": "0c646241-6b7f-484d-ada1-a6417bae3cf7",
   "metadata": {},
   "outputs": [
    {
     "data": {
      "text/plain": [
       "TechSupport\n",
       "no                     0.493114\n",
       "yes                    0.290217\n",
       "no internet service    0.216669\n",
       "Name: proportion, dtype: float64"
      ]
     },
     "execution_count": 59,
     "metadata": {},
     "output_type": "execute_result"
    }
   ],
   "source": [
    "telecom_df['TechSupport'].value_counts(normalize=True)"
   ]
  },
  {
   "cell_type": "code",
   "execution_count": 61,
   "id": "0517cd5d-96b5-4997-b303-582ddf8c7c44",
   "metadata": {},
   "outputs": [
    {
     "data": {
      "text/plain": [
       "StreamingTV\n",
       "no                     2810\n",
       "yes                    2707\n",
       "no internet service    1526\n",
       "Name: count, dtype: int64"
      ]
     },
     "execution_count": 61,
     "metadata": {},
     "output_type": "execute_result"
    }
   ],
   "source": [
    "telecom_df['StreamingTV'].value_counts()"
   ]
  },
  {
   "cell_type": "code",
   "execution_count": 63,
   "id": "78a6cf9d-f179-483a-a963-9c387424c640",
   "metadata": {},
   "outputs": [
    {
     "data": {
      "text/plain": [
       "StreamingTV\n",
       "no                     0.398978\n",
       "yes                    0.384353\n",
       "no internet service    0.216669\n",
       "Name: proportion, dtype: float64"
      ]
     },
     "execution_count": 63,
     "metadata": {},
     "output_type": "execute_result"
    }
   ],
   "source": [
    "telecom_df['StreamingTV'].value_counts(normalize=True)"
   ]
  },
  {
   "cell_type": "code",
   "execution_count": 65,
   "id": "8d9f67a3-2db6-4e2e-a21c-e135c85e5397",
   "metadata": {},
   "outputs": [
    {
     "data": {
      "text/plain": [
       "Contract\n",
       "month-to-month    3875\n",
       "two year          1695\n",
       "one year          1473\n",
       "Name: count, dtype: int64"
      ]
     },
     "execution_count": 65,
     "metadata": {},
     "output_type": "execute_result"
    }
   ],
   "source": [
    "telecom_df['Contract'].value_counts()"
   ]
  },
  {
   "cell_type": "code",
   "execution_count": 67,
   "id": "5ebc3f6d-a1bf-427f-9170-ab1161f71697",
   "metadata": {},
   "outputs": [
    {
     "data": {
      "text/plain": [
       "Contract\n",
       "month-to-month    0.550192\n",
       "two year          0.240664\n",
       "one year          0.209144\n",
       "Name: proportion, dtype: float64"
      ]
     },
     "execution_count": 67,
     "metadata": {},
     "output_type": "execute_result"
    }
   ],
   "source": [
    "telecom_df['Contract'].value_counts(normalize=True)"
   ]
  },
  {
   "cell_type": "code",
   "execution_count": 69,
   "id": "b3825fb0-dca3-455e-871d-a7bdfda20e53",
   "metadata": {},
   "outputs": [
    {
     "data": {
      "text/plain": [
       "PaperlessBilling\n",
       "yes    4171\n",
       "no     2872\n",
       "Name: count, dtype: int64"
      ]
     },
     "execution_count": 69,
     "metadata": {},
     "output_type": "execute_result"
    }
   ],
   "source": [
    "telecom_df['PaperlessBilling'].value_counts()"
   ]
  },
  {
   "cell_type": "code",
   "execution_count": 71,
   "id": "ece52ca9-b58c-4c2c-bcab-8aabb7a3662d",
   "metadata": {},
   "outputs": [
    {
     "data": {
      "text/plain": [
       "PaperlessBilling\n",
       "yes    0.592219\n",
       "no     0.407781\n",
       "Name: proportion, dtype: float64"
      ]
     },
     "execution_count": 71,
     "metadata": {},
     "output_type": "execute_result"
    }
   ],
   "source": [
    "telecom_df['PaperlessBilling'].value_counts(normalize=True)"
   ]
  },
  {
   "cell_type": "code",
   "execution_count": 73,
   "id": "0116a84a-2612-4603-8a98-f19908f858fd",
   "metadata": {},
   "outputs": [
    {
     "data": {
      "text/plain": [
       "PaymentMethod\n",
       "electronic check             2365\n",
       "mailed check                 1612\n",
       "bank transfer (automatic)    1544\n",
       "credit card (automatic)      1522\n",
       "Name: count, dtype: int64"
      ]
     },
     "execution_count": 73,
     "metadata": {},
     "output_type": "execute_result"
    }
   ],
   "source": [
    "telecom_df['PaymentMethod'].value_counts()"
   ]
  },
  {
   "cell_type": "code",
   "execution_count": 75,
   "id": "bf8ef13b-b372-477a-a2bf-8ede3f0f3554",
   "metadata": {},
   "outputs": [
    {
     "data": {
      "text/plain": [
       "PaymentMethod\n",
       "electronic check             0.335794\n",
       "mailed check                 0.228880\n",
       "bank transfer (automatic)    0.219225\n",
       "credit card (automatic)      0.216101\n",
       "Name: proportion, dtype: float64"
      ]
     },
     "execution_count": 75,
     "metadata": {},
     "output_type": "execute_result"
    }
   ],
   "source": [
    "telecom_df['PaymentMethod'].value_counts(normalize=True)"
   ]
  },
  {
   "cell_type": "markdown",
   "id": "1e09274a-c54a-45f8-8726-0bd962309ace",
   "metadata": {},
   "source": [
    " ### Understanding the Churn Column\n",
    "\n",
    "In our dataset, there is a `Churn` column that indicates whether a customer has left the telecom service or not:\n",
    "\n",
    "- **Yes** – The customer has **churned**, meaning they have **canceled** their service or switched to another provider.\n",
    "- **No** – The customer is **still active**, meaning they have * the telecom company.\n"
   ]
  },
  {
   "cell_type": "code",
   "execution_count": 77,
   "id": "11ce39c5-82f9-4a40-bffd-5d35a6f855dc",
   "metadata": {},
   "outputs": [
    {
     "data": {
      "text/plain": [
       "Churn\n",
       "no     5174\n",
       "yes    1869\n",
       "Name: count, dtype: int64"
      ]
     },
     "execution_count": 77,
     "metadata": {},
     "output_type": "execute_result"
    }
   ],
   "source": [
    "telecom_df['Churn'].value_counts()"
   ]
  },
  {
   "cell_type": "code",
   "execution_count": 79,
   "id": "c902b245-c9e1-4842-82e1-8c072fbde932",
   "metadata": {},
   "outputs": [
    {
     "data": {
      "text/plain": [
       "Churn\n",
       "no     0.73463\n",
       "yes    0.26537\n",
       "Name: proportion, dtype: float64"
      ]
     },
     "execution_count": 79,
     "metadata": {},
     "output_type": "execute_result"
    }
   ],
   "source": [
    "telecom_df['Churn'].value_counts(normalize=True)"
   ]
  },
  {
   "cell_type": "markdown",
   "id": "d21e7d52-2941-4ec6-9cc1-37ff7ad3553d",
   "metadata": {},
   "source": [
    "### Churn rate\n",
    " **What is Churn Rate?**\r\n",
    "\r\n",
    "In the telecom industry, **Churn Rate** refers to the percentage of customers who stop using the company's services during a specific period of time.\r\n",
    "\r\n",
    "It is a key performance indicator (KPI) used to measure customer retention and loportant?\r\n",
    "\r\n",
    "High churn rates can signal:\r\n",
    "\r\n",
    "- Poor customer satisfaction\r\n",
    "- High competition\r\n",
    "- Issues with service quality or pricing\r\n",
    "\r\n",
    "Reducing churn is crucial for maintaining revenue and customer base.\r\n"
   ]
  },
  {
   "cell_type": "markdown",
   "id": "8e0847b2-eb72-4dbd-8644-9b6765bc7523",
   "metadata": {},
   "source": [
    "telecom_df_churn = telecom_df.groupby('Churn').size().reset_index(name='churn_total')\n",
    "telecom_df_churn"
   ]
  },
  {
   "cell_type": "code",
   "execution_count": 96,
   "id": "5147c2c0-6f60-4dae-a259-48c1bfd78f96",
   "metadata": {},
   "outputs": [
    {
     "data": {
      "application/vnd.plotly.v1+json": {
       "config": {
        "plotlyServerURL": "https://plot.ly"
       },
       "data": [
        {
         "domain": {
          "x": [
           0,
           1
          ],
          "y": [
           0,
           1
          ]
         },
         "hovertemplate": "Churn=%{label}<br>churn_total=%{value}<extra></extra>",
         "labels": [
          "no",
          "yes"
         ],
         "legendgroup": "",
         "name": "",
         "showlegend": true,
         "type": "pie",
         "values": {
          "_inputArray": {
           "0": 5174,
           "1": 1869,
           "bdata": "NhRNBw==",
           "dtype": "i2",
           "shape": "2"
          },
          "bdata": "NhRNBw==",
          "dtype": "i2"
         }
        }
       ],
       "layout": {
        "autosize": true,
        "legend": {
         "tracegroupgap": 0
        },
        "paper_bgcolor": "rgba(0, 0, 0, 0)",
        "piecolorway": [
         "yellow",
         "orange"
        ],
        "plot_bgcolor": "rgba(0, 0, 0, 0)",
        "template": {
         "data": {
          "pie": [
           {
            "automargin": true,
            "type": "pie"
           }
          ],
          "scatter": [
           {
            "line": {
             "width": 3
            },
            "marker": {
             "size": 9
            },
            "type": "scatter"
           }
          ],
          "scatter3d": [
           {
            "line": {
             "width": 3
            },
            "marker": {
             "size": 9
            },
            "type": "scatter3d"
           }
          ],
          "scattergeo": [
           {
            "line": {
             "width": 3
            },
            "marker": {
             "size": 9
            },
            "type": "scattergeo"
           }
          ],
          "scattergl": [
           {
            "line": {
             "width": 3
            },
            "marker": {
             "size": 9
            },
            "type": "scattergl"
           }
          ],
          "scatterpolar": [
           {
            "line": {
             "width": 3
            },
            "marker": {
             "size": 9
            },
            "type": "scatterpolar"
           }
          ],
          "scatterpolargl": [
           {
            "line": {
             "width": 3
            },
            "marker": {
             "size": 9
            },
            "type": "scatterpolargl"
           }
          ],
          "scatterternary": [
           {
            "line": {
             "width": 3
            },
            "marker": {
             "size": 9
            },
            "type": "scatterternary"
           }
          ],
          "table": [
           {
            "cells": {
             "height": 30
            },
            "header": {
             "height": 36
            },
            "type": "table"
           }
          ]
         },
         "layout": {
          "font": {
           "size": 18
          },
          "xaxis": {
           "title": {
            "standoff": 15
           }
          },
          "yaxis": {
           "title": {
            "standoff": 15
           }
          }
         }
        },
        "title": {
         "text": "Churn Rate"
        }
       }
      },
      "image/png": "[encoded data removed]"
     },
     "metadata": {},
     "output_type": "display_data"
    }
   ],
   "source": [
    "fig = px.pie(\n",
    "    telecom_df_churn,\n",
    "    names='Churn',\n",
    "    values='churn_total',\n",
    "    title='Churn Rate',\n",
    "    color_discrete_sequence=['yellow','orange']\n",
    ")\n",
    "\n",
    "fig.update_layout(\n",
    "    template=\"presentation\",\n",
    "    paper_bgcolor=\"rgba(0,0,0,0)\",\n",
    "    plot_bgcolor=\"rgba(0,0,0,0)\"\n",
    ")\n",
    "\n",
    "fig.show()\n",
    "\n",
    "fig.write_image(os.path.join(results_dir, 'Churn_Rate_pie_chart.jpg'))\n",
    "fig.write_image(os.path.join(results_dir, 'Churn_Rate_pie_chart.png'))\n",
    "fig.write_html(os.path.join(results_dir, 'Churn_Rate_pie_chart.html'))"
   ]
  },
  {
   "cell_type": "markdown",
   "id": "c372df94-75a5-4a3f-be3c-0a4100a85c69",
   "metadata": {},
   "source": [
    "After analyzing the dataset, we observe the following churn rate:\n",
    "\n",
    "- **26.5%** of customers have churned (**Churn = Yes**)\n",
    "- **73.5%** of customers have remained loyal (**Churn = No**)\n",
    "\n",
    "\n",
    "- Out of every 100 customers, about **27 leave the telecom service**, while **73 continue** using it.\n",
    "- A churn rate of **26.5%** is relatively **high** in the telecom industry and could be a sign of underlying issues such as:\n",
    "  - Poor customer service\n",
    "  - Uncompetitive pricing\n",
    "  - Limited network coverage\n",
    "  - Inadequate value propositions compared to competitors\n",
    "\n",
    "\n",
    "Understanding churn rate is essential because:\n",
    "\n",
    "- **Customer acquisition costs** are high. It's often more expensive to gain a new customer than to retain an existing one.\n",
    "- A high churn rate can lead to **revenue loss** and affect the company’s **growth and sustainability**.\n",
    "- Identifying the factors that lead to churn enables the company to take **targeted actions** to reduce it.\n",
    "\n",
    "This insight sets the foundation for deeper analysis, such as:\n",
    "- Segmenting churned users\n",
    "- Identifying top predictors of churn\n",
    "- Designing customer retention strategies"
   ]
  },
  {
   "cell_type": "markdown",
   "id": "3b347f1b-5dd3-4006-9f0e-c3fd47fd24bd",
   "metadata": {},
   "source": [
    "### Gender Distribution"
   ]
  },
  {
   "cell_type": "code",
   "execution_count": 145,
   "id": "2d202b74-7a90-49d4-b2cc-d78c702aa78c",
   "metadata": {},
   "outputs": [
    {
     "data": {
      "text/html": [
       "<div>\n",
       "<style scoped>\n",
       "    .dataframe tbody tr th:only-of-type {\n",
       "        vertical-align: middle;\n",
       "    }\n",
       "\n",
       "    .dataframe tbody tr th {\n",
       "        vertical-align: top;\n",
       "    }\n",
       "\n",
       "    .dataframe thead th {\n",
       "        text-align: right;\n",
       "    }\n",
       "</style>\n",
       "<table border=\"1\" class=\"dataframe\">\n",
       "  <thead>\n",
       "    <tr style=\"text-align: right;\">\n",
       "      <th></th>\n",
       "      <th>gender</th>\n",
       "      <th>total</th>\n",
       "    </tr>\n",
       "  </thead>\n",
       "  <tbody>\n",
       "    <tr>\n",
       "      <th>0</th>\n",
       "      <td>female</td>\n",
       "      <td>3488</td>\n",
       "    </tr>\n",
       "    <tr>\n",
       "      <th>1</th>\n",
       "      <td>male</td>\n",
       "      <td>3555</td>\n",
       "    </tr>\n",
       "  </tbody>\n",
       "</table>\n",
       "</div>"
      ],
      "text/plain": [
       "   gender  total\n",
       "0  female   3488\n",
       "1    male   3555"
      ]
     },
     "execution_count": 145,
     "metadata": {},
     "output_type": "execute_result"
    }
   ],
   "source": [
    "telecom_df_gender= telecom_df.groupby(['gender']).size().reset_index(name='total')\n",
    "telecom_df_gender"
   ]
  },
  {
   "cell_type": "code",
   "execution_count": 219,
   "id": "1b4f7245-fc8d-4be0-a8b6-ce70d0a535a8",
   "metadata": {},
   "outputs": [
    {
     "data": {
      "application/vnd.plotly.v1+json": {
       "config": {
        "plotlyServerURL": "https://plot.ly"
       },
       "data": [
        {
         "cliponaxis": false,
         "hovertemplate": "gender=%{x}<br>total=%{text}<extra></extra>",
         "insidetextanchor": "middle",
         "legendgroup": "female",
         "marker": {
          "color": "yellow",
          "pattern": {
           "shape": ""
          }
         },
         "name": "female",
         "orientation": "v",
         "showlegend": true,
         "text": {
          "_inputArray": {
           "0": 3488,
           "bdata": "AAAAAABAq0A=",
           "dtype": "f8",
           "shape": "1"
          },
          "bdata": "AAAAAABAq0A=",
          "dtype": "f8"
         },
         "textfont": {
          "color": "black",
          "size": 14
         },
         "textposition": "inside",
         "texttemplate": "%{text:.0f}",
         "type": "bar",
         "x": [
          "female"
         ],
         "xaxis": "x",
         "y": {
          "_inputArray": {
           "0": 3488,
           "bdata": "oA0=",
           "dtype": "i2",
           "shape": "1"
          },
          "bdata": "oA0=",
          "dtype": "i2"
         },
         "yaxis": "y"
        },
        {
         "cliponaxis": false,
         "hovertemplate": "gender=%{x}<br>total=%{text}<extra></extra>",
         "insidetextanchor": "middle",
         "legendgroup": "male",
         "marker": {
          "color": "orange",
          "pattern": {
           "shape": ""
          }
         },
         "name": "male",
         "orientation": "v",
         "showlegend": true,
         "text": {
          "_inputArray": {
           "0": 3555,
           "bdata": "AAAAAADGq0A=",
           "dtype": "f8",
           "shape": "1"
          },
          "bdata": "AAAAAADGq0A=",
          "dtype": "f8"
         },
         "textfont": {
          "color": "black",
          "size": 14
         },
         "textposition": "inside",
         "texttemplate": "%{text:.0f}",
         "type": "bar",
         "x": [
          "male"
         ],
         "xaxis": "x",
         "y": {
          "_inputArray": {
           "0": 3555,
           "bdata": "4w0=",
           "dtype": "i2",
           "shape": "1"
          },
          "bdata": "4w0=",
          "dtype": "i2"
         },
         "yaxis": "y"
        }
       ],
       "layout": {
        "autosize": true,
        "barmode": "relative",
        "font": {
         "color": "black",
         "family": "Arial",
         "size": 14
        },
        "legend": {
         "title": {
          "text": "gender"
         },
         "tracegroupgap": 0
        },
        "margin": {
         "b": 100,
         "l": 80,
         "r": 50,
         "t": 80
        },
        "paper_bgcolor": "rgba(0, 0, 0, 0)",
        "plot_bgcolor": "rgba(0, 0, 0, 0)",
        "showlegend": false,
        "template": {
         "data": {
          "pie": [
           {
            "automargin": true,
            "type": "pie"
           }
          ],
          "scatter": [
           {
            "line": {
             "width": 3
            },
            "marker": {
             "size": 9
            },
            "type": "scatter"
           }
          ],
          "scatter3d": [
           {
            "line": {
             "width": 3
            },
            "marker": {
             "size": 9
            },
            "type": "scatter3d"
           }
          ],
          "scattergeo": [
           {
            "line": {
             "width": 3
            },
            "marker": {
             "size": 9
            },
            "type": "scattergeo"
           }
          ],
          "scattergl": [
           {
            "line": {
             "width": 3
            },
            "marker": {
             "size": 9
            },
            "type": "scattergl"
           }
          ],
          "scatterpolar": [
           {
            "line": {
             "width": 3
            },
            "marker": {
             "size": 9
            },
            "type": "scatterpolar"
           }
          ],
          "scatterpolargl": [
           {
            "line": {
             "width": 3
            },
            "marker": {
             "size": 9
            },
            "type": "scatterpolargl"
           }
          ],
          "scatterternary": [
           {
            "line": {
             "width": 3
            },
            "marker": {
             "size": 9
            },
            "type": "scatterternary"
           }
          ],
          "table": [
           {
            "cells": {
             "height": 30
            },
            "header": {
             "height": 36
            },
            "type": "table"
           }
          ]
         },
         "layout": {
          "font": {
           "size": 18
          },
          "xaxis": {
           "title": {
            "standoff": 15
           }
          },
          "yaxis": {
           "title": {
            "standoff": 15
           }
          }
         }
        },
        "title": {
         "font": {
          "color": "black",
          "family": "Arial",
          "size": 20
         },
         "text": "Gender Distribution"
        },
        "xaxis": {
         "anchor": "y",
         "autorange": true,
         "categoryarray": [
          "female",
          "male"
         ],
         "categoryorder": "array",
         "domain": [
          0,
          1
         ],
         "range": [
          -0.5,
          1.5
         ],
         "title": {
          "text": "Gender"
         },
         "type": "category"
        },
        "yaxis": {
         "anchor": "x",
         "autorange": true,
         "domain": [
          0,
          1
         ],
         "range": [
          0,
          3742.1052631578946
         ],
         "title": {
          "text": "Number of Customers"
         },
         "type": "linear"
        }
       }
      },
      "image/png": "[encoded data removed]"
     },
     "metadata": {},
     "output_type": "display_data"
    }
   ],
   "source": [
    "\n",
    "fig = px.bar(\n",
    "    telecom_df_gender,\n",
    "    x='gender',\n",
    "    y='total',\n",
    "    color='gender', \n",
    "    title='Gender Distribution',\n",
    "    text='total',\n",
    "    color_discrete_sequence=['yellow', 'orange']\n",
    ")\n",
    "\n",
    "fig.update_traces(\n",
    "    texttemplate='%{text:.0f}', \n",
    "    textposition='inside',\n",
    "    insidetextanchor='middle',\n",
    "    textfont=dict(size=14, color='black'),\n",
    "    cliponaxis=False\n",
    ")\n",
    "\n",
    "fig.update_layout(\n",
    "    template=\"presentation\",\n",
    "    xaxis_title='Gender',\n",
    "    yaxis_title='Number of Customers',\n",
    "    showlegend=False,\n",
    "    font=dict(\n",
    "        family=\"Arial\",\n",
    "        size=14,\n",
    "        color=\"black\"\n",
    "    ),\n",
    "    title_font=dict(\n",
    "        family=\"Arial\",\n",
    "        size=20,\n",
    "        color=\"black\"\n",
    "    ),\n",
    "    margin=dict(l=80, r=50, t=80, b=100),\n",
    "    paper_bgcolor=\"rgba(0,0,0,0)\",\n",
    "    plot_bgcolor=\"rgba(0,0,0,0)\"\n",
    ")\n",
    "\n",
    "fig.show()\n",
    "\n",
    "fig.write_image(os.path.join(results_dir, 'Gender_Distribution_bar_chart.jpg'))\n",
    "fig.write_image(os.path.join(results_dir, 'Gender_Distribution_bar_chart.png'))\n",
    "fig.write_html(os.path.join(results_dir, 'Gender_Distribution_bar_chart.html'))\n"
   ]
  },
  {
   "cell_type": "markdown",
   "id": "9f584411-d40c-49ab-a893-da66d70ea43a",
   "metadata": {},
   "source": [
    "The dataset includes customer information classified by gender. Here's the breakdown:\n",
    "\n",
    "- **Female**: 3,488 customers\n",
    "- **Male**: 3,555 customers\n",
    "\n",
    "- The gender distribution is nearly balanced, with **51.9% male** and **48.1% female**.\n",
    "- Since the difference is small, **gender is unlikely to be a strong biasing factor** in this dataset."
   ]
  },
  {
   "cell_type": "markdown",
   "id": "4338d6c1-9724-4d9b-9726-839f502bf7c7",
   "metadata": {},
   "source": [
    "### Payment Method\n",
    "\n",
    "The dataset includes information about the preferred **payment methods** used by customers. The distribution is as follows:\n",
    "\n",
    "- **Electronic Check**: 34%\n",
    "- **Mailed Check**: 23%\n",
    "- **Bank Transfer (Automatic)**: 22%\n",
    "- **Credit Card (Automatic)**: 22%\n"
   ]
  },
  {
   "cell_type": "code",
   "execution_count": 139,
   "id": "2782a0e4-5320-43bf-9480-3aa76a9ad03d",
   "metadata": {},
   "outputs": [
    {
     "data": {
      "text/html": [
       "<div>\n",
       "<style scoped>\n",
       "    .dataframe tbody tr th:only-of-type {\n",
       "        vertical-align: middle;\n",
       "    }\n",
       "\n",
       "    .dataframe tbody tr th {\n",
       "        vertical-align: top;\n",
       "    }\n",
       "\n",
       "    .dataframe thead th {\n",
       "        text-align: right;\n",
       "    }\n",
       "</style>\n",
       "<table border=\"1\" class=\"dataframe\">\n",
       "  <thead>\n",
       "    <tr style=\"text-align: right;\">\n",
       "      <th></th>\n",
       "      <th>PaymentMethod</th>\n",
       "      <th>payment_method_rate</th>\n",
       "    </tr>\n",
       "  </thead>\n",
       "  <tbody>\n",
       "    <tr>\n",
       "      <th>0</th>\n",
       "      <td>electronic check</td>\n",
       "      <td>0.34</td>\n",
       "    </tr>\n",
       "    <tr>\n",
       "      <th>1</th>\n",
       "      <td>mailed check</td>\n",
       "      <td>0.23</td>\n",
       "    </tr>\n",
       "    <tr>\n",
       "      <th>2</th>\n",
       "      <td>bank transfer (automatic)</td>\n",
       "      <td>0.22</td>\n",
       "    </tr>\n",
       "    <tr>\n",
       "      <th>3</th>\n",
       "      <td>credit card (automatic)</td>\n",
       "      <td>0.22</td>\n",
       "    </tr>\n",
       "  </tbody>\n",
       "</table>\n",
       "</div>"
      ],
      "text/plain": [
       "               PaymentMethod  payment_method_rate\n",
       "0           electronic check                 0.34\n",
       "1               mailed check                 0.23\n",
       "2  bank transfer (automatic)                 0.22\n",
       "3    credit card (automatic)                 0.22"
      ]
     },
     "execution_count": 139,
     "metadata": {},
     "output_type": "execute_result"
    }
   ],
   "source": [
    "telecom_df_payment_method = telecom_df['PaymentMethod'].value_counts(normalize=True).round(2).reset_index(name='payment_method_rate')\n",
    "telecom_df_payment_method"
   ]
  },
  {
   "cell_type": "code",
   "execution_count": 217,
   "id": "733f204e-e23b-48b3-9efc-3255c8484293",
   "metadata": {},
   "outputs": [
    {
     "data": {
      "application/vnd.plotly.v1+json": {
       "config": {
        "plotlyServerURL": "https://plot.ly"
       },
       "data": [
        {
         "cliponaxis": false,
         "hovertemplate": "PaymentMethod=%{x}<br>payment_method_rate=%{text}<extra></extra>",
         "insidetextanchor": "middle",
         "legendgroup": "electronic check",
         "marker": {
          "color": "yellow",
          "pattern": {
           "shape": ""
          }
         },
         "name": "electronic check",
         "orientation": "v",
         "showlegend": true,
         "text": {
          "_inputArray": {
           "0": 34,
           "bdata": "AAAAAAAAQUA=",
           "dtype": "f8",
           "shape": "1"
          },
          "bdata": "AAAAAAAAQUA=",
          "dtype": "f8"
         },
         "textfont": {
          "color": "black",
          "size": 14
         },
         "textposition": "inside",
         "texttemplate": "%{text:.2f}%",
         "type": "bar",
         "x": [
          "electronic check"
         ],
         "xaxis": "x",
         "y": {
          "_inputArray": {
           "0": 34,
           "bdata": "AAAAAAAAQUA=",
           "dtype": "f8",
           "shape": "1"
          },
          "bdata": "AAAAAAAAQUA=",
          "dtype": "f8"
         },
         "yaxis": "y"
        },
        {
         "cliponaxis": false,
         "hovertemplate": "PaymentMethod=%{x}<br>payment_method_rate=%{text}<extra></extra>",
         "insidetextanchor": "middle",
         "legendgroup": "mailed check",
         "marker": {
          "color": "orange",
          "pattern": {
           "shape": ""
          }
         },
         "name": "mailed check",
         "orientation": "v",
         "showlegend": true,
         "text": {
          "_inputArray": {
           "0": 23,
           "bdata": "AAAAAAAAN0A=",
           "dtype": "f8",
           "shape": "1"
          },
          "bdata": "AAAAAAAAN0A=",
          "dtype": "f8"
         },
         "textfont": {
          "color": "black",
          "size": 14
         },
         "textposition": "inside",
         "texttemplate": "%{text:.2f}%",
         "type": "bar",
         "x": [
          "mailed check"
         ],
         "xaxis": "x",
         "y": {
          "_inputArray": {
           "0": 23,
           "bdata": "AAAAAAAAN0A=",
           "dtype": "f8",
           "shape": "1"
          },
          "bdata": "AAAAAAAAN0A=",
          "dtype": "f8"
         },
         "yaxis": "y"
        },
        {
         "cliponaxis": false,
         "hovertemplate": "PaymentMethod=%{x}<br>payment_method_rate=%{text}<extra></extra>",
         "insidetextanchor": "middle",
         "legendgroup": "bank transfer (automatic)",
         "marker": {
          "color": "red",
          "pattern": {
           "shape": ""
          }
         },
         "name": "bank transfer (automatic)",
         "orientation": "v",
         "showlegend": true,
         "text": {
          "_inputArray": {
           "0": 22,
           "bdata": "AAAAAAAANkA=",
           "dtype": "f8",
           "shape": "1"
          },
          "bdata": "AAAAAAAANkA=",
          "dtype": "f8"
         },
         "textfont": {
          "color": "black",
          "size": 14
         },
         "textposition": "inside",
         "texttemplate": "%{text:.2f}%",
         "type": "bar",
         "x": [
          "bank transfer (automatic)"
         ],
         "xaxis": "x",
         "y": {
          "_inputArray": {
           "0": 22,
           "bdata": "AAAAAAAANkA=",
           "dtype": "f8",
           "shape": "1"
          },
          "bdata": "AAAAAAAANkA=",
          "dtype": "f8"
         },
         "yaxis": "y"
        },
        {
         "cliponaxis": false,
         "hovertemplate": "PaymentMethod=%{x}<br>payment_method_rate=%{text}<extra></extra>",
         "insidetextanchor": "middle",
         "legendgroup": "credit card (automatic)",
         "marker": {
          "color": "violet",
          "pattern": {
           "shape": ""
          }
         },
         "name": "credit card (automatic)",
         "orientation": "v",
         "showlegend": true,
         "text": {
          "_inputArray": {
           "0": 22,
           "bdata": "AAAAAAAANkA=",
           "dtype": "f8",
           "shape": "1"
          },
          "bdata": "AAAAAAAANkA=",
          "dtype": "f8"
         },
         "textfont": {
          "color": "black",
          "size": 14
         },
         "textposition": "inside",
         "texttemplate": "%{text:.2f}%",
         "type": "bar",
         "x": [
          "credit card (automatic)"
         ],
         "xaxis": "x",
         "y": {
          "_inputArray": {
           "0": 22,
           "bdata": "AAAAAAAANkA=",
           "dtype": "f8",
           "shape": "1"
          },
          "bdata": "AAAAAAAANkA=",
          "dtype": "f8"
         },
         "yaxis": "y"
        }
       ],
       "layout": {
        "autosize": true,
        "barmode": "relative",
        "font": {
         "color": "black",
         "family": "Arial",
         "size": 14
        },
        "legend": {
         "title": {
          "text": "PaymentMethod"
         },
         "tracegroupgap": 0
        },
        "margin": {
         "b": 140,
         "l": 80,
         "r": 40,
         "t": 80
        },
        "paper_bgcolor": "rgba(0, 0, 0, 0)",
        "plot_bgcolor": "rgba(0, 0, 0, 0)",
        "showlegend": false,
        "template": {
         "data": {
          "pie": [
           {
            "automargin": true,
            "type": "pie"
           }
          ],
          "scatter": [
           {
            "line": {
             "width": 3
            },
            "marker": {
             "size": 9
            },
            "type": "scatter"
           }
          ],
          "scatter3d": [
           {
            "line": {
             "width": 3
            },
            "marker": {
             "size": 9
            },
            "type": "scatter3d"
           }
          ],
          "scattergeo": [
           {
            "line": {
             "width": 3
            },
            "marker": {
             "size": 9
            },
            "type": "scattergeo"
           }
          ],
          "scattergl": [
           {
            "line": {
             "width": 3
            },
            "marker": {
             "size": 9
            },
            "type": "scattergl"
           }
          ],
          "scatterpolar": [
           {
            "line": {
             "width": 3
            },
            "marker": {
             "size": 9
            },
            "type": "scatterpolar"
           }
          ],
          "scatterpolargl": [
           {
            "line": {
             "width": 3
            },
            "marker": {
             "size": 9
            },
            "type": "scatterpolargl"
           }
          ],
          "scatterternary": [
           {
            "line": {
             "width": 3
            },
            "marker": {
             "size": 9
            },
            "type": "scatterternary"
           }
          ],
          "table": [
           {
            "cells": {
             "height": 30
            },
            "header": {
             "height": 36
            },
            "type": "table"
           }
          ]
         },
         "layout": {
          "font": {
           "size": 18
          },
          "xaxis": {
           "title": {
            "standoff": 15
           }
          },
          "yaxis": {
           "title": {
            "standoff": 15
           }
          }
         }
        },
        "title": {
         "font": {
          "color": "black",
          "family": "Arial",
          "size": 20
         },
         "text": "Payment Method Rate (%)"
        },
        "xaxis": {
         "anchor": "y",
         "autorange": true,
         "categoryarray": [
          "electronic check",
          "mailed check",
          "bank transfer (automatic)",
          "credit card (automatic)"
         ],
         "categoryorder": "array",
         "domain": [
          0,
          1
         ],
         "range": [
          -0.5,
          3.5
         ],
         "title": {
          "text": "Payment Method"
         },
         "type": "category"
        },
        "yaxis": {
         "anchor": "x",
         "autorange": true,
         "domain": [
          0,
          1
         ],
         "range": [
          0,
          35.78947368421053
         ],
         "title": {
          "text": "Rate (%)"
         },
         "type": "linear"
        }
       }
      },
      "image/png": "[encoded data removed]"
     },
     "metadata": {},
     "output_type": "display_data"
    },
    {
     "name": "stderr",
     "output_type": "stream",
     "text": [
      "WARNING\tThread(Thread-84 (run)) Task(Task-1450) choreographer.browser_async:browser_async.py:_close()- Resorting to unclean kill browser.\n"
     ]
    }
   ],
   "source": [
    "\n",
    "telecom_df_payment_method['payment_method_rate'] *= 100\n",
    "\n",
    "fig = px.bar(\n",
    "    telecom_df_payment_method,\n",
    "    x='PaymentMethod',\n",
    "    y='payment_method_rate',\n",
    "    color='PaymentMethod',\n",
    "    title='Payment Method Rate (%)',\n",
    "    text='payment_method_rate',\n",
    "    color_discrete_sequence=['yellow', 'orange', 'red', 'violet']\n",
    ")\n",
    "\n",
    "fig.update_traces(\n",
    "    texttemplate='%{text:.2f}%',  \n",
    "    textposition='inside',\n",
    "    insidetextanchor='middle',\n",
    "    textfont=dict(size=14, color='black'),\n",
    "    cliponaxis=False\n",
    ")\n",
    "\n",
    "fig.update_layout(\n",
    "    template=\"presentation\",\n",
    "    xaxis_title='Payment Method',\n",
    "    yaxis_title='Rate (%)',\n",
    "    showlegend=False,\n",
    "    font=dict(\n",
    "        family=\"Arial\",\n",
    "        size=14,\n",
    "        color=\"black\"\n",
    "    ),\n",
    "    title_font=dict(\n",
    "        family=\"Arial\",\n",
    "        size=20,\n",
    "        color=\"black\"\n",
    "    ),\n",
    "    margin=dict(l=80, r=40, t=80, b=140),\n",
    "    paper_bgcolor=\"rgba(0,0,0,0)\",\n",
    "    plot_bgcolor=\"rgba(0,0,0,0)\"\n",
    ")\n",
    "\n",
    "fig.show()\n",
    "\n",
    "fig.write_image(os.path.join(results_dir, 'Payment_Method_Rate_bar_chart.jpg'))\n",
    "fig.write_image(os.path.join(results_dir, 'Payment_Method_Rate_bar_chart.png'))\n",
    "fig.write_html(os.path.join(results_dir, 'Payment_Method_Rate_bar_chart.html'))\n",
    "\n"
   ]
  },
  {
   "cell_type": "markdown",
   "id": "ffb58771-0707-48b7-a3ec-b988761c9fa7",
   "metadata": {},
   "source": [
    "\n",
    "- **Electronic Check** is the most common payment method, used by over one-third of the customers.\n",
    "- Automatic payment methods (bank transfer and credit card) together account for **44%**, indicating that a significant portion of customers prefer convenience and automation.\n",
    "- The presence of **manual methods** like mailed checks (23%) suggests that some customers may still prefer traditional payment options.\n",
    "\n",
    "Understanding the distribution of payment methods is important for:\n",
    "- **Customer segmentation**\n",
    "- Identifying churn risks (e.g., manual payments may be associated with higher churn)\n",
    "- Designing targeted financial services or offers\n"
   ]
  },
  {
   "cell_type": "markdown",
   "id": "95506e26-d06d-44b0-93ab-3648e4fb6cd6",
   "metadata": {},
   "source": [
    "### Paperless Billing\n",
    "The dataset tracks whether customers opted for **paperless billing** or not. The distribution is as follows:\r\n",
    "\r\n",
    "- **Yes** (Paperless Billing): 59%\r\n",
    "- **No** (Paper Billing): 41%"
   ]
  },
  {
   "cell_type": "code",
   "execution_count": 156,
   "id": "dd632a46-14a1-444a-93ca-09ef79830956",
   "metadata": {},
   "outputs": [
    {
     "data": {
      "text/html": [
       "<div>\n",
       "<style scoped>\n",
       "    .dataframe tbody tr th:only-of-type {\n",
       "        vertical-align: middle;\n",
       "    }\n",
       "\n",
       "    .dataframe tbody tr th {\n",
       "        vertical-align: top;\n",
       "    }\n",
       "\n",
       "    .dataframe thead th {\n",
       "        text-align: right;\n",
       "    }\n",
       "</style>\n",
       "<table border=\"1\" class=\"dataframe\">\n",
       "  <thead>\n",
       "    <tr style=\"text-align: right;\">\n",
       "      <th></th>\n",
       "      <th>PaperlessBilling</th>\n",
       "      <th>paperless_rate</th>\n",
       "    </tr>\n",
       "  </thead>\n",
       "  <tbody>\n",
       "    <tr>\n",
       "      <th>0</th>\n",
       "      <td>yes</td>\n",
       "      <td>0.59</td>\n",
       "    </tr>\n",
       "    <tr>\n",
       "      <th>1</th>\n",
       "      <td>no</td>\n",
       "      <td>0.41</td>\n",
       "    </tr>\n",
       "  </tbody>\n",
       "</table>\n",
       "</div>"
      ],
      "text/plain": [
       "  PaperlessBilling  paperless_rate\n",
       "0              yes            0.59\n",
       "1               no            0.41"
      ]
     },
     "execution_count": 156,
     "metadata": {},
     "output_type": "execute_result"
    }
   ],
   "source": [
    "telecom_df_billing= telecom_df['PaperlessBilling'].value_counts(normalize=True).reset_index(name='paperless_rate').round(2)\n",
    "telecom_df_billing"
   ]
  },
  {
   "cell_type": "code",
   "execution_count": 160,
   "id": "367eb097-8401-49b3-a599-c7d0fd855383",
   "metadata": {},
   "outputs": [
    {
     "data": {
      "application/vnd.plotly.v1+json": {
       "config": {
        "plotlyServerURL": "https://plot.ly"
       },
       "data": [
        {
         "domain": {
          "x": [
           0,
           1
          ],
          "y": [
           0,
           1
          ]
         },
         "hovertemplate": "PaperlessBilling=%{label}<br>paperless_rate=%{value}<extra></extra>",
         "labels": [
          "yes",
          "no"
         ],
         "legendgroup": "",
         "name": "",
         "showlegend": true,
         "type": "pie",
         "values": {
          "_inputArray": {
           "0": 0.59,
           "1": 0.41,
           "bdata": "4XoUrkfh4j89CtejcD3aPw==",
           "dtype": "f8",
           "shape": "2"
          },
          "bdata": "4XoUrkfh4j89CtejcD3aPw==",
          "dtype": "f8"
         }
        }
       ],
       "layout": {
        "autosize": true,
        "legend": {
         "tracegroupgap": 0
        },
        "paper_bgcolor": "rgba(0, 0, 0, 0)",
        "piecolorway": [
         "yellow",
         "orange"
        ],
        "plot_bgcolor": "rgba(0, 0, 0, 0)",
        "template": {
         "data": {
          "pie": [
           {
            "automargin": true,
            "type": "pie"
           }
          ],
          "scatter": [
           {
            "line": {
             "width": 3
            },
            "marker": {
             "size": 9
            },
            "type": "scatter"
           }
          ],
          "scatter3d": [
           {
            "line": {
             "width": 3
            },
            "marker": {
             "size": 9
            },
            "type": "scatter3d"
           }
          ],
          "scattergeo": [
           {
            "line": {
             "width": 3
            },
            "marker": {
             "size": 9
            },
            "type": "scattergeo"
           }
          ],
          "scattergl": [
           {
            "line": {
             "width": 3
            },
            "marker": {
             "size": 9
            },
            "type": "scattergl"
           }
          ],
          "scatterpolar": [
           {
            "line": {
             "width": 3
            },
            "marker": {
             "size": 9
            },
            "type": "scatterpolar"
           }
          ],
          "scatterpolargl": [
           {
            "line": {
             "width": 3
            },
            "marker": {
             "size": 9
            },
            "type": "scatterpolargl"
           }
          ],
          "scatterternary": [
           {
            "line": {
             "width": 3
            },
            "marker": {
             "size": 9
            },
            "type": "scatterternary"
           }
          ],
          "table": [
           {
            "cells": {
             "height": 30
            },
            "header": {
             "height": 36
            },
            "type": "table"
           }
          ]
         },
         "layout": {
          "font": {
           "size": 18
          },
          "xaxis": {
           "title": {
            "standoff": 15
           }
          },
          "yaxis": {
           "title": {
            "standoff": 15
           }
          }
         }
        },
        "title": {
         "text": "Paperless Payment Rate"
        }
       }
      },
      "image/png": "[encoded data removed]"
     },
     "metadata": {},
     "output_type": "display_data"
    }
   ],
   "source": [
    "fig = px.pie(\n",
    "    telecom_df_billing,\n",
    "    names='PaperlessBilling',\n",
    "    values='paperless_rate',\n",
    "    title='Paperless Payment Rate',\n",
    "    color_discrete_sequence=['yellow','orange']\n",
    ")\n",
    "\n",
    "fig.update_layout(\n",
    "    template=\"presentation\",\n",
    "    paper_bgcolor=\"rgba(0,0,0,0)\",\n",
    "    plot_bgcolor=\"rgba(0,0,0,0)\"\n",
    ")\n",
    "\n",
    "fig.show()\n",
    "\n",
    "fig.write_image(os.path.join(results_dir, 'paperless_rate_pie_chart.jpg'))\n",
    "fig.write_image(os.path.join(results_dir, 'paperless_rate_pie_chart.png'))\n",
    "fig.write_html(os.path.join(results_dir, 'paperless_rate_pie_chart.html'))"
   ]
  },
  {
   "cell_type": "markdown",
   "id": "e5a9192b-61f1-4276-bcbd-1db364a43a83",
   "metadata": {},
   "source": [
    "- A **majority of customers (59%)** prefer receiving their bills electronically, which suggests a strong adoption of digital billing methods.\n",
    "- However, **41% still receive paper bills**, indicating that a significant portion of customers may:\n",
    "  - Be less tech-savvy\n",
    "  - Prefer traditional methods\n",
    "  - Have limited access to digital platforms\n",
    "\n",
    "Understanding billing preferences can help the company:\n",
    "- Promote environmentally friendly practices\n",
    "- Reduce mailing costs"
   ]
  },
  {
   "cell_type": "markdown",
   "id": "89cc663f-cb49-477e-a1f0-ba1e5e0a4103",
   "metadata": {},
   "source": [
    "### Number of Contracts \n",
    "Customers in the dataset are categorized based on the type of contract they hold. Here's the breakdown:\r\n",
    "\r\n",
    "- **Month-to-Month**: 3,875 customers\r\n",
    "- **One Year**: 1,473 customers\r\n",
    "- **Two Year**: 1,695 customers"
   ]
  },
  {
   "cell_type": "code",
   "execution_count": 200,
   "id": "9019b6f8-b4d3-40f4-9d9d-8884d94b4ff7",
   "metadata": {},
   "outputs": [
    {
     "data": {
      "text/html": [
       "<div>\n",
       "<style scoped>\n",
       "    .dataframe tbody tr th:only-of-type {\n",
       "        vertical-align: middle;\n",
       "    }\n",
       "\n",
       "    .dataframe tbody tr th {\n",
       "        vertical-align: top;\n",
       "    }\n",
       "\n",
       "    .dataframe thead th {\n",
       "        text-align: right;\n",
       "    }\n",
       "</style>\n",
       "<table border=\"1\" class=\"dataframe\">\n",
       "  <thead>\n",
       "    <tr style=\"text-align: right;\">\n",
       "      <th></th>\n",
       "      <th>Contract</th>\n",
       "      <th>Number_of_contract</th>\n",
       "    </tr>\n",
       "  </thead>\n",
       "  <tbody>\n",
       "    <tr>\n",
       "      <th>0</th>\n",
       "      <td>month-to-month</td>\n",
       "      <td>3875</td>\n",
       "    </tr>\n",
       "    <tr>\n",
       "      <th>1</th>\n",
       "      <td>one year</td>\n",
       "      <td>1473</td>\n",
       "    </tr>\n",
       "    <tr>\n",
       "      <th>2</th>\n",
       "      <td>two year</td>\n",
       "      <td>1695</td>\n",
       "    </tr>\n",
       "  </tbody>\n",
       "</table>\n",
       "</div>"
      ],
      "text/plain": [
       "         Contract  Number_of_contract\n",
       "0  month-to-month                3875\n",
       "1        one year                1473\n",
       "2        two year                1695"
      ]
     },
     "execution_count": 200,
     "metadata": {},
     "output_type": "execute_result"
    }
   ],
   "source": [
    "telecom_df_contract = telecom_df.groupby('Contract').size().reset_index(name='Number_of_contract')\n",
    "telecom_df_contract['Number_of_contract'] = telecom_df_contract['Number_of_contract'].round(2)\n",
    "telecom_df_contract\n"
   ]
  },
  {
   "cell_type": "code",
   "execution_count": 211,
   "id": "6ce28f74-ed6c-488a-a0d4-c47818bdb289",
   "metadata": {},
   "outputs": [
    {
     "data": {
      "application/vnd.plotly.v1+json": {
       "config": {
        "plotlyServerURL": "https://plot.ly"
       },
       "data": [
        {
         "hovertemplate": "Contract=%{x}<br>Number_of_contract=%{text}<extra></extra>",
         "insidetextanchor": "middle",
         "legendgroup": "month-to-month",
         "marker": {
          "color": "yellow",
          "pattern": {
           "shape": ""
          }
         },
         "name": "month-to-month",
         "orientation": "v",
         "showlegend": true,
         "text": {
          "_inputArray": {
           "0": 3875,
           "bdata": "AAAAAABGrkA=",
           "dtype": "f8",
           "shape": "1"
          },
          "bdata": "AAAAAABGrkA=",
          "dtype": "f8"
         },
         "textposition": "inside",
         "texttemplate": "%{text:.0f}",
         "type": "bar",
         "x": [
          "month-to-month"
         ],
         "xaxis": "x",
         "y": {
          "_inputArray": {
           "0": 3875,
           "bdata": "Iw8=",
           "dtype": "i2",
           "shape": "1"
          },
          "bdata": "Iw8=",
          "dtype": "i2"
         },
         "yaxis": "y"
        },
        {
         "hovertemplate": "Contract=%{x}<br>Number_of_contract=%{text}<extra></extra>",
         "insidetextanchor": "middle",
         "legendgroup": "one year",
         "marker": {
          "color": "orange",
          "pattern": {
           "shape": ""
          }
         },
         "name": "one year",
         "orientation": "v",
         "showlegend": true,
         "text": {
          "_inputArray": {
           "0": 1473,
           "bdata": "AAAAAAAEl0A=",
           "dtype": "f8",
           "shape": "1"
          },
          "bdata": "AAAAAAAEl0A=",
          "dtype": "f8"
         },
         "textposition": "inside",
         "texttemplate": "%{text:.0f}",
         "type": "bar",
         "x": [
          "one year"
         ],
         "xaxis": "x",
         "y": {
          "_inputArray": {
           "0": 1473,
           "bdata": "wQU=",
           "dtype": "i2",
           "shape": "1"
          },
          "bdata": "wQU=",
          "dtype": "i2"
         },
         "yaxis": "y"
        },
        {
         "hovertemplate": "Contract=%{x}<br>Number_of_contract=%{text}<extra></extra>",
         "insidetextanchor": "middle",
         "legendgroup": "two year",
         "marker": {
          "color": "red",
          "pattern": {
           "shape": ""
          }
         },
         "name": "two year",
         "orientation": "v",
         "showlegend": true,
         "text": {
          "_inputArray": {
           "0": 1695,
           "bdata": "AAAAAAB8mkA=",
           "dtype": "f8",
           "shape": "1"
          },
          "bdata": "AAAAAAB8mkA=",
          "dtype": "f8"
         },
         "textposition": "inside",
         "texttemplate": "%{text:.0f}",
         "type": "bar",
         "x": [
          "two year"
         ],
         "xaxis": "x",
         "y": {
          "_inputArray": {
           "0": 1695,
           "bdata": "nwY=",
           "dtype": "i2",
           "shape": "1"
          },
          "bdata": "nwY=",
          "dtype": "i2"
         },
         "yaxis": "y"
        }
       ],
       "layout": {
        "autosize": true,
        "barmode": "relative",
        "font": {
         "color": "black",
         "family": "Arial",
         "size": 14
        },
        "legend": {
         "title": {
          "text": "Contract"
         },
         "tracegroupgap": 0
        },
        "margin": {
         "b": 100,
         "l": 80,
         "r": 50,
         "t": 80
        },
        "paper_bgcolor": "rgba(0, 0, 0, 0)",
        "plot_bgcolor": "rgba(0, 0, 0, 0)",
        "showlegend": false,
        "template": {
         "data": {
          "pie": [
           {
            "automargin": true,
            "type": "pie"
           }
          ],
          "scatter": [
           {
            "line": {
             "width": 3
            },
            "marker": {
             "size": 9
            },
            "type": "scatter"
           }
          ],
          "scatter3d": [
           {
            "line": {
             "width": 3
            },
            "marker": {
             "size": 9
            },
            "type": "scatter3d"
           }
          ],
          "scattergeo": [
           {
            "line": {
             "width": 3
            },
            "marker": {
             "size": 9
            },
            "type": "scattergeo"
           }
          ],
          "scattergl": [
           {
            "line": {
             "width": 3
            },
            "marker": {
             "size": 9
            },
            "type": "scattergl"
           }
          ],
          "scatterpolar": [
           {
            "line": {
             "width": 3
            },
            "marker": {
             "size": 9
            },
            "type": "scatterpolar"
           }
          ],
          "scatterpolargl": [
           {
            "line": {
             "width": 3
            },
            "marker": {
             "size": 9
            },
            "type": "scatterpolargl"
           }
          ],
          "scatterternary": [
           {
            "line": {
             "width": 3
            },
            "marker": {
             "size": 9
            },
            "type": "scatterternary"
           }
          ],
          "table": [
           {
            "cells": {
             "height": 30
            },
            "header": {
             "height": 36
            },
            "type": "table"
           }
          ]
         },
         "layout": {
          "font": {
           "size": 18
          },
          "xaxis": {
           "title": {
            "standoff": 15
           }
          },
          "yaxis": {
           "title": {
            "standoff": 15
           }
          }
         }
        },
        "title": {
         "font": {
          "family": "Arial",
          "size": 20
         },
         "text": "Number of Contract"
        },
        "xaxis": {
         "anchor": "y",
         "autorange": true,
         "categoryarray": [
          "month-to-month",
          "one year",
          "two year"
         ],
         "categoryorder": "array",
         "domain": [
          0,
          1
         ],
         "range": [
          -0.5,
          2.5
         ],
         "title": {
          "text": "Contract Type"
         },
         "type": "category"
        },
        "yaxis": {
         "anchor": "x",
         "autorange": true,
         "domain": [
          0,
          1
         ],
         "range": [
          0,
          4078.9473684210525
         ],
         "title": {
          "text": "Number"
         },
         "type": "linear"
        }
       }
      },
      "image/png": "[encoded data removed]"
     },
     "metadata": {},
     "output_type": "display_data"
    },
    {
     "name": "stderr",
     "output_type": "stream",
     "text": [
      "WARNING\tThread(Thread-72 (run)) Task(Task-1226) choreographer.browser_async:browser_async.py:_close()- Resorting to unclean kill browser.\n"
     ]
    }
   ],
   "source": [
    "\n",
    "fig = px.bar(\n",
    "    telecom_df_contract,\n",
    "    x='Contract',\n",
    "    y='Number_of_contract',\n",
    "    color='Contract',  \n",
    "    title='Number of Contract',\n",
    "    text='Number_of_contract',\n",
    "    color_discrete_sequence=['yellow', 'orange', 'red', 'violet']\n",
    ")\n",
    "\n",
    "fig.update_traces(\n",
    "    texttemplate='%{text:.0f}',  \n",
    "    textposition='inside',\n",
    "    insidetextanchor='middle'\n",
    ")\n",
    "\n",
    "fig.update_layout(\n",
    "    template=\"presentation\",\n",
    "    xaxis_title='Contract Type',\n",
    "    yaxis_title='Number',\n",
    "    showlegend=False,\n",
    "    font=dict(\n",
    "        family=\"Arial\",\n",
    "        size=14,\n",
    "        color=\"black\"\n",
    "    ),\n",
    "    title_font=dict(\n",
    "        family=\"Arial\",\n",
    "        size=20\n",
    "    ),\n",
    "    margin=dict(l=80, r=50, t=80, b=100),\n",
    "    paper_bgcolor=\"rgba(0,0,0,0)\",\n",
    "    plot_bgcolor=\"rgba(0,0,0,0)\"\n",
    ")\n",
    "\n",
    "fig.show()\n",
    "\n",
    "fig.write_image(os.path.join(results_dir, 'Contract_Number_bar_chart.jpg'))\n",
    "fig.write_image(os.path.join(results_dir, 'Contract_Number_bar_chart.png'))\n",
    "fig.write_html(os.path.join(results_dir, 'Contract_Number_bar_chart.html'))\n",
    "\n"
   ]
  },
  {
   "cell_type": "markdown",
   "id": "fb5cebfd-9a4c-4e6e-96f3-587bc6275587",
   "metadata": {},
   "source": [
    "- The majority of customers (**~57%**) are on **month-to-month contracts**, which are typically more flexible and easier to cancel.\n",
    "- Long-term contracts (one-year and two-year combined) account for **~43%** of the customer base.\n",
    "- Customers on month-to-month contracts may be **more likely to churn**, as they face fewer barriers to switching providers.\n",
    "- In contrast, those with longer contracts may demonstrate **higher retention** due to commitment incentives or penalties for early termination.\n"
   ]
  },
  {
   "cell_type": "code",
   "execution_count": null,
   "id": "b09454a8-0ebf-4794-a0ab-ecbfc4e0a24e",
   "metadata": {},
   "outputs": [],
   "source": []
  }
 ],
 "metadata": {
  "kernelspec": {
   "display_name": "Python [conda env:base] *",
   "language": "python",
   "name": "conda-base-py"
  },
  "language_info": {
   "codemirror_mode": {
    "name": "ipython",
    "version": 3
   },
   "file_extension": ".py",
   "mimetype": "text/x-python",
   "name": "python",
   "nbconvert_exporter": "python",
   "pygments_lexer": "ipython3",
   "version": "3.12.4"
  }
 },
 "nbformat": 4,
 "nbformat_minor": 5
}
